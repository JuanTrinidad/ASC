{
 "cells": [
  {
   "cell_type": "code",
   "execution_count": 67,
   "id": "a60ce4cf-369e-4c9c-8bd8-b862b6d47600",
   "metadata": {},
   "outputs": [],
   "source": [
    "import pandas as pd\n",
    "import argparse"
   ]
  },
  {
   "cell_type": "markdown",
   "id": "fcfe375e-92bc-4b20-ba83-23d904bc53b0",
   "metadata": {},
   "source": [
    "\n",
    "parser = argparse.ArgumentParser()\n",
    "\n",
    "parser.add_argument('--file1', type=argparse.FileType('r'), help='Path to input file')\n",
    "parser.add_argument('--file2', type=argparse.FileType('r'), help='Path to input file')\n",
    "parser.add_argument('--file3', type=argparse.FileType('r'), help='Path to input file')\n",
    "parser.add_argument('--file4', type=argparse.FileType('r'), help='Path to input file')\n",
    "parser.add_argument('--initialfasta', type=argparse.FileType('r'), help='Path to input fasta file')\n",
    "parser.add_argument('--output', type=argparse.FileType('r'), help='Path to output file')\n",
    "\n",
    "args = parser.parse_args()\n",
    "\n",
    "\n"
   ]
  },
  {
   "cell_type": "markdown",
   "id": "454507d1-5d49-45dd-9232-ddbaf47e1b39",
   "metadata": {},
   "source": [
    "file1 = args.file1.name\n",
    "file2 = args.file2.name\n",
    "file3 = args.file3.name\n",
    "file4 = args.file4.name\n",
    "file_fasta = args.initialfasta.name\n",
    "output = args.output.name"
   ]
  },
  {
   "cell_type": "code",
   "execution_count": null,
   "id": "8fbedead-723d-451b-97b3-53093d0e6ef8",
   "metadata": {},
   "outputs": [],
   "source": []
  },
  {
   "cell_type": "code",
   "execution_count": 84,
   "id": "f15d280e-19eb-427c-aecb-2389535c9067",
   "metadata": {},
   "outputs": [],
   "source": [
    "file1 = '../genome_data_sets/query_proteomes/mmseqs2_seq_clusters/clusterRes_db.tsv'\n",
    "file2 = '../report_files/protein_structure_pLDDT_mean.tsv'\n",
    "file3 = '../../Doctorado_kinetoplastids_genome_annotation/reports_files/fasta_header_to_uniprot_used.tsv'\n",
    "file4 = '../mandatory_files/Ortholog_group_to_geneID.tsv'\n",
    "file_fasta = '../genome_data_sets/query_proteomes/fasta_files/TriTrypDB-63_All_species_clean.fa'\n",
    "output_info = '../report_files/ortholog_groups_structure_stats.tsv'\n",
    "output = '../report_files/ortholog_groups_x_sequence_clustering_x_UNIPROT.tsv'"
   ]
  },
  {
   "cell_type": "code",
   "execution_count": null,
   "id": "97022f5d-6ef1-425b-aa94-9f55ab8d23f3",
   "metadata": {},
   "outputs": [
    {
     "name": "stdout",
     "output_type": "stream",
     "text": [
      "(677726, 2)\n"
     ]
    }
   ],
   "source": [
    "df_clusters=pd.read_csv(file1,\n",
    "           sep='\\t',\n",
    "           header=None,\n",
    "           names=['cluster_representer','cluster_member'])\n",
    "\n",
    "#print(df_clusters.shape)"
   ]
  },
  {
   "cell_type": "code",
   "execution_count": 70,
   "id": "d22d21af-534f-4aea-9987-440d5275bff7",
   "metadata": {},
   "outputs": [],
   "source": [
    "df_pLDDT = pd.read_csv(file2, \n",
    "                       sep='\\t', \n",
    "                       header=None, \n",
    "                       names = ['uniprot', 'pLDDT_mean'])\n",
    "\n",
    "#print(df_pLDDT.shape)"
   ]
  },
  {
   "cell_type": "code",
   "execution_count": 71,
   "id": "54d0e4c4-0bd1-4924-8f2f-6c5276746f22",
   "metadata": {},
   "outputs": [],
   "source": [
    "df_geneId_uniprot = pd.read_csv(file3, \n",
    "                       sep='\\t', \n",
    "                       names = ['Gene ID', 'uniprot'])\n",
    "\n",
    "#print(df_geneId_uniprot.shape)"
   ]
  },
  {
   "cell_type": "code",
   "execution_count": 72,
   "id": "3d59e7d7-3903-4b8a-9893-bce4e837eb74",
   "metadata": {
    "tags": []
   },
   "outputs": [],
   "source": [
    "df_orthologG = pd.read_csv(file4, \n",
    "                       sep='\\t', \n",
    "                       names = ['Ortholog_Group', 'Gene ID'])\n",
    "\n",
    "#print(df_orthologG.shape)\n",
    "#print(df_orthologG.Ortholog_Group.nunique())"
   ]
  },
  {
   "cell_type": "code",
   "execution_count": null,
   "id": "cf6e0c03-3918-4d16-9bfc-fa9a761bba87",
   "metadata": {},
   "outputs": [],
   "source": []
  },
  {
   "cell_type": "code",
   "execution_count": null,
   "id": "7542b171-ec65-42f2-ac06-be0a219e3935",
   "metadata": {},
   "outputs": [],
   "source": []
  },
  {
   "cell_type": "code",
   "execution_count": 73,
   "id": "57626bbc-5679-4c69-8057-6f489e5f3342",
   "metadata": {},
   "outputs": [
    {
     "name": "stdout",
     "output_type": "stream",
     "text": [
      "(677726, 5)\n"
     ]
    }
   ],
   "source": [
    "# uno los DF para agregar a los cluster el codigo uniprot y con eso agregar el valor promedio de pLDDT\n",
    "df_merged = (df_clusters\n",
    " .merge(df_geneId_uniprot, left_on='cluster_member', right_on='Gene ID', how='left')\n",
    " .merge(df_pLDDT, left_on='uniprot', right_on='uniprot', how='left')\n",
    ")\n",
    "#print(df_merged.shape)"
   ]
  },
  {
   "cell_type": "code",
   "execution_count": null,
   "id": "59c4c2f7-52ad-4303-8034-297e7a3689ca",
   "metadata": {},
   "outputs": [],
   "source": []
  },
  {
   "cell_type": "code",
   "execution_count": 74,
   "id": "0f28f269-ff10-431a-8a93-617e7c8b9bbc",
   "metadata": {},
   "outputs": [],
   "source": [
    "#en cada cluster me quedo con la mejor estructura para luego agregar esta al df de cluster y asignar estructura a proteinas no modeladas.\n",
    "#esto es importante porque en los cluster de homologos hay algunos de estos genes que no estan dentro no se porque pero si hago esta reduccion al menos puedo asignar una estructura al cluster.\n",
    "#si no hago esto me quedo con un total de 30915 grupos de orthologos con estructura asignada. Yo asumo que debe ser porque se modelo un paralogo o algo asi y por eso no estan en el grupo.\n",
    "\n",
    "df_merged_best_PS = (df_merged\n",
    "                     .sort_values('pLDDT_mean', ascending=False)\n",
    "                     .drop_duplicates(subset='cluster_representer',keep='first'))"
   ]
  },
  {
   "cell_type": "code",
   "execution_count": 75,
   "id": "49be0dfb-f916-4a53-9c9b-cb08be67991f",
   "metadata": {},
   "outputs": [],
   "source": [
    "#objeto para mapear al df de cluster solo con la informacion necesaria\n",
    "to_map_df_merged_best_PS = df_merged_best_PS[['cluster_representer', 'uniprot', 'pLDDT_mean']]"
   ]
  },
  {
   "cell_type": "code",
   "execution_count": null,
   "id": "119db102-9fee-48eb-a0d2-c5e6030b11c9",
   "metadata": {},
   "outputs": [],
   "source": []
  },
  {
   "cell_type": "code",
   "execution_count": null,
   "id": "26245229-e84c-45e6-af51-059b0066e5df",
   "metadata": {},
   "outputs": [],
   "source": []
  },
  {
   "cell_type": "code",
   "execution_count": 76,
   "id": "05cfdf65-fb3c-48d5-b408-2de9ae071c0f",
   "metadata": {},
   "outputs": [],
   "source": [
    "#asignando estructura de proteina de alguna modelada con 90 de identidad de secuencia\n",
    "df_clusters = df_clusters.merge(to_map_df_merged_best_PS, left_on='cluster_representer', right_on='cluster_representer', how='left')"
   ]
  },
  {
   "cell_type": "code",
   "execution_count": null,
   "id": "b74fb819-12ad-46dd-b15c-f17544171027",
   "metadata": {},
   "outputs": [],
   "source": []
  },
  {
   "cell_type": "code",
   "execution_count": 77,
   "id": "e061241e-93f5-48b1-93ee-a89c7e63f6a2",
   "metadata": {},
   "outputs": [],
   "source": [
    "df_orthologG_plus_structure = df_orthologG.merge(df_clusters, left_on='Gene ID', right_on='cluster_member')\n",
    "df_orthologG_plus_structure = df_orthologG_plus_structure.drop_duplicates(keep='first')"
   ]
  },
  {
   "cell_type": "code",
   "execution_count": 79,
   "id": "951e4fe5-f8c0-4bc8-a031-884681a47b85",
   "metadata": {},
   "outputs": [
    {
     "name": "stdout",
     "output_type": "stream",
     "text": [
      "Total number of otholog groups: 53705\n",
      "The number of otholog groups with protein structure assigned are: 30083\n",
      "Fraction: 0.56\n"
     ]
    }
   ],
   "source": [
    "print('Total number of otholog groups:', df_orthologG.Ortholog_Group.nunique())\n",
    "print('The number of otholog groups with protein structure assigned are:', df_orthologG_plus_structure.dropna(subset=['uniprot']).Ortholog_Group.nunique())\n",
    "print('Fraction:',  round(df_orthologG_plus_structure.dropna(subset=['uniprot']).Ortholog_Group.nunique() / df_orthologG.Ortholog_Group.nunique(), 3) )"
   ]
  },
  {
   "cell_type": "code",
   "execution_count": null,
   "id": "55335e54-4949-4103-8805-5db53d74f82b",
   "metadata": {},
   "outputs": [],
   "source": []
  },
  {
   "cell_type": "code",
   "execution_count": null,
   "id": "7a348f4e-f72e-417e-8449-480df95a3fa5",
   "metadata": {},
   "outputs": [],
   "source": []
  },
  {
   "cell_type": "code",
   "execution_count": 92,
   "id": "14c88c17-109f-41e3-a51c-15c25ebacf0f",
   "metadata": {},
   "outputs": [],
   "source": [
    "#csv output info\n",
    "#(df_orthologG_plus_structure\n",
    "# .groupby('Ortholog_Group')['pLDDT_mean']\n",
    "# .agg(['mean', 'median', 'min', 'max', 'std', 'skew'])\n",
    "# .to_csv(output_info, sep='\\t')\n",
    "#)"
   ]
  },
  {
   "cell_type": "code",
   "execution_count": 80,
   "id": "2745e9db-375b-45c7-aa40-2f5de19c9106",
   "metadata": {
    "tags": []
   },
   "outputs": [],
   "source": [
    "\n",
    "#csv output\n",
    "df_orthologG_plus_structure.sort_values(['Ortholog_Group','cluster_representer']).to_csv(output, sep='\\t',index=False)"
   ]
  },
  {
   "cell_type": "code",
   "execution_count": null,
   "id": "03cfe653-063c-4ecc-9295-18179e6a09eb",
   "metadata": {},
   "outputs": [],
   "source": []
  },
  {
   "cell_type": "markdown",
   "id": "e6309418-8ed1-47ec-957b-993a0538bbf8",
   "metadata": {},
   "source": [
    "# Creating fasta file for no modelated proteins "
   ]
  },
  {
   "cell_type": "code",
   "execution_count": 81,
   "id": "74d3767c-1c0d-4cf6-b15d-4de680503b25",
   "metadata": {},
   "outputs": [],
   "source": [
    "from Bio import SeqIO"
   ]
  },
  {
   "cell_type": "code",
   "execution_count": 82,
   "id": "0ae0afa1-d493-492c-937d-fa5f3a075370",
   "metadata": {},
   "outputs": [
    {
     "data": {
      "text/plain": [
       "36756"
      ]
     },
     "execution_count": 82,
     "metadata": {},
     "output_type": "execute_result"
    }
   ],
   "source": [
    "df_orthologG_plus_structure[df_orthologG_plus_structure.uniprot.isna()]['Ortholog_Group'].nunique()"
   ]
  },
  {
   "cell_type": "code",
   "execution_count": 83,
   "id": "0a74e7f2-e308-403e-a3eb-b1491e8ffbcc",
   "metadata": {},
   "outputs": [
    {
     "data": {
      "text/html": [
       "<div>\n",
       "<style scoped>\n",
       "    .dataframe tbody tr th:only-of-type {\n",
       "        vertical-align: middle;\n",
       "    }\n",
       "\n",
       "    .dataframe tbody tr th {\n",
       "        vertical-align: top;\n",
       "    }\n",
       "\n",
       "    .dataframe thead th {\n",
       "        text-align: right;\n",
       "    }\n",
       "</style>\n",
       "<table border=\"1\" class=\"dataframe\">\n",
       "  <thead>\n",
       "    <tr style=\"text-align: right;\">\n",
       "      <th></th>\n",
       "      <th>Ortholog_Group</th>\n",
       "      <th>Gene ID</th>\n",
       "      <th>cluster_representer</th>\n",
       "      <th>cluster_member</th>\n",
       "      <th>uniprot</th>\n",
       "      <th>pLDDT_mean</th>\n",
       "    </tr>\n",
       "  </thead>\n",
       "  <tbody>\n",
       "    <tr>\n",
       "      <th>0</th>\n",
       "      <td>OG6_158218</td>\n",
       "      <td>TRSC58_00001</td>\n",
       "      <td>TRSC58_00001</td>\n",
       "      <td>TRSC58_00001</td>\n",
       "      <td>A0A422P0W0</td>\n",
       "      <td>96.0</td>\n",
       "    </tr>\n",
       "    <tr>\n",
       "      <th>1</th>\n",
       "      <td>OG6_100831</td>\n",
       "      <td>TRSC58_00002</td>\n",
       "      <td>TRSC58_00002</td>\n",
       "      <td>TRSC58_00002</td>\n",
       "      <td>A0A061JBD6</td>\n",
       "      <td>56.0</td>\n",
       "    </tr>\n",
       "    <tr>\n",
       "      <th>2</th>\n",
       "      <td>OG6_102428</td>\n",
       "      <td>TRSC58_00003</td>\n",
       "      <td>TRSC58_00003</td>\n",
       "      <td>TRSC58_00003</td>\n",
       "      <td>A0A061J9W1</td>\n",
       "      <td>83.0</td>\n",
       "    </tr>\n",
       "    <tr>\n",
       "      <th>3</th>\n",
       "      <td>OG6_173740</td>\n",
       "      <td>TRSC58_00004</td>\n",
       "      <td>TRSC58_00004</td>\n",
       "      <td>TRSC58_00004</td>\n",
       "      <td>A0A422P470</td>\n",
       "      <td>78.0</td>\n",
       "    </tr>\n",
       "    <tr>\n",
       "      <th>4</th>\n",
       "      <td>OG6_101177</td>\n",
       "      <td>TRSC58_00005</td>\n",
       "      <td>TRSC58_00005</td>\n",
       "      <td>TRSC58_00005</td>\n",
       "      <td>A0A422P430</td>\n",
       "      <td>73.0</td>\n",
       "    </tr>\n",
       "    <tr>\n",
       "      <th>...</th>\n",
       "      <td>...</td>\n",
       "      <td>...</td>\n",
       "      <td>...</td>\n",
       "      <td>...</td>\n",
       "      <td>...</td>\n",
       "      <td>...</td>\n",
       "    </tr>\n",
       "    <tr>\n",
       "      <th>679267</th>\n",
       "      <td>OG6r16_512199</td>\n",
       "      <td>ECC02_013890</td>\n",
       "      <td>ECC02_013890</td>\n",
       "      <td>ECC02_013890</td>\n",
       "      <td>A0A7J6XG27</td>\n",
       "      <td>50.0</td>\n",
       "    </tr>\n",
       "    <tr>\n",
       "      <th>679269</th>\n",
       "      <td>OG6r16_512030</td>\n",
       "      <td>ECC02_013892</td>\n",
       "      <td>ECC02_013892</td>\n",
       "      <td>ECC02_013892</td>\n",
       "      <td>A0A7J6XG20</td>\n",
       "      <td>58.0</td>\n",
       "    </tr>\n",
       "    <tr>\n",
       "      <th>679270</th>\n",
       "      <td>OG6_100177</td>\n",
       "      <td>ECC02_013893</td>\n",
       "      <td>ECC02_013893</td>\n",
       "      <td>ECC02_013893</td>\n",
       "      <td>A0A2V2X5C9</td>\n",
       "      <td>53.0</td>\n",
       "    </tr>\n",
       "    <tr>\n",
       "      <th>679277</th>\n",
       "      <td>OG6r16_116704</td>\n",
       "      <td>ECC02_013901</td>\n",
       "      <td>ECC02_013901</td>\n",
       "      <td>ECC02_013901</td>\n",
       "      <td>A0A7J6XI59</td>\n",
       "      <td>31.0</td>\n",
       "    </tr>\n",
       "    <tr>\n",
       "      <th>679278</th>\n",
       "      <td>OG6r16_512134</td>\n",
       "      <td>ECC02_013902</td>\n",
       "      <td>ECC02_013223</td>\n",
       "      <td>ECC02_013902</td>\n",
       "      <td>A0A7J6XIE3</td>\n",
       "      <td>31.0</td>\n",
       "    </tr>\n",
       "  </tbody>\n",
       "</table>\n",
       "<p>278123 rows × 6 columns</p>\n",
       "</div>"
      ],
      "text/plain": [
       "       Ortholog_Group       Gene ID cluster_representer cluster_member  \\\n",
       "0          OG6_158218  TRSC58_00001        TRSC58_00001   TRSC58_00001   \n",
       "1          OG6_100831  TRSC58_00002        TRSC58_00002   TRSC58_00002   \n",
       "2          OG6_102428  TRSC58_00003        TRSC58_00003   TRSC58_00003   \n",
       "3          OG6_173740  TRSC58_00004        TRSC58_00004   TRSC58_00004   \n",
       "4          OG6_101177  TRSC58_00005        TRSC58_00005   TRSC58_00005   \n",
       "...               ...           ...                 ...            ...   \n",
       "679267  OG6r16_512199  ECC02_013890        ECC02_013890   ECC02_013890   \n",
       "679269  OG6r16_512030  ECC02_013892        ECC02_013892   ECC02_013892   \n",
       "679270     OG6_100177  ECC02_013893        ECC02_013893   ECC02_013893   \n",
       "679277  OG6r16_116704  ECC02_013901        ECC02_013901   ECC02_013901   \n",
       "679278  OG6r16_512134  ECC02_013902        ECC02_013223   ECC02_013902   \n",
       "\n",
       "           uniprot  pLDDT_mean  \n",
       "0       A0A422P0W0        96.0  \n",
       "1       A0A061JBD6        56.0  \n",
       "2       A0A061J9W1        83.0  \n",
       "3       A0A422P470        78.0  \n",
       "4       A0A422P430        73.0  \n",
       "...            ...         ...  \n",
       "679267  A0A7J6XG27        50.0  \n",
       "679269  A0A7J6XG20        58.0  \n",
       "679270  A0A2V2X5C9        53.0  \n",
       "679277  A0A7J6XI59        31.0  \n",
       "679278  A0A7J6XIE3        31.0  \n",
       "\n",
       "[278123 rows x 6 columns]"
      ]
     },
     "execution_count": 83,
     "metadata": {},
     "output_type": "execute_result"
    }
   ],
   "source": [
    "df_orthologG_plus_structure.drop_duplicates(['Ortholog_Group', 'cluster_representer'])"
   ]
  },
  {
   "cell_type": "code",
   "execution_count": null,
   "id": "50b62777-e1fb-4e96-a7f9-1273a87edbd1",
   "metadata": {},
   "outputs": [],
   "source": []
  }
 ],
 "metadata": {
  "kernelspec": {
   "display_name": "Python 3 (ipykernel)",
   "language": "python",
   "name": "python3"
  },
  "language_info": {
   "codemirror_mode": {
    "name": "ipython",
    "version": 3
   },
   "file_extension": ".py",
   "mimetype": "text/x-python",
   "name": "python",
   "nbconvert_exporter": "python",
   "pygments_lexer": "ipython3",
   "version": "3.8.8"
  }
 },
 "nbformat": 4,
 "nbformat_minor": 5
}
