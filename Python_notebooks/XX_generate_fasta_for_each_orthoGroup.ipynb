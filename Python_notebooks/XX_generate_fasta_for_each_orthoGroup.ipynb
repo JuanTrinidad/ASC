{
 "cells": [
  {
   "cell_type": "code",
   "execution_count": null,
   "id": "a79a4c5c-d07e-4ef2-9a95-91cfb6eea71b",
   "metadata": {},
   "outputs": [],
   "source": []
  },
  {
   "cell_type": "code",
   "execution_count": null,
   "id": "58768aba-751c-4c04-87e6-8b41ac99fc29",
   "metadata": {},
   "outputs": [],
   "source": []
  },
  {
   "cell_type": "markdown",
   "id": "45fc2c68-b3a4-419c-9aae-bf478cdc8c58",
   "metadata": {},
   "source": [
    "# Creating fasta file for no modelated proteins - va a ser una optative rule"
   ]
  },
  {
   "cell_type": "code",
   "execution_count": 1,
   "id": "12eb168a-53ec-409e-b441-add3434dc9b8",
   "metadata": {},
   "outputs": [],
   "source": [
    "import pandas as pd\n",
    "from Bio import SeqIO\n",
    "import os\n",
    "import multiprocessing"
   ]
  },
  {
   "cell_type": "code",
   "execution_count": null,
   "id": "0134f307-d41c-42e3-9d25-71e614fa87b3",
   "metadata": {},
   "outputs": [],
   "source": [
    "to_be_modelated = pd.read_csv('../report_files/')"
   ]
  },
  {
   "cell_type": "code",
   "execution_count": 79,
   "id": "e992e5ad-1abc-438a-9715-3bc3706b7369",
   "metadata": {
    "tags": []
   },
   "outputs": [],
   "source": [
    "#funtion to search into fasta file and create cluster fasta files\n",
    "\n",
    "def looking_in_fasta_file(name_geid_list):\n",
    "\n",
    "    with open(file_fasta, \"r\") as input_file:\n",
    "        \n",
    "        dest_dir = '../report_files/clusters_sequences_to_be_modelated/'\n",
    "        name =  dest_dir + name_geid_list[0] + '.fasta'\n",
    "        \n",
    "        if not os.path.exists(dest_dir):\n",
    "            os.makedirs(dest_dir)\n",
    "            \n",
    "        with open(name, \"w\") as output_file:\n",
    "\n",
    "            for record in SeqIO.parse(input_file, \"fasta\"):\n",
    "\n",
    "                if record.id in name_geid_list[1]:\n",
    "\n",
    "                    SeqIO.write(record, output_file, \"fasta\")"
   ]
  },
  {
   "cell_type": "code",
   "execution_count": 81,
   "id": "5c8b80b1-030d-4890-a15f-67bf535a2d8a",
   "metadata": {
    "tags": []
   },
   "outputs": [],
   "source": [
    "list_to_parallelice = []\n",
    "for i in to_be_modelated.groupby('Ortholog_Group')['Gene ID'].unique().to_frame().iterrows():\n",
    "    \n",
    "    #print(i[0], i[1][0])\n",
    "    list_to_parallelice.append([ i[0], list(i[1][0]) ] )"
   ]
  },
  {
   "cell_type": "code",
   "execution_count": null,
   "id": "4a76e97f-d366-4a3b-98e1-d9e6ca45d5fc",
   "metadata": {},
   "outputs": [],
   "source": []
  },
  {
   "cell_type": "code",
   "execution_count": null,
   "id": "10187a1c-7e8b-4be3-9b0a-0c151c99b5bf",
   "metadata": {},
   "outputs": [],
   "source": [
    "\n",
    "# Create a multiprocessing pool.\n",
    "pool = multiprocessing.Pool()\n",
    "\n",
    "# Process the list in parallel.\n",
    "results = pool.map(looking_in_fasta_file, list_to_parallelice)\n",
    "\n",
    "# Close the pool.\n",
    "pool.close()"
   ]
  }
 ],
 "metadata": {
  "kernelspec": {
   "display_name": "Python 3 (ipykernel)",
   "language": "python",
   "name": "python3"
  },
  "language_info": {
   "codemirror_mode": {
    "name": "ipython",
    "version": 3
   },
   "file_extension": ".py",
   "mimetype": "text/x-python",
   "name": "python",
   "nbconvert_exporter": "python",
   "pygments_lexer": "ipython3",
   "version": "3.8.8"
  }
 },
 "nbformat": 4,
 "nbformat_minor": 5
}
