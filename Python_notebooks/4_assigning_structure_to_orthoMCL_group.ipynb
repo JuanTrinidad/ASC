{
 "cells": [
  {
   "cell_type": "code",
   "execution_count": 48,
   "id": "a60ce4cf-369e-4c9c-8bd8-b862b6d47600",
   "metadata": {},
   "outputs": [],
   "source": [
    "import pandas as pd\n",
    "import argparse"
   ]
  },
  {
   "cell_type": "code",
   "execution_count": null,
   "id": "517acbcd-19ca-4a3d-8d7b-97df5a519630",
   "metadata": {},
   "outputs": [],
   "source": [
    "\n",
    "parser = argparse.ArgumentParser()\n",
    "\n",
    "parser.add_argument('--file1', type=argparse.FileType('r'), help='Path to input file')\n",
    "parser.add_argument('--file2', type=argparse.FileType('r'), help='Path to input file')\n",
    "parser.add_argument('--file3', type=argparse.FileType('r'), help='Path to input file')\n",
    "parser.add_argument('--initialfasta', type=argparse.FileType('r'), help='Path to input fasta file')\n",
    "parser.add_argument('--outputfasta', type=argparse.FileType('w'), help='Path to input fasta file')\n",
    "parser.add_argument('--output', type=argparse.FileType('w'), help='Path to output file')\n",
    "parser.add_argument('--outputstats', type=argparse.FileType('w'), help='Path to output file')\n",
    "\n",
    "args = parser.parse_args()\n",
    "\n",
    "\n"
   ]
  },
  {
   "cell_type": "code",
   "execution_count": null,
   "id": "f2e2a881-4cb0-40ed-8fe3-a506746470d2",
   "metadata": {},
   "outputs": [],
   "source": [
    "\n",
    "file2 = args.file1.name\n",
    "file3 = args.file2.name\n",
    "file4 = args.file3.name\n",
    "\n",
    "file_fasta = args.initialfasta.name\n",
    "file_fasta_output = args.outputfasta.name\n",
    "\n",
    "\n",
    "output = args.output.name\n",
    "output_info = args.outputstats.name"
   ]
  },
  {
   "cell_type": "code",
   "execution_count": null,
   "id": "8fbedead-723d-451b-97b3-53093d0e6ef8",
   "metadata": {},
   "outputs": [],
   "source": []
  },
  {
   "cell_type": "markdown",
   "id": "b42a5ab1-015b-40c3-98f8-6835104a44da",
   "metadata": {},
   "source": [
    "\n",
    "file2 = '../report_files/protein_structure_pLDDT_mean.tsv'\n",
    "file3 = '../mandatory_files/fasta_header_to_uniprot.tsv'\n",
    "file4 = '../mandatory_files/Ortholog_group_to_geneID.tsv'\n",
    "\n",
    "file_fasta = '../genome_data_sets/query_proteomes/fasta_files/TriTrypDB-63_All_species_clean.fa'\n",
    "file_fasta_output = '../genome_data_sets/query_proteomes/fasta_files/orthoMCL_groups_to_be_modelated.fa'\n",
    "\n",
    "output_info = '../report_files/ortholog_groups_structure_stats.tsv'\n",
    "output = '../report_files/ortholog_groups_x_sequence_clustering_x_UNIPROT.tsv'"
   ]
  },
  {
   "cell_type": "code",
   "execution_count": 67,
   "id": "d22d21af-534f-4aea-9987-440d5275bff7",
   "metadata": {},
   "outputs": [],
   "source": [
    "df_pLDDT = pd.read_csv(file2, \n",
    "                       sep='\\t', \n",
    "                       header=None, \n",
    "                       names = ['uniprot', 'pLDDT_mean'])\n",
    "\n",
    "#print(df_pLDDT.shape)"
   ]
  },
  {
   "cell_type": "code",
   "execution_count": 68,
   "id": "54d0e4c4-0bd1-4924-8f2f-6c5276746f22",
   "metadata": {},
   "outputs": [],
   "source": [
    "df_geneId_uniprot = pd.read_csv(file3, \n",
    "                       sep='\\t', \n",
    "                       names = ['Gene ID', 'uniprot'])\n",
    "\n",
    "#print(df_geneId_uniprot.shape)"
   ]
  },
  {
   "cell_type": "code",
   "execution_count": 69,
   "id": "3d59e7d7-3903-4b8a-9893-bce4e837eb74",
   "metadata": {
    "tags": []
   },
   "outputs": [],
   "source": [
    "df_orthologG = pd.read_csv(file4, \n",
    "                       sep='\\t', \n",
    "                       names = ['Ortholog_Group', 'Gene ID'])\n",
    "\n",
    "#print(df_orthologG.shape)\n",
    "#print(df_orthologG.Ortholog_Group.nunique())"
   ]
  },
  {
   "cell_type": "code",
   "execution_count": null,
   "id": "cf6e0c03-3918-4d16-9bfc-fa9a761bba87",
   "metadata": {},
   "outputs": [],
   "source": []
  },
  {
   "cell_type": "code",
   "execution_count": null,
   "id": "7542b171-ec65-42f2-ac06-be0a219e3935",
   "metadata": {},
   "outputs": [],
   "source": []
  },
  {
   "cell_type": "code",
   "execution_count": 70,
   "id": "57626bbc-5679-4c69-8057-6f489e5f3342",
   "metadata": {},
   "outputs": [],
   "source": [
    "# uno los DF para agregar a los cluster el codigo uniprot y con eso agregar el valor promedio de pLDDT\n",
    "df_merged = (df_geneId_uniprot\n",
    "             .merge(df_pLDDT, left_on='uniprot', right_on='uniprot', how='left')\n",
    ")\n",
    "#print(df_merged.shape)"
   ]
  },
  {
   "cell_type": "code",
   "execution_count": null,
   "id": "b74fb819-12ad-46dd-b15c-f17544171027",
   "metadata": {},
   "outputs": [],
   "source": []
  },
  {
   "cell_type": "code",
   "execution_count": 76,
   "id": "e061241e-93f5-48b1-93ee-a89c7e63f6a2",
   "metadata": {},
   "outputs": [],
   "source": [
    "df_orthologG_plus_structure = df_orthologG.merge(df_merged, left_on='Gene ID', right_on='Gene ID', how='left')\n",
    "df_orthologG_plus_structure = df_orthologG_plus_structure.drop_duplicates(keep='first')"
   ]
  },
  {
   "cell_type": "code",
   "execution_count": null,
   "id": "4f8020a8-b8b3-44ce-9839-cee51836f118",
   "metadata": {},
   "outputs": [],
   "source": []
  },
  {
   "cell_type": "code",
   "execution_count": null,
   "id": "68cf8c77-06d3-4665-846d-9ae439f1eab4",
   "metadata": {},
   "outputs": [],
   "source": []
  },
  {
   "cell_type": "code",
   "execution_count": 83,
   "id": "951e4fe5-f8c0-4bc8-a031-884681a47b85",
   "metadata": {},
   "outputs": [
    {
     "name": "stdout",
     "output_type": "stream",
     "text": [
      "Total number of otholog groups: 53705\n",
      "The number of otholog groups with protein structure assigned are: 30915\n",
      "Fraction: 0.576\n"
     ]
    }
   ],
   "source": [
    "print('Total number of otholog groups:', df_orthologG_plus_structure.Ortholog_Group.nunique())\n",
    "print('The number of otholog groups with protein structure assigned are:', df_orthologG_plus_structure.dropna(subset=['uniprot']).Ortholog_Group.nunique())\n",
    "print('Fraction:',  round(df_orthologG_plus_structure.dropna(subset=['uniprot']).Ortholog_Group.nunique() / df_orthologG.Ortholog_Group.nunique(), 3) )"
   ]
  },
  {
   "cell_type": "code",
   "execution_count": null,
   "id": "55335e54-4949-4103-8805-5db53d74f82b",
   "metadata": {},
   "outputs": [],
   "source": []
  },
  {
   "cell_type": "code",
   "execution_count": null,
   "id": "7a348f4e-f72e-417e-8449-480df95a3fa5",
   "metadata": {},
   "outputs": [],
   "source": []
  },
  {
   "cell_type": "code",
   "execution_count": 84,
   "id": "6cdf1ab3-2186-4d20-86ef-86a08068591f",
   "metadata": {},
   "outputs": [],
   "source": [
    "#csv output info\n",
    "(df_orthologG_plus_structure\n",
    " .groupby('Ortholog_Group')['pLDDT_mean']\n",
    " .agg(['mean', 'median', 'min', 'max', 'std', 'skew'])\n",
    " .to_csv(output_info, sep='\\t')\n",
    ")"
   ]
  },
  {
   "cell_type": "code",
   "execution_count": 85,
   "id": "2745e9db-375b-45c7-aa40-2f5de19c9106",
   "metadata": {
    "tags": []
   },
   "outputs": [],
   "source": [
    "\n",
    "#csv output\n",
    "\n",
    "\n",
    "df_orthologG_plus_structure = (\n",
    "\n",
    "    df_orthologG_plus_structure\n",
    "    .sort_values('pLDDT_mean', ascending=False)\n",
    "    .drop_duplicates('Ortholog_Group', keep='first')\n",
    ")\n",
    "\n",
    "\n",
    "df_orthologG_plus_structure.to_csv(output, sep='\\t',index=False)"
   ]
  },
  {
   "cell_type": "markdown",
   "id": "e6309418-8ed1-47ec-957b-993a0538bbf8",
   "metadata": {},
   "source": [
    "# Creating fasta file for no modelated proteins "
   ]
  },
  {
   "cell_type": "code",
   "execution_count": 86,
   "id": "74d3767c-1c0d-4cf6-b15d-4de680503b25",
   "metadata": {},
   "outputs": [],
   "source": [
    "from Bio import SeqIO"
   ]
  },
  {
   "cell_type": "code",
   "execution_count": 87,
   "id": "0a74e7f2-e308-403e-a3eb-b1491e8ffbcc",
   "metadata": {},
   "outputs": [],
   "source": [
    "to_be_modelated = df_orthologG_plus_structure[df_orthologG_plus_structure['uniprot'].isna()]['Gene ID'].unique()"
   ]
  },
  {
   "cell_type": "code",
   "execution_count": 89,
   "id": "50b62777-e1fb-4e96-a7f9-1273a87edbd1",
   "metadata": {
    "collapsed": true,
    "jupyter": {
     "outputs_hidden": true
    },
    "tags": []
   },
   "outputs": [
    {
     "ename": "KeyboardInterrupt",
     "evalue": "",
     "output_type": "error",
     "traceback": [
      "\u001b[0;31m---------------------------------------------------------------------------\u001b[0m",
      "\u001b[0;31mKeyboardInterrupt\u001b[0m                         Traceback (most recent call last)",
      "Cell \u001b[0;32mIn[89], line 7\u001b[0m\n\u001b[1;32m      3\u001b[0m \u001b[38;5;28;01mwith\u001b[39;00m \u001b[38;5;28mopen\u001b[39m(file_fasta_output, \u001b[38;5;124m\"\u001b[39m\u001b[38;5;124mw\u001b[39m\u001b[38;5;124m\"\u001b[39m) \u001b[38;5;28;01mas\u001b[39;00m output_file:\n\u001b[1;32m      5\u001b[0m     \u001b[38;5;28;01mfor\u001b[39;00m record \u001b[38;5;129;01min\u001b[39;00m SeqIO\u001b[38;5;241m.\u001b[39mparse(input_file, \u001b[38;5;124m\"\u001b[39m\u001b[38;5;124mfasta\u001b[39m\u001b[38;5;124m\"\u001b[39m):\n\u001b[0;32m----> 7\u001b[0m         \u001b[38;5;28;01mif\u001b[39;00m \u001b[43mrecord\u001b[49m\u001b[38;5;241;43m.\u001b[39;49m\u001b[43mid\u001b[49m\u001b[43m \u001b[49m\u001b[38;5;129;43;01min\u001b[39;49;00m\u001b[43m \u001b[49m\u001b[43mto_be_modelated\u001b[49m:\n\u001b[1;32m      9\u001b[0m             SeqIO\u001b[38;5;241m.\u001b[39mwrite(record, output_file, \u001b[38;5;124m\"\u001b[39m\u001b[38;5;124mfasta\u001b[39m\u001b[38;5;124m\"\u001b[39m)\n",
      "\u001b[0;31mKeyboardInterrupt\u001b[0m: "
     ]
    }
   ],
   "source": [
    "with open(file_fasta, \"r\") as input_file:\n",
    "    \n",
    "    with open(file_fasta_output, \"w\") as output_file:\n",
    "        \n",
    "        for record in SeqIO.parse(input_file, \"fasta\"):\n",
    "            \n",
    "            if record.id in to_be_modelated:\n",
    "                \n",
    "                SeqIO.write(record, output_file, \"fasta\")"
   ]
  },
  {
   "cell_type": "code",
   "execution_count": null,
   "id": "297e2392-b6a0-4859-9fa6-490ea218522f",
   "metadata": {},
   "outputs": [],
   "source": []
  }
 ],
 "metadata": {
  "kernelspec": {
   "display_name": "Python 3 (ipykernel)",
   "language": "python",
   "name": "python3"
  },
  "language_info": {
   "codemirror_mode": {
    "name": "ipython",
    "version": 3
   },
   "file_extension": ".py",
   "mimetype": "text/x-python",
   "name": "python",
   "nbconvert_exporter": "python",
   "pygments_lexer": "ipython3",
   "version": "3.8.8"
  }
 },
 "nbformat": 4,
 "nbformat_minor": 5
}
