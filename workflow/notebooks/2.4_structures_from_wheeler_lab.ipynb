{
 "cells": [
  {
   "cell_type": "code",
   "execution_count": 12,
   "metadata": {},
   "outputs": [],
   "source": [
    "import pandas as pd\n",
    "import glob\n",
    "import json\n",
    "import numpy as np\n",
    "from Bio.PDB.PDBParser import PDBParser\n",
    "from Bio.PDB.PDBIO import PDBIO\n",
    "\n",
    "import multiprocessing"
   ]
  },
  {
   "cell_type": "code",
   "execution_count": 13,
   "metadata": {},
   "outputs": [],
   "source": [
    "'''Cada uno de esos archivos tiene un archivo .json, de estos archivos quiero que agarre\n",
    "el valor de la llave 1, le calcule la media.\n",
    "'''\n",
    "\n",
    "def get_mean_from_json(path):\n",
    "    with open(path) as f:\n",
    "        data = json.load(f)\n",
    "    return np.mean(data['1']['plddt'])\n",
    "\n",
    "\n",
    "\n",
    "'''\n",
    "ahora quiero una funcion que reciba un archivo en formato .pdb y le sustituya los valores de plddt por un valor que tambien recibe como parametro la funcion. para esto debes usar le modulo biopython.\n",
    "'''\n",
    "\n",
    "def change_plddt(path, value):\n",
    "    parser = PDBParser()\n",
    "    structure = parser.get_structure('name', path)\n",
    "    model = structure[0]\n",
    "    for chain in model:\n",
    "        for residue in chain:\n",
    "            for atom in residue:\n",
    "                atom.bfactor = value\n",
    "    io = PDBIO()\n",
    "    io.set_structure(structure)\n",
    "    io.save(path)\n",
    "\n",
    "\n",
    "\n",
    "\n",
    "def paralelizar_el_proceso(lista_pdb_json):  \n",
    "\n",
    "    pdbfile = lista_pdb_json[0]\n",
    "    jsonfile = lista_pdb_json[1]\n",
    "\n",
    "    #extract mean\n",
    "    value = get_mean_from_json(jsonfile)\n",
    "    value = round(value, 2)\n",
    "\n",
    "    #change plddt in PDBfiles\n",
    "    change_plddt(pdbfile, value)\n",
    "\n",
    "    return pdbfile, value\n",
    "\n"
   ]
  },
  {
   "cell_type": "code",
   "execution_count": 14,
   "metadata": {},
   "outputs": [],
   "source": [
    "lista_parametros = []\n",
    "for pdbfile in glob.glob('../genome_data_sets/query_proteomes/pdb_files/wheeler_lab_data/pdb_json/*.pdb'):\n",
    "\n",
    "    jsonfile = pdbfile[:-4] + '.json'\n",
    "\n",
    "    l = [pdbfile, jsonfile]\n",
    "    lista_parametros.append(l)\n"
   ]
  },
  {
   "cell_type": "code",
   "execution_count": null,
   "metadata": {},
   "outputs": [],
   "source": []
  },
  {
   "cell_type": "code",
   "execution_count": 15,
   "metadata": {},
   "outputs": [],
   "source": [
    "num_threads = 30\n",
    "\n",
    "\n",
    "# Create a pool of processes.\n",
    "pool = multiprocessing.Pool(num_threads)\n",
    "\n",
    "# Map the extract_values function to each file name in the list.\n",
    "results = pool.map(paralelizar_el_proceso, lista_parametros)\n",
    "\n",
    "# Close the pool.\n",
    "pool.close()\n",
    "pool.join()"
   ]
  },
  {
   "cell_type": "code",
   "execution_count": 33,
   "metadata": {},
   "outputs": [],
   "source": [
    "df = pd.DataFrame(results)\n",
    "df[0] = df[0].str.split('/', expand=True)[6].str[:-4]\n",
    "df.to_csv('../report/protein_structure_pLDDT_mean_wheeler_lab.tsv', sep='\\t', index=False, header=False)"
   ]
  },
  {
   "cell_type": "markdown",
   "metadata": {},
   "source": [
    "## muevo los archivos modificados a la carpeta de descargas de AFDB para que sean ingresadas."
   ]
  },
  {
   "cell_type": "code",
   "execution_count": 40,
   "metadata": {},
   "outputs": [],
   "source": [
    "\n",
    "\n",
    "import glob\n",
    "import shutil\n",
    "\n",
    "\n",
    "for file in glob.glob('../genome_data_sets/query_proteomes/pdb_files/wheeler_lab_data/pdb_json/*.pdb'):\n",
    "    \n",
    "    gene = file.split('/')[-1][:-4]\n",
    "\n",
    "    name = f'AF-wheelerlab_{gene}-F1-model_v4.pdb'\n",
    "\n",
    "    path = '../genome_data_sets/query_proteomes/pdb_files/prot_structure_download_from_AlphaFoldDB/'\n",
    "    destination = path + name\n",
    "\n",
    "    shutil.move(file, destination)"
   ]
  },
  {
   "cell_type": "code",
   "execution_count": null,
   "metadata": {},
   "outputs": [],
   "source": []
  }
 ],
 "metadata": {
  "kernelspec": {
   "display_name": "base",
   "language": "python",
   "name": "python3"
  },
  "language_info": {
   "codemirror_mode": {
    "name": "ipython",
    "version": 3
   },
   "file_extension": ".py",
   "mimetype": "text/x-python",
   "name": "python",
   "nbconvert_exporter": "python",
   "pygments_lexer": "ipython3",
   "version": "3.8.8"
  },
  "orig_nbformat": 4
 },
 "nbformat": 4,
 "nbformat_minor": 2
}
