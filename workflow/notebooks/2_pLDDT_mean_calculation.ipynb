{
 "cells": [
  {
   "cell_type": "code",
   "execution_count": 78,
   "id": "9040ad62-5328-4d0a-b4f0-50c87cb755e3",
   "metadata": {},
   "outputs": [],
   "source": [
    "import pandas as pd \n",
    "from Bio.PDB import *\n",
    "import argparse\n",
    "import glob\n"
   ]
  },
  {
   "cell_type": "code",
   "execution_count": 79,
   "id": "dde0a644-f27f-4164-9c4d-9a8d06f2ce36",
   "metadata": {},
   "outputs": [],
   "source": [
    "def Average(lst):\n",
    "    return round(sum(lst) / len(lst))"
   ]
  },
  {
   "cell_type": "code",
   "execution_count": null,
   "id": "0722dedd-9260-416d-9205-c7523ed41271",
   "metadata": {},
   "outputs": [],
   "source": [
    "parser = argparse.ArgumentParser()\n",
    "\n",
    "parser.add_argument('--output', type=argparse.FileType('w'), help='Path to first input file')\n",
    "args = parser.parse_args()\n",
    "\n",
    "output = args.output.name\n"
   ]
  },
  {
   "cell_type": "code",
   "execution_count": 80,
   "id": "72f1dd47-bfa3-4a67-a615-e48247b41dfb",
   "metadata": {},
   "outputs": [
    {
     "name": "stdout",
     "output_type": "stream",
     "text": [
      "Calculating pLDDT mean of protein structures\n"
     ]
    }
   ],
   "source": [
    "print('Calculating pLDDT mean of protein structures')"
   ]
  },
  {
   "cell_type": "code",
   "execution_count": 81,
   "id": "a1092161-6260-4a39-a94b-72eb049c68e3",
   "metadata": {},
   "outputs": [],
   "source": [
    "df_UNIPROT = pd.read_csv('mandatory_files/fasta_header_to_uniprot.tsv', sep='\\t', header=None, names=['GeneID', 'UNIPROT'])\n",
    "\n",
    "lista_archivos = [f'genome_data_sets/query_proteomes/pdb_files/prot_structure_download_from_AlphaFoldDB/AF-{UNIPROTaccession}-F1-model_v4.pdb' for UNIPROTaccession in df_UNIPROT.UNIPROT.unique()]\n",
    "\n",
    "\n",
    "#output = '../report_files/protein_structure_pLDDT_mean.tsv'"
   ]
  },
  {
   "cell_type": "code",
   "execution_count": null,
   "id": "d7deeca4-3dce-4fc7-a3f1-6bc42bc262a4",
   "metadata": {},
   "outputs": [],
   "source": []
  },
  {
   "cell_type": "code",
   "execution_count": 73,
   "id": "667a7858-697a-49c4-96db-290cbc8d8e52",
   "metadata": {
    "tags": []
   },
   "outputs": [],
   "source": [
    "PDBparser = PDBParser(PERMISSIVE = True, QUIET = True)\n",
    "\n",
    "#dict to storage data\n",
    "uniprot_pLDDT = {}\n",
    "\n",
    "for file in lista_archivos:\n",
    "    \n",
    "    uniprot = file.split('/')[-1].split('-')[1]\n",
    "    \n",
    "    data = PDBparser.get_structure(uniprot, file)\n",
    "    \n",
    "    bfactor = []\n",
    "    \n",
    "    for atom in data.get_atoms():\n",
    "    \n",
    "        bfactor.append(atom.get_bfactor())\n",
    "    \n",
    "    uniprot_pLDDT[uniprot] = Average(bfactor)"
   ]
  },
  {
   "cell_type": "code",
   "execution_count": 75,
   "id": "788e050f-554a-4769-87e9-d7fffbdcc326",
   "metadata": {},
   "outputs": [
    {
     "data": {
      "text/html": [
       "<div>\n",
       "<style scoped>\n",
       "    .dataframe tbody tr th:only-of-type {\n",
       "        vertical-align: middle;\n",
       "    }\n",
       "\n",
       "    .dataframe tbody tr th {\n",
       "        vertical-align: top;\n",
       "    }\n",
       "\n",
       "    .dataframe thead th {\n",
       "        text-align: right;\n",
       "    }\n",
       "</style>\n",
       "<table border=\"1\" class=\"dataframe\">\n",
       "  <thead>\n",
       "    <tr style=\"text-align: right;\">\n",
       "      <th></th>\n",
       "      <th>0</th>\n",
       "    </tr>\n",
       "  </thead>\n",
       "  <tbody>\n",
       "    <tr>\n",
       "      <th>A0A7G2BYP5</th>\n",
       "      <td>86</td>\n",
       "    </tr>\n",
       "    <tr>\n",
       "      <th>A0A7G2BYF2</th>\n",
       "      <td>60</td>\n",
       "    </tr>\n",
       "    <tr>\n",
       "      <th>A0A7G2BYV1</th>\n",
       "      <td>89</td>\n",
       "    </tr>\n",
       "    <tr>\n",
       "      <th>A0A7G2C401</th>\n",
       "      <td>39</td>\n",
       "    </tr>\n",
       "    <tr>\n",
       "      <th>A0A7G2C1P4</th>\n",
       "      <td>83</td>\n",
       "    </tr>\n",
       "    <tr>\n",
       "      <th>...</th>\n",
       "      <td>...</td>\n",
       "    </tr>\n",
       "    <tr>\n",
       "      <th>A0A7G2C1Y5</th>\n",
       "      <td>73</td>\n",
       "    </tr>\n",
       "    <tr>\n",
       "      <th>A0A7G2BZ08</th>\n",
       "      <td>83</td>\n",
       "    </tr>\n",
       "    <tr>\n",
       "      <th>S9V6B7</th>\n",
       "      <td>85</td>\n",
       "    </tr>\n",
       "    <tr>\n",
       "      <th>A0A7G2BZ76</th>\n",
       "      <td>51</td>\n",
       "    </tr>\n",
       "    <tr>\n",
       "      <th>A0A7G2C0M8</th>\n",
       "      <td>57</td>\n",
       "    </tr>\n",
       "  </tbody>\n",
       "</table>\n",
       "<p>100 rows × 1 columns</p>\n",
       "</div>"
      ],
      "text/plain": [
       "             0\n",
       "A0A7G2BYP5  86\n",
       "A0A7G2BYF2  60\n",
       "A0A7G2BYV1  89\n",
       "A0A7G2C401  39\n",
       "A0A7G2C1P4  83\n",
       "...         ..\n",
       "A0A7G2C1Y5  73\n",
       "A0A7G2BZ08  83\n",
       "S9V6B7      85\n",
       "A0A7G2BZ76  51\n",
       "A0A7G2C0M8  57\n",
       "\n",
       "[100 rows x 1 columns]"
      ]
     },
     "execution_count": 75,
     "metadata": {},
     "output_type": "execute_result"
    }
   ],
   "source": [
    "df_output = pd.DataFrame.from_dict(uniprot_pLDDT, orient='index')\n",
    "\n",
    "\n",
    "df_output.to_csv(output, sep='\\t', header=None)"
   ]
  },
  {
   "cell_type": "code",
   "execution_count": null,
   "id": "1e70a664-10a8-48c1-930d-64aa4fcbad29",
   "metadata": {},
   "outputs": [],
   "source": []
  }
 ],
 "metadata": {
  "kernelspec": {
   "display_name": "Python 3 (ipykernel)",
   "language": "python",
   "name": "python3"
  },
  "language_info": {
   "codemirror_mode": {
    "name": "ipython",
    "version": 3
   },
   "file_extension": ".py",
   "mimetype": "text/x-python",
   "name": "python",
   "nbconvert_exporter": "python",
   "pygments_lexer": "ipython3",
   "version": "3.8.8"
  }
 },
 "nbformat": 4,
 "nbformat_minor": 5
}
