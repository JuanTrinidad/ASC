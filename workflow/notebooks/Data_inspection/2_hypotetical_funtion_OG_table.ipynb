{
 "cells": [
  {
   "cell_type": "code",
   "execution_count": 1,
   "id": "08dc0ddd-db24-4be6-a8cc-54778c010b2d",
   "metadata": {},
   "outputs": [],
   "source": [
    "import pandas as pd\n",
    "import numpy as np"
   ]
  },
  {
   "cell_type": "code",
   "execution_count": 2,
   "id": "8746e085-54eb-4ad8-88e6-959c41a802ce",
   "metadata": {},
   "outputs": [],
   "source": [
    "#dataframe with GO annotation informattion\n",
    "df_gene_information = pd.read_csv('../../../config/mandatory_files/GenesByOrthologPattern_Summary.txt',\n",
    "                                  sep='\\t',\n",
    "                                  low_memory=False)\n",
    "\n",
    "\n",
    "df_gene_information.dropna(subset=['Product Description'], inplace=True)\n",
    "\n",
    "#OGroup assignation\n",
    "OG_and_memebrs = pd.read_csv('../../../config/mandatory_files/Ortholog_group_to_geneID.tsv', sep='\\t', header=None, names=['cluster_representer_or_OG', 'members'])\n"
   ]
  },
  {
   "cell_type": "code",
   "execution_count": 3,
   "id": "a916dc57-0755-4725-ac48-ee1edb51f3a9",
   "metadata": {},
   "outputs": [],
   "source": [
    "df_merged = OG_and_memebrs.merge(df_gene_information, left_on='members', right_on='Gene ID', how='inner')"
   ]
  },
  {
   "cell_type": "code",
   "execution_count": null,
   "id": "9f7972ab-4105-4142-826e-5f81e0bdb3af",
   "metadata": {},
   "outputs": [],
   "source": []
  },
  {
   "cell_type": "code",
   "execution_count": null,
   "id": "15cd50d6-6da5-43da-ba01-601fd289f35c",
   "metadata": {},
   "outputs": [],
   "source": []
  },
  {
   "cell_type": "code",
   "execution_count": 4,
   "id": "22998353-7c64-422a-a9a6-1d8fbb1f72e7",
   "metadata": {},
   "outputs": [],
   "source": [
    "#only hypothetical or unspecified product df\n",
    "df_hypothetical = df_merged[ df_merged['Product Description'].str.contains('[H,h]ypothetical protein|unspecified product') ]"
   ]
  },
  {
   "cell_type": "code",
   "execution_count": null,
   "id": "284546be-d46d-411e-8bd0-b7bcd7f7e800",
   "metadata": {},
   "outputs": [],
   "source": []
  },
  {
   "cell_type": "code",
   "execution_count": null,
   "id": "dbc164c8-681d-4400-abf3-fb36b8062e8f",
   "metadata": {},
   "outputs": [],
   "source": []
  },
  {
   "cell_type": "code",
   "execution_count": 5,
   "id": "3919d0c2-c107-42f9-be74-e03b4b94cc60",
   "metadata": {
    "tags": []
   },
   "outputs": [],
   "source": [
    "OG_total_size = df_merged.groupby('cluster_representer_or_OG').size().to_frame()\n",
    "\n",
    "OG_hypothetical_size = df_hypothetical.groupby('cluster_representer_or_OG').size().to_frame()"
   ]
  },
  {
   "cell_type": "code",
   "execution_count": 6,
   "id": "bd6855b3-838c-4e5d-a716-a37390168d97",
   "metadata": {
    "tags": []
   },
   "outputs": [],
   "source": [
    "df_to_compare = OG_total_size.merge(OG_hypothetical_size, left_index=True, right_index=True, how='left')"
   ]
  },
  {
   "cell_type": "code",
   "execution_count": null,
   "id": "245c99a0-4c55-453d-81a6-450e4f85ca49",
   "metadata": {},
   "outputs": [],
   "source": []
  },
  {
   "cell_type": "code",
   "execution_count": 7,
   "id": "e0d4a099-93aa-4238-9dd6-9261fea21ca2",
   "metadata": {},
   "outputs": [],
   "source": [
    "df_to_compare['only_hypothetical_OG'] = df_to_compare['0_x'] == df_to_compare['0_y']"
   ]
  },
  {
   "cell_type": "code",
   "execution_count": 8,
   "id": "86746a30-425b-4a2c-8691-7f6d96ed58df",
   "metadata": {},
   "outputs": [],
   "source": [
    "df_to_compare.columns = ['OGsize','OGhypotetical_proteins','only_hypothetical_OG']"
   ]
  },
  {
   "cell_type": "code",
   "execution_count": 9,
   "id": "1ea239c6-ab63-402f-8123-38cbcc12a36a",
   "metadata": {},
   "outputs": [
    {
     "data": {
      "text/html": [
       "<div>\n",
       "<style scoped>\n",
       "    .dataframe tbody tr th:only-of-type {\n",
       "        vertical-align: middle;\n",
       "    }\n",
       "\n",
       "    .dataframe tbody tr th {\n",
       "        vertical-align: top;\n",
       "    }\n",
       "\n",
       "    .dataframe thead th {\n",
       "        text-align: right;\n",
       "    }\n",
       "</style>\n",
       "<table border=\"1\" class=\"dataframe\">\n",
       "  <thead>\n",
       "    <tr style=\"text-align: right;\">\n",
       "      <th></th>\n",
       "      <th>OGsize</th>\n",
       "      <th>OGhypotetical_proteins</th>\n",
       "      <th>only_hypothetical_OG</th>\n",
       "    </tr>\n",
       "    <tr>\n",
       "      <th>cluster_representer_or_OG</th>\n",
       "      <th></th>\n",
       "      <th></th>\n",
       "      <th></th>\n",
       "    </tr>\n",
       "  </thead>\n",
       "  <tbody>\n",
       "    <tr>\n",
       "      <th>ADEAN_000006100</th>\n",
       "      <td>62</td>\n",
       "      <td>20.0</td>\n",
       "      <td>False</td>\n",
       "    </tr>\n",
       "    <tr>\n",
       "      <th>ADEAN_000006300</th>\n",
       "      <td>69</td>\n",
       "      <td>39.0</td>\n",
       "      <td>False</td>\n",
       "    </tr>\n",
       "    <tr>\n",
       "      <th>ADEAN_000006700</th>\n",
       "      <td>65</td>\n",
       "      <td>6.0</td>\n",
       "      <td>False</td>\n",
       "    </tr>\n",
       "    <tr>\n",
       "      <th>ADEAN_000008900</th>\n",
       "      <td>11</td>\n",
       "      <td>NaN</td>\n",
       "      <td>False</td>\n",
       "    </tr>\n",
       "    <tr>\n",
       "      <th>ADEAN_000011000</th>\n",
       "      <td>74</td>\n",
       "      <td>6.0</td>\n",
       "      <td>False</td>\n",
       "    </tr>\n",
       "    <tr>\n",
       "      <th>...</th>\n",
       "      <td>...</td>\n",
       "      <td>...</td>\n",
       "      <td>...</td>\n",
       "    </tr>\n",
       "    <tr>\n",
       "      <th>TvY486_1117440</th>\n",
       "      <td>29</td>\n",
       "      <td>29.0</td>\n",
       "      <td>True</td>\n",
       "    </tr>\n",
       "    <tr>\n",
       "      <th>TvY486_1117590</th>\n",
       "      <td>26</td>\n",
       "      <td>26.0</td>\n",
       "      <td>True</td>\n",
       "    </tr>\n",
       "    <tr>\n",
       "      <th>TvY486_1117620</th>\n",
       "      <td>42</td>\n",
       "      <td>17.0</td>\n",
       "      <td>False</td>\n",
       "    </tr>\n",
       "    <tr>\n",
       "      <th>TvY486_1117800</th>\n",
       "      <td>27</td>\n",
       "      <td>NaN</td>\n",
       "      <td>False</td>\n",
       "    </tr>\n",
       "    <tr>\n",
       "      <th>TvY486_1118000</th>\n",
       "      <td>66</td>\n",
       "      <td>21.0</td>\n",
       "      <td>False</td>\n",
       "    </tr>\n",
       "  </tbody>\n",
       "</table>\n",
       "<p>13001 rows × 3 columns</p>\n",
       "</div>"
      ],
      "text/plain": [
       "                           OGsize  OGhypotetical_proteins  \\\n",
       "cluster_representer_or_OG                                   \n",
       "ADEAN_000006100                62                    20.0   \n",
       "ADEAN_000006300                69                    39.0   \n",
       "ADEAN_000006700                65                     6.0   \n",
       "ADEAN_000008900                11                     NaN   \n",
       "ADEAN_000011000                74                     6.0   \n",
       "...                           ...                     ...   \n",
       "TvY486_1117440                 29                    29.0   \n",
       "TvY486_1117590                 26                    26.0   \n",
       "TvY486_1117620                 42                    17.0   \n",
       "TvY486_1117800                 27                     NaN   \n",
       "TvY486_1118000                 66                    21.0   \n",
       "\n",
       "                           only_hypothetical_OG  \n",
       "cluster_representer_or_OG                        \n",
       "ADEAN_000006100                           False  \n",
       "ADEAN_000006300                           False  \n",
       "ADEAN_000006700                           False  \n",
       "ADEAN_000008900                           False  \n",
       "ADEAN_000011000                           False  \n",
       "...                                         ...  \n",
       "TvY486_1117440                             True  \n",
       "TvY486_1117590                             True  \n",
       "TvY486_1117620                            False  \n",
       "TvY486_1117800                            False  \n",
       "TvY486_1118000                            False  \n",
       "\n",
       "[13001 rows x 3 columns]"
      ]
     },
     "execution_count": 9,
     "metadata": {},
     "output_type": "execute_result"
    }
   ],
   "source": [
    "df_to_compare"
   ]
  },
  {
   "cell_type": "code",
   "execution_count": 10,
   "id": "81ea4363-f3fb-4963-8502-7aeae45333ba",
   "metadata": {},
   "outputs": [],
   "source": [
    "df_to_compare.to_csv('../../report/Ortholog_Group_Full_of_hypotetical_boolean.tsv', sep='\\t')"
   ]
  },
  {
   "cell_type": "code",
   "execution_count": null,
   "id": "65f263bc-ed45-4bbb-8b54-22da8658fdcb",
   "metadata": {},
   "outputs": [],
   "source": []
  }
 ],
 "metadata": {
  "kernelspec": {
   "display_name": "Python 3 (ipykernel)",
   "language": "python",
   "name": "python3"
  },
  "language_info": {
   "codemirror_mode": {
    "name": "ipython",
    "version": 3
   },
   "file_extension": ".py",
   "mimetype": "text/x-python",
   "name": "python",
   "nbconvert_exporter": "python",
   "pygments_lexer": "ipython3",
   "version": "3.8.8"
  }
 },
 "nbformat": 4,
 "nbformat_minor": 5
}
