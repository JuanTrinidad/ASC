{
 "cells": [
  {
   "cell_type": "code",
   "execution_count": 1,
   "id": "5c0fb73f-e766-4ef5-8fc4-807a80f2ab47",
   "metadata": {},
   "outputs": [],
   "source": [
    "import pandas as pd\n",
    "import numpy as np\n",
    "import math\n",
    "from itertools import combinations_with_replacement"
   ]
  },
  {
   "cell_type": "code",
   "execution_count": 3,
   "id": "51ac85ae-7889-4564-9077-38119b1710d5",
   "metadata": {
    "tags": []
   },
   "outputs": [],
   "source": [
    "#hypothetical OG data\n",
    "df_hypothetical_OG = pd.read_csv('../../report/Ortholog_Group_Full_of_hypotetical_boolean.tsv', sep='\\t')\n",
    "\n",
    "#RBH results\n",
    "df_rbh = pd.read_csv('../../../results/reciprocal_best_hit_TSV/rbh_all_in_one_file.tsv', sep='\\t', index_col=0)\n",
    "\n",
    "#model organims annotation data\n",
    "df_MO_annotation = pd.read_csv('../../../results/Gene_annotation_info_from_uniprot_model_spp.tsv', sep='\\t', low_memory=False, index_col=0)\n",
    "\n",
    "#kinetoplastea annotation data\n",
    "#one structure per row\n",
    "df_kineto_annotation = pd.read_csv('../../protein_data_bases/annotation_info/kinetoplastea_taxid5653_annotation_info_from_uniprot.tsv', sep='\\t', low_memory=False)"
   ]
  },
  {
   "cell_type": "code",
   "execution_count": null,
   "id": "c9c40399-a01e-45f3-ad03-4634608845e9",
   "metadata": {},
   "outputs": [],
   "source": []
  },
  {
   "cell_type": "code",
   "execution_count": 4,
   "id": "b429a75f-2f05-4cc5-916b-0374059ee1cf",
   "metadata": {
    "tags": []
   },
   "outputs": [],
   "source": [
    "df_rbh_k = df_rbh.merge(df_kineto_annotation, left_on='query_uniprot_accession', right_on='Entry', how='left')"
   ]
  },
  {
   "cell_type": "code",
   "execution_count": 5,
   "id": "4c49ba80-89d0-46f2-8734-705e6c72410f",
   "metadata": {},
   "outputs": [],
   "source": [
    "df_rbh_km = df_rbh_k.merge(df_MO_annotation, left_on='target_uniprot_accession', right_on='Entry', how='left', suffixes=['_kineto', '_model'])"
   ]
  },
  {
   "cell_type": "code",
   "execution_count": 6,
   "id": "35a4a1a7-d662-4c28-bb43-cc074dd4a0fc",
   "metadata": {},
   "outputs": [],
   "source": [
    "df_rbh_km = df_rbh_km[~df_rbh_km.spp.isin(['LEIIN', 'TRYCC', 'TRYB2'])]"
   ]
  },
  {
   "cell_type": "code",
   "execution_count": null,
   "id": "4600cca7-4e86-466f-8bc2-aa7c857ffa50",
   "metadata": {},
   "outputs": [],
   "source": []
  },
  {
   "cell_type": "markdown",
   "id": "3b79c8ca-98b1-457b-b288-877ec8ad7c2b",
   "metadata": {
    "tags": []
   },
   "source": [
    "df_rbh_km[['query','PANTHER_kineto','PANTHER_model']].drop_duplicates('query').dropna()#.to_csv('prueba.tsv', sep='\\t')#.drop_duplicates('query').PANTHER_kineto.nunique()\n",
    "\n",
    "df_rbh_km[['query','Pfam_kineto','Pfam_model']].drop_duplicates('query').dropna()\n",
    "\n",
    "df_rbh_km[['query','Protein families_kineto','Protein families_model']].drop_duplicates('query').dropna()\n",
    "\n",
    "df_rbh_km[['query','EC number_kineto','EC number_model']].drop_duplicates('query').dropna()\n",
    "\n",
    "df_rbh_km[['query','OrthoDB_kineto','OrthoDB_model']].drop_duplicates('query').dropna()"
   ]
  },
  {
   "cell_type": "code",
   "execution_count": 7,
   "id": "caba40e8-1ed1-427b-a779-16249e412c81",
   "metadata": {},
   "outputs": [
    {
     "data": {
      "text/html": [
       "<div>\n",
       "<style scoped>\n",
       "    .dataframe tbody tr th:only-of-type {\n",
       "        vertical-align: middle;\n",
       "    }\n",
       "\n",
       "    .dataframe tbody tr th {\n",
       "        vertical-align: top;\n",
       "    }\n",
       "\n",
       "    .dataframe thead th {\n",
       "        text-align: right;\n",
       "    }\n",
       "</style>\n",
       "<table border=\"1\" class=\"dataframe\">\n",
       "  <thead>\n",
       "    <tr style=\"text-align: right;\">\n",
       "      <th></th>\n",
       "      <th>query</th>\n",
       "      <th>PANTHER_kineto</th>\n",
       "      <th>PANTHER_model</th>\n",
       "    </tr>\n",
       "  </thead>\n",
       "  <tbody>\n",
       "    <tr>\n",
       "      <th>4</th>\n",
       "      <td>AF-B8Y658-F1-model_v4.pdb</td>\n",
       "      <td>PTHR48099:SF5;PTHR48099;</td>\n",
       "      <td>PTHR48099:SF5;PTHR48099;</td>\n",
       "    </tr>\n",
       "    <tr>\n",
       "      <th>9</th>\n",
       "      <td>AF-Q4E4W2-F1-model_v4.pdb</td>\n",
       "      <td>PTHR43464;PTHR43464:SF19;</td>\n",
       "      <td>PTHR43464;PTHR43464:SF19;</td>\n",
       "    </tr>\n",
       "    <tr>\n",
       "      <th>11</th>\n",
       "      <td>AF-A4I4J7-F1-model_v4.pdb</td>\n",
       "      <td>PTHR24012:SF903;PTHR24012;</td>\n",
       "      <td>PTHR42693;PTHR42693:SF43;</td>\n",
       "    </tr>\n",
       "    <tr>\n",
       "      <th>14</th>\n",
       "      <td>AF-G0TTA5-F1-model_v4.pdb</td>\n",
       "      <td>PTHR10762:SF1;PTHR10762;</td>\n",
       "      <td>PTHR30426;PTHR30426:SF0;</td>\n",
       "    </tr>\n",
       "    <tr>\n",
       "      <th>19</th>\n",
       "      <td>AF-A0A2V2V8L3-F1-model_v4.pdb</td>\n",
       "      <td>PTHR22942:SF39;PTHR22942;</td>\n",
       "      <td>PTHR45900:SF1;PTHR45900;</td>\n",
       "    </tr>\n",
       "    <tr>\n",
       "      <th>...</th>\n",
       "      <td>...</td>\n",
       "      <td>...</td>\n",
       "      <td>...</td>\n",
       "    </tr>\n",
       "    <tr>\n",
       "      <th>166649</th>\n",
       "      <td>AF-Q4DDL0-F1-model_v4.pdb</td>\n",
       "      <td>PTHR47969;PTHR47969:SF15;</td>\n",
       "      <td>PTHR47968;PTHR47968:SF33;</td>\n",
       "    </tr>\n",
       "    <tr>\n",
       "      <th>167151</th>\n",
       "      <td>AF-A0A0S4J1S0-F1-model_v4.pdb</td>\n",
       "      <td>PTHR10648:SF1;PTHR10648;</td>\n",
       "      <td>PTHR10648:SF1;PTHR10648;</td>\n",
       "    </tr>\n",
       "    <tr>\n",
       "      <th>167222</th>\n",
       "      <td>AF-A0A7G2CQC2-F1-model_v4.pdb</td>\n",
       "      <td>PTHR46570;PTHR46570:SF1;</td>\n",
       "      <td>PTHR46570;PTHR46570:SF1;</td>\n",
       "    </tr>\n",
       "    <tr>\n",
       "      <th>167253</th>\n",
       "      <td>AF-Q586P7-F1-model_v4.pdb</td>\n",
       "      <td>PTHR10782:SF96;PTHR10782;</td>\n",
       "      <td>PTHR10782:SF4;PTHR10782;</td>\n",
       "    </tr>\n",
       "    <tr>\n",
       "      <th>167503</th>\n",
       "      <td>AF-A4HZF4-F1-model_v4.pdb</td>\n",
       "      <td>PTHR14091;PTHR14091:SF0;</td>\n",
       "      <td>PTHR22850;PTHR22850:SF201;</td>\n",
       "    </tr>\n",
       "  </tbody>\n",
       "</table>\n",
       "<p>4510 rows × 3 columns</p>\n",
       "</div>"
      ],
      "text/plain": [
       "                                query              PANTHER_kineto  \\\n",
       "4           AF-B8Y658-F1-model_v4.pdb    PTHR48099:SF5;PTHR48099;   \n",
       "9           AF-Q4E4W2-F1-model_v4.pdb   PTHR43464;PTHR43464:SF19;   \n",
       "11          AF-A4I4J7-F1-model_v4.pdb  PTHR24012:SF903;PTHR24012;   \n",
       "14          AF-G0TTA5-F1-model_v4.pdb    PTHR10762:SF1;PTHR10762;   \n",
       "19      AF-A0A2V2V8L3-F1-model_v4.pdb   PTHR22942:SF39;PTHR22942;   \n",
       "...                               ...                         ...   \n",
       "166649      AF-Q4DDL0-F1-model_v4.pdb   PTHR47969;PTHR47969:SF15;   \n",
       "167151  AF-A0A0S4J1S0-F1-model_v4.pdb    PTHR10648:SF1;PTHR10648;   \n",
       "167222  AF-A0A7G2CQC2-F1-model_v4.pdb    PTHR46570;PTHR46570:SF1;   \n",
       "167253      AF-Q586P7-F1-model_v4.pdb   PTHR10782:SF96;PTHR10782;   \n",
       "167503      AF-A4HZF4-F1-model_v4.pdb    PTHR14091;PTHR14091:SF0;   \n",
       "\n",
       "                     PANTHER_model  \n",
       "4         PTHR48099:SF5;PTHR48099;  \n",
       "9        PTHR43464;PTHR43464:SF19;  \n",
       "11       PTHR42693;PTHR42693:SF43;  \n",
       "14        PTHR30426;PTHR30426:SF0;  \n",
       "19        PTHR45900:SF1;PTHR45900;  \n",
       "...                            ...  \n",
       "166649   PTHR47968;PTHR47968:SF33;  \n",
       "167151    PTHR10648:SF1;PTHR10648;  \n",
       "167222    PTHR46570;PTHR46570:SF1;  \n",
       "167253    PTHR10782:SF4;PTHR10782;  \n",
       "167503  PTHR22850;PTHR22850:SF201;  \n",
       "\n",
       "[4510 rows x 3 columns]"
      ]
     },
     "execution_count": 7,
     "metadata": {},
     "output_type": "execute_result"
    }
   ],
   "source": [
    "df_rbh_km[['query','PANTHER_kineto','PANTHER_model']].drop_duplicates('query').dropna()"
   ]
  },
  {
   "cell_type": "code",
   "execution_count": null,
   "id": "69e3de92-82b9-4ec0-a1f2-aa5d9997bdc2",
   "metadata": {},
   "outputs": [],
   "source": []
  },
  {
   "cell_type": "code",
   "execution_count": null,
   "id": "406c6535-0f9b-4c5a-8d1b-f45642620fda",
   "metadata": {},
   "outputs": [],
   "source": []
  },
  {
   "cell_type": "code",
   "execution_count": null,
   "id": "cde21b9e-c4d4-42d6-9a3b-6e1459a847b2",
   "metadata": {},
   "outputs": [],
   "source": []
  },
  {
   "cell_type": "code",
   "execution_count": null,
   "id": "b779f57c-7cf0-4429-b7c8-dde2d45a25ba",
   "metadata": {},
   "outputs": [],
   "source": []
  },
  {
   "cell_type": "code",
   "execution_count": null,
   "id": "17cb8e81-de75-4596-8dd3-fdcefb8a41da",
   "metadata": {},
   "outputs": [],
   "source": []
  },
  {
   "cell_type": "code",
   "execution_count": null,
   "id": "a53dfb0b-64bd-492f-b61a-d64a0eb35761",
   "metadata": {},
   "outputs": [],
   "source": []
  },
  {
   "cell_type": "code",
   "execution_count": null,
   "id": "8703c8b2-f8af-441a-80e5-69efdefb6f19",
   "metadata": {},
   "outputs": [],
   "source": []
  },
  {
   "cell_type": "code",
   "execution_count": 8,
   "id": "7a637977-cfc6-475f-9622-a3cd297d6df8",
   "metadata": {},
   "outputs": [
    {
     "data": {
      "text/plain": [
       "query                                 168062\n",
       "target                                168062\n",
       "COV_target                            168062\n",
       "COV_query                             168062\n",
       "target_uniprot_accession              168062\n",
       "query_uniprot_accession               168062\n",
       "spp                                   168062\n",
       "proteome                              168062\n",
       "aligmentinfo                          168062\n",
       "tlen                                  168062\n",
       "tend                                  168062\n",
       "tstart                                168062\n",
       "qlen                                  168062\n",
       "qend                                  168062\n",
       "qstart                                168062\n",
       "evalue                                168062\n",
       "fident                                168062\n",
       "alnlen                                168062\n",
       "Reviewed                              167172\n",
       "Taxonomic lineage                     167172\n",
       "Organism (ID)                         167172\n",
       "Organism                              167172\n",
       "Entry Name                            167172\n",
       "Entry                                 167172\n",
       "Protein names                         167172\n",
       "Gene Names                            165939\n",
       "Proteomes                             159032\n",
       "InterPro                              141136\n",
       "OrthoDB                               134757\n",
       "PANTHER                               132581\n",
       "Gene Ontology (GO)                    127376\n",
       "Gene Ontology IDs                     127376\n",
       "Pfam                                  124797\n",
       "KEGG                                  100070\n",
       "Gene Ontology (molecular function)     93335\n",
       "eggNOG                                 85699\n",
       "Gene Ontology (cellular component)     81351\n",
       "Domain [FT]                            80327\n",
       "Gene Ontology (biological process)     77316\n",
       "Protein families                       69427\n",
       "dtype: int64"
      ]
     },
     "execution_count": 8,
     "metadata": {},
     "output_type": "execute_result"
    }
   ],
   "source": [
    "#in kinetoplastidea data thw best categories are Interprot, Gene Ontology (GO), Gene Ontology IDs, PANTHER, OrthoDB, Pfam, KEGG, Protein families #los GO hay que mirarlos con otra perspectiva sobre todo el orden jerarquico\n",
    "df_rbh_k.notna().sum().sort_values(ascending=False).head(40)"
   ]
  },
  {
   "cell_type": "code",
   "execution_count": 9,
   "id": "86e159a8-dc1d-4854-b6b3-074234e7541f",
   "metadata": {
    "tags": []
   },
   "outputs": [
    {
     "data": {
      "text/plain": [
       "Protein names_kineto                         167172\n",
       "Entry_kineto                                 167172\n",
       "Entry Name_kineto                            167172\n",
       "Gene Names_kineto                            165939\n",
       "Proteomes_kineto                             159032\n",
       "Organism (ID)_model                          151974\n",
       "Entry_model                                  151974\n",
       "Entry Name_model                             151974\n",
       "Protein names_model                          151974\n",
       "Organism_model                               151974\n",
       "Proteomes_model                              151974\n",
       "Taxonomic lineage_model                      151974\n",
       "Reviewed_model                               151974\n",
       "Gene Names_model                             141735\n",
       "InterPro_kineto                              141136\n",
       "InterPro_model                               140716\n",
       "PANTHER_model                                136365\n",
       "OrthoDB_kineto                               134757\n",
       "Pfam_model                                   134488\n",
       "PANTHER_kineto                               132581\n",
       "Gene Ontology (GO)_model                     131934\n",
       "Gene Ontology IDs_model                      131934\n",
       "Gene Ontology IDs_kineto                     127376\n",
       "Gene Ontology (GO)_kineto                    127376\n",
       "Pfam_kineto                                  124797\n",
       "Gene Ontology (molecular function)_model     104844\n",
       "Gene Ontology (cellular component)_model     102429\n",
       "Gene Ontology (biological process)_model     100550\n",
       "KEGG_kineto                                  100070\n",
       "KEGG_model                                    97233\n",
       "OrthoDB_model                                 96716\n",
       "eggNOG_model                                  93608\n",
       "Protein families_model                        93376\n",
       "Gene Ontology (molecular function)_kineto     93335\n",
       "eggNOG_kineto                                 85699\n",
       "Gene Ontology (cellular component)_kineto     81351\n",
       "Domain [FT]_kineto                            80327\n",
       "Gene Ontology (biological process)_kineto     77316\n",
       "Domain [FT]_model                             75989\n",
       "Protein families_kineto                       69427\n",
       "Function [CC]_model                           57534\n",
       "EC number_model                               39466\n",
       "EC number_kineto                              31312\n",
       "Function [CC]_kineto                          18326\n",
       "Pathway_model                                 14784\n",
       "Pathway_kineto                                 9886\n",
       "Domain [CC]_model                              6018\n",
       "Motif_model                                    4366\n",
       "Domain [CC]_kineto                             1095\n",
       "Motif_kineto                                    647\n",
       "dtype: int64"
      ]
     },
     "execution_count": 9,
     "metadata": {},
     "output_type": "execute_result"
    }
   ],
   "source": [
    "#wich category has more information to use as reference\n",
    "\n",
    "df_rbh_km.notna().sum().sort_values(ascending=False).tail(50)\n",
    "#en el df completo las categorias con mas info son Interprot, PANTHER, KEGG, OrthoDB, Pfam\n",
    "\n",
    "\n"
   ]
  },
  {
   "cell_type": "code",
   "execution_count": 10,
   "id": "4ad30737-ab3b-4bf2-a9a8-5e2698cb15f1",
   "metadata": {},
   "outputs": [
    {
     "data": {
      "text/html": [
       "<div>\n",
       "<style scoped>\n",
       "    .dataframe tbody tr th:only-of-type {\n",
       "        vertical-align: middle;\n",
       "    }\n",
       "\n",
       "    .dataframe tbody tr th {\n",
       "        vertical-align: top;\n",
       "    }\n",
       "\n",
       "    .dataframe thead th {\n",
       "        text-align: right;\n",
       "    }\n",
       "</style>\n",
       "<table border=\"1\" class=\"dataframe\">\n",
       "  <thead>\n",
       "    <tr style=\"text-align: right;\">\n",
       "      <th></th>\n",
       "      <th>eggNOG_model</th>\n",
       "      <th>eggNOG_kineto</th>\n",
       "    </tr>\n",
       "  </thead>\n",
       "  <tbody>\n",
       "    <tr>\n",
       "      <th>2627</th>\n",
       "      <td>COG0646;COG1410;</td>\n",
       "      <td>KOG1579;</td>\n",
       "    </tr>\n",
       "    <tr>\n",
       "      <th>2628</th>\n",
       "      <td>COG0646;COG1410;</td>\n",
       "      <td>KOG1579;</td>\n",
       "    </tr>\n",
       "    <tr>\n",
       "      <th>2633</th>\n",
       "      <td>COG0472;</td>\n",
       "      <td>KOG2788;</td>\n",
       "    </tr>\n",
       "    <tr>\n",
       "      <th>2634</th>\n",
       "      <td>COG0472;</td>\n",
       "      <td>KOG2788;</td>\n",
       "    </tr>\n",
       "    <tr>\n",
       "      <th>2639</th>\n",
       "      <td>COG0566;</td>\n",
       "      <td>KOG0838;</td>\n",
       "    </tr>\n",
       "    <tr>\n",
       "      <th>...</th>\n",
       "      <td>...</td>\n",
       "      <td>...</td>\n",
       "    </tr>\n",
       "    <tr>\n",
       "      <th>168043</th>\n",
       "      <td>KOG2030;</td>\n",
       "      <td>KOG2030;</td>\n",
       "    </tr>\n",
       "    <tr>\n",
       "      <th>168047</th>\n",
       "      <td>KOG4072;</td>\n",
       "      <td>ENOG502SAM1;</td>\n",
       "    </tr>\n",
       "    <tr>\n",
       "      <th>168048</th>\n",
       "      <td>KOG4072;</td>\n",
       "      <td>ENOG502SAM1;</td>\n",
       "    </tr>\n",
       "    <tr>\n",
       "      <th>168057</th>\n",
       "      <td>KOG3578;</td>\n",
       "      <td>KOG3578;</td>\n",
       "    </tr>\n",
       "    <tr>\n",
       "      <th>168058</th>\n",
       "      <td>KOG3578;</td>\n",
       "      <td>KOG3578;</td>\n",
       "    </tr>\n",
       "  </tbody>\n",
       "</table>\n",
       "<p>48533 rows × 2 columns</p>\n",
       "</div>"
      ],
      "text/plain": [
       "            eggNOG_model eggNOG_kineto\n",
       "2627    COG0646;COG1410;      KOG1579;\n",
       "2628    COG0646;COG1410;      KOG1579;\n",
       "2633            COG0472;      KOG2788;\n",
       "2634            COG0472;      KOG2788;\n",
       "2639            COG0566;      KOG0838;\n",
       "...                  ...           ...\n",
       "168043          KOG2030;      KOG2030;\n",
       "168047          KOG4072;  ENOG502SAM1;\n",
       "168048          KOG4072;  ENOG502SAM1;\n",
       "168057          KOG3578;      KOG3578;\n",
       "168058          KOG3578;      KOG3578;\n",
       "\n",
       "[48533 rows x 2 columns]"
      ]
     },
     "execution_count": 10,
     "metadata": {},
     "output_type": "execute_result"
    }
   ],
   "source": [
    "df_rbh_km[['eggNOG_model', 'eggNOG_kineto']].dropna()"
   ]
  },
  {
   "cell_type": "code",
   "execution_count": 11,
   "id": "15672bcb-3c7c-4184-b860-3665b49e5229",
   "metadata": {},
   "outputs": [],
   "source": [
    "#df_kineto_annotation.columns[8:].drop('Reviewed') \n",
    "columns_for_evaluation =  ['EC number', 'Protein families', 'OrthoDB','PANTHER', 'InterPro', 'Pfam', 'eggNOG'] #'KEGG'"
   ]
  },
  {
   "cell_type": "code",
   "execution_count": null,
   "id": "49902da8-6a0e-4dd8-b047-ee4f8b81de59",
   "metadata": {},
   "outputs": [],
   "source": []
  },
  {
   "cell_type": "code",
   "execution_count": null,
   "id": "2cae3349-1c0d-4014-9350-c9ffe84074f4",
   "metadata": {},
   "outputs": [],
   "source": []
  },
  {
   "cell_type": "code",
   "execution_count": null,
   "id": "1e1d496d-d4ac-4389-8e20-26191d606fe6",
   "metadata": {},
   "outputs": [],
   "source": []
  },
  {
   "cell_type": "code",
   "execution_count": null,
   "id": "5ccdfca5-4eaf-4933-8240-44954f372243",
   "metadata": {},
   "outputs": [],
   "source": []
  },
  {
   "cell_type": "code",
   "execution_count": null,
   "id": "31a6a9ef-207e-44f0-b311-c6f402ba2af6",
   "metadata": {},
   "outputs": [],
   "source": []
  },
  {
   "cell_type": "code",
   "execution_count": null,
   "id": "550ef003-d141-4202-b394-07d5722afbdf",
   "metadata": {},
   "outputs": [],
   "source": []
  },
  {
   "cell_type": "markdown",
   "id": "efcd6169-b995-48ba-af27-ba0276bad677",
   "metadata": {},
   "source": [
    "# Evaluation of annotation coincidence "
   ]
  },
  {
   "cell_type": "code",
   "execution_count": 12,
   "id": "cff5a603-d86d-4552-a5bb-31773aa3d03d",
   "metadata": {},
   "outputs": [],
   "source": [
    "#tengo que revisar el roden de las columnas, es decir, si por ejemplo panther siempre va de mas inclusivo a menos o como hace.\n",
    "\n",
    "#modifing columns\n",
    "\n",
    "def compare_lists(list1, list2):\n",
    "    \n",
    "    list1 = list1.split(';')\n",
    "    list2 = list2.split(';')\n",
    "    \n",
    "    list1 = [x for x in list1 if x != '']\n",
    "    list2 = [x for x in list2 if x != '']\n",
    "    \n",
    "    #sorting\n",
    "    list1.sort()\n",
    "    list2.sort()\n",
    "    \n",
    "    if list1 == list2:\n",
    "        shared_items = 'ALL'\n",
    "        \n",
    "    else:\n",
    "        shared_items = 0\n",
    "        for item in list1:\n",
    "            if item in list2:\n",
    "                shared_items += 1\n",
    "                \n",
    "        if shared_items == 0:\n",
    "            shared_items = 'CERO'\n",
    "        else:\n",
    "            shared_items = '1orMORE'\n",
    "    \n",
    "    \n",
    "    return shared_items\n",
    "\n",
    "\n",
    "\n",
    "'''\n",
    "def column_selection_coincidence_calculation(parameter_list):\n",
    "    \n",
    "    \n",
    "    \n",
    "    df = parameter_list[0]\n",
    "    columna  = parameter_list[1]\n",
    "    \n",
    "    fident = parameter_list[2]\n",
    "    comb0 = parameter_list[3]\n",
    "    comb1 = parameter_list[4]\n",
    "    \n",
    "    \n",
    "    columna_k = columna +'_kineto' #get both columns\n",
    "    columna_m = columna +'_model'\n",
    "    \n",
    "    df = df[(df['fident'] > fident) & (df['COV_query'] > comb0) & (df['COV_target'] > comb1) ]\n",
    "\n",
    "\n",
    "    df = df[[columna_k, columna_m]].dropna() #droping nana values\n",
    "\n",
    "    #print(df_rbh_km.shape)\n",
    "    #print(df.shape)\n",
    "    \n",
    "    series = df.apply(lambda row: compare_lists(row[columna_k], row[columna_m]), axis=1)\n",
    "    \n",
    "    series.name = columna +'_'+ str(fident) +'_'+ str(comb0)+'_'+ str(comb1) \n",
    "    \n",
    "    return series'''\n",
    "\n",
    "\n",
    "\n",
    "def column_selection_coincidence_calculation(df, columna, columna_final):\n",
    "    \n",
    "    \n",
    "    columna_k = columna +'_kineto' #get both columns\n",
    "    columna_m = columna +'_model'\n",
    "    \n",
    "\n",
    "    df = df[[columna_k, columna_m]].dropna() #droping nana values\n",
    "\n",
    "    #print(df_rbh_km.shape)\n",
    "    #print(df.shape)\n",
    "    \n",
    "    series = df.apply(lambda row: compare_lists(row[columna_k], row[columna_m]), axis=1)\n",
    "    \n",
    "    series.name = columna_final\n",
    "    \n",
    "    return series\n"
   ]
  },
  {
   "cell_type": "code",
   "execution_count": null,
   "id": "f0b35025-78e1-41e4-a6e4-b8627ee51d9d",
   "metadata": {},
   "outputs": [],
   "source": []
  },
  {
   "cell_type": "markdown",
   "id": "81b0fefe-163e-434d-b9ae-059da46eff1e",
   "metadata": {},
   "source": [
    "d = df_rbh_km[['query','target','PANTHER_kineto','PANTHER_model']].dropna()"
   ]
  },
  {
   "cell_type": "markdown",
   "id": "7aa39fe6-894d-4f3b-9f85-6930cef45b2a",
   "metadata": {},
   "source": [
    "d = column_selection_coincidence_calculation(d, 'PANTHER', 'PANTHER_final')"
   ]
  },
  {
   "cell_type": "markdown",
   "id": "7db77800-693b-42e2-9064-822a857d36d7",
   "metadata": {},
   "source": [
    "d.PANTHER_final.gt(0).sum()\n",
    "#d.PANTHER_final.eq(0).sum()"
   ]
  },
  {
   "cell_type": "code",
   "execution_count": null,
   "id": "ab12c73f-da3b-445a-82e3-21bf2f898b3b",
   "metadata": {},
   "outputs": [],
   "source": []
  },
  {
   "cell_type": "code",
   "execution_count": 13,
   "id": "9c68daa1-b77a-4cba-a08b-dc495a072fb8",
   "metadata": {
    "tags": []
   },
   "outputs": [
    {
     "name": "stdout",
     "output_type": "stream",
     "text": [
      "0.0\n",
      "0.05\n",
      "0.1\n",
      "0.15\n",
      "0.2\n",
      "0.25\n",
      "0.3\n",
      "0.35\n",
      "0.4\n",
      "0.45\n",
      "0.5\n",
      "0.55\n",
      "0.6\n",
      "0.65\n",
      "0.7\n"
     ]
    }
   ],
   "source": [
    "#new df for simplification\n",
    "df_looop = df_rbh_km.copy()\n",
    "\n",
    "\n",
    "#dictionary to storage data\n",
    "data_colection = []\n",
    "#number of iterations as index\n",
    "iterations = 0\n",
    "\n",
    "\n",
    "for fident in np.arange(0,.75,0.05):    \n",
    "    fident = round(fident, 3)\n",
    "    print(fident)\n",
    "    \n",
    "    for columna in columns_for_evaluation: #iterating over interesting columns #['PANTHER']:#\n",
    "                \n",
    "        \n",
    "        #for comb in combinations_with_replacement(np.arange(0,1,0.1), 2): #all combination with replacement of coverage values\n",
    "                        \n",
    "        #    comb0 = round(comb[0],2)\n",
    "        #    comb1 = round(comb[1],2)\n",
    "            \n",
    "        for evalue in [1e-30, 1e-20, 1e-15, 1e-10, 1e-5, 1e-2, 1]:\n",
    "\n",
    "\n",
    "\n",
    "            #colname\n",
    "            #columna_final =  columna + '_count_'+ str(fident)+ '_' + str(comb0) +'_'+ str(comb1) + '_' + str(evalue)\n",
    "            columna_final =  columna + '_count_'+ str(fident)+ '_' + str(evalue)\n",
    "\n",
    "            #filtering dataframe with parameters of interest\n",
    "            #df_looop = df_looop[(df_looop['fident'] > fident) & (df_looop['COV_query'] > comb0) & (df_looop['COV_target'] > comb1) & (df_looop['evalue'] < evalue)]\n",
    "            df_looop_filtered = df_looop[(df_looop['fident'] > fident) & (df_looop['evalue'] < evalue)]\n",
    "\n",
    "\n",
    "            #list_parameters.append([df_looop, columna, fident, comb0, comb1])\n",
    "\n",
    "            data_colection.append( column_selection_coincidence_calculation(df_looop_filtered, columna, columna_final) )\n",
    "\n",
    "            #print(columna_final)\n",
    "\n",
    "            "
   ]
  },
  {
   "cell_type": "markdown",
   "id": "339ede11-b8ca-4588-b23b-d2a1ac65ef5c",
   "metadata": {},
   "source": [
    "# Same approach only with best hit "
   ]
  },
  {
   "cell_type": "code",
   "execution_count": 14,
   "id": "c86fd5b3-48e2-4a33-b597-a9e3f68d2d2b",
   "metadata": {
    "tags": []
   },
   "outputs": [
    {
     "name": "stdout",
     "output_type": "stream",
     "text": [
      "0.0\n",
      "0.05\n",
      "0.1\n",
      "0.15\n",
      "0.2\n",
      "0.25\n",
      "0.3\n",
      "0.35\n",
      "0.4\n",
      "0.45\n",
      "0.5\n",
      "0.55\n",
      "0.6\n",
      "0.65\n",
      "0.7\n"
     ]
    }
   ],
   "source": [
    "#new df for simplification\n",
    "\n",
    "#only best hit\n",
    "df_looop = df_looop.sort_values('evalue').drop_duplicates(subset=['query'], keep='first')\n",
    "#dictionary to storage data\n",
    "data_colection_BH = []\n",
    "#number of iterations as index\n",
    "iterations = 0\n",
    "\n",
    "\n",
    "#for exponent in range(0, 22, 2): #creating list of evalues to check\n",
    "#    evalue = 0.1 ** exponent\n",
    "#    print(evalue)\n",
    "    \n",
    "    #filtering pvalue\n",
    "\n",
    "for fident in np.arange(0,.75,0.05):    \n",
    "    fident = round(fident, 3)\n",
    "    print(fident)\n",
    "    \n",
    "    for columna in columns_for_evaluation: #iterating over interesting columns #['PANTHER']:#\n",
    "                \n",
    "        \n",
    "        #for comb in combinations_with_replacement(np.arange(0,1,0.1), 2): #all combination with replacement of coverage values\n",
    "                        \n",
    "        #    comb0 = round(comb[0],2)\n",
    "        #    comb1 = round(comb[1],2)\n",
    "            \n",
    "        for evalue in [1e-30, 1e-20, 1e-15, 1e-10, 1e-5, 1e-2, 1]:\n",
    "\n",
    "\n",
    "\n",
    "            #colname\n",
    "            #columna_final =  columna + '_count_'+ str(fident)+ '_' + str(comb0) +'_'+ str(comb1) + '_' + str(evalue)\n",
    "            columna_final =  columna + '_count_'+ str(fident)+ '_' + str(evalue)\n",
    "\n",
    "            #filtering dataframe with parameters of interest\n",
    "            #df_looop = df_looop[(df_looop['fident'] > fident) & (df_looop['COV_query'] > comb0) & (df_looop['COV_target'] > comb1) & (df_looop['evalue'] < evalue)]\n",
    "            df_looop_filtered = df_looop[(df_looop['fident'] > fident) & (df_looop['evalue'] < evalue)]\n",
    "\n",
    "\n",
    "            #list_parameters.append([df_looop, columna, fident, comb0, comb1])\n",
    "\n",
    "            data_colection_BH.append( column_selection_coincidence_calculation(df_looop_filtered, columna, columna_final) )\n",
    "\n",
    "            #print(columna_final)\n"
   ]
  },
  {
   "cell_type": "code",
   "execution_count": null,
   "id": "7e6347f8-f6af-48bd-bd8b-ac245f39a64f",
   "metadata": {},
   "outputs": [],
   "source": []
  },
  {
   "cell_type": "code",
   "execution_count": null,
   "id": "b3c02c50-de2f-41e1-86c1-f5e3f0d9b372",
   "metadata": {},
   "outputs": [],
   "source": []
  },
  {
   "cell_type": "markdown",
   "id": "cc183c66-c91d-4218-a522-6158e37f5943",
   "metadata": {},
   "source": [
    "# Creating the dataframes "
   ]
  },
  {
   "cell_type": "code",
   "execution_count": 15,
   "id": "8b17b92c-da49-4635-98bb-7485f321ca1a",
   "metadata": {},
   "outputs": [],
   "source": [
    "def counting_values(df):\n",
    "    \n",
    "    df_gt0 = df.gt(0).sum()\n",
    "    df_eq0 = df.eq(0).sum()\n",
    "    df_NaN = df.isna().sum()\n",
    "    \n",
    "    #aclaracion en este conteo (los tres de abajo) los TP y FP pueden solaparse. Porque estamos contando para c/rbh si es correcto o no. Por ejemplo, si un query tiene 10 rbh correctos y 1 rbh incorrecto va a sumar 1 para cada categoria\n",
    "    #amount of gene TP\n",
    "    df_gt0_nunique_query = df.gt(0).groupby('query').sum().gt(0).sum()\n",
    "    \n",
    "    #amount of gene FP\n",
    "    df_eq0_nunique_query = df.eq(0).groupby('query').sum().gt(0).sum()\n",
    "    \n",
    "    #amount of gene NaN\n",
    "    df_NaN_nunique_query = df.isna().groupby('query').sum().gt(0).sum()\n",
    "    \n",
    "    #column names\n",
    "    df_gt0.name = 'TruePositive'\n",
    "    df_eq0.name = 'FalsePositive'\n",
    "    df_NaN.name = 'NaN'\n",
    "    \n",
    "    df_gt0_nunique_query.name = 'TruePositive_query_count'\n",
    "    df_eq0_nunique_query.name = 'FalsePositive_query_count'\n",
    "    df_NaN_nunique_query.name = 'NaN_query_count'\n",
    "    \n",
    "    \n",
    "    return pd.concat([df_gt0, df_eq0, df_NaN, df_gt0_nunique_query, df_eq0_nunique_query, df_NaN_nunique_query], axis=1)\n",
    "# precision\n",
    "def column_calculations(df, name):\n",
    "    df['sum_TPFP'] = df['TruePositive'] + df['FalsePositive']\n",
    "    df['precision'] = df['TruePositive'] / df['sum_TPFP']\n",
    "    df['TruePositive_x_sum_TPFP'] = df['TruePositive'] * df['precision']\n",
    "    \n",
    "    df.to_csv(name, sep='\\t')\n",
    "    \n",
    "    return df\n",
    "\n",
    "def counting_values(df):\n",
    "    \n",
    "    df_ALL = df.eq('ALL').sum()\n",
    "    df_1orMORE = df.eq('1orMORE').sum()    \n",
    "    df_CERO = df.eq('CERO').sum()\n",
    "    df_NaN = df.isna().sum()\n",
    "    \n",
    "    #aclaracion en este conteo (los tres de abajo) los TP y FP pueden solaparse. Porque estamos contando para c/rbh si es correcto o no. Por ejemplo, si un query tiene 10 rbh correctos y 1 rbh incorrecto va a sumar 1 para cada categoria\n",
    "    #amount of gene TP\n",
    "    df_ALL_nunique_query = df.eq('ALL').groupby('query').sum().gt(0).sum()\n",
    "    \n",
    "    #amount of gene partial TP\n",
    "    df_1orMORE_nunique_query = df.eq('1orMORE').groupby('query').sum().gt(0).sum()\n",
    "    \n",
    "    #amount of gene partial FP\n",
    "    df_CERO_nunique_query = df.eq('CERO').groupby('query').sum().gt(0).sum()\n",
    "    \n",
    "    #amount of gene NaN\n",
    "    df_NaN_nunique_query = df.isna().groupby('query').sum().gt(0).sum()\n",
    "    \n",
    "    #column names\n",
    "    df_ALL.name = 'ALL'\n",
    "    df_1orMORE.name = '1orMORE'\n",
    "    df_CERO.name = 'CERO'\n",
    "    df_NaN.name = 'NaN'\n",
    "    \n",
    "    df_ALL_nunique_query.name = 'ALL_TruePositive_query_count'\n",
    "    df_1orMORE_nunique_query.name = '1orMORE_TruePositive_query_count'\n",
    "    \n",
    "    df_CERO_nunique_query.name = 'CERO_FalsePositive_query_count'\n",
    "    df_NaN_nunique_query.name = 'NaN_query_count'\n",
    "    \n",
    "    \n",
    "    return pd.concat([df_ALL, df_1orMORE,df_CERO, df_NaN, df_ALL_nunique_query, df_1orMORE_nunique_query, df_CERO_nunique_query, df_NaN_nunique_query], axis=1)\n",
    "\n",
    "# precision\n",
    "def column_calculations_modif(df, name):\n",
    "    \n",
    "    df['TruePositive'] = df['ALL'] + df['1orMORE']\n",
    "    \n",
    "    df['sum_TPFP'] = df['TruePositive'] + df['CERO']\n",
    "    df['precision'] = df['TruePositive'] / df['sum_TPFP']\n",
    "    \n",
    "    df['TruePositive_x_sum_TPFP'] = df['TruePositive'] * df['precision']\n",
    "    \n",
    "    df.to_csv(name, sep='\\t')\n",
    "    \n",
    "    return df\n"
   ]
  },
  {
   "cell_type": "code",
   "execution_count": 16,
   "id": "b62719c5-f7e6-4e7d-b967-b57e8ed058eb",
   "metadata": {
    "tags": []
   },
   "outputs": [],
   "source": [
    "#concat outputs\n",
    "df_all_rbh = pd.concat(data_colection, axis=1)\n",
    "df_only_BH = pd.concat(data_colection_BH, axis=1)"
   ]
  },
  {
   "cell_type": "code",
   "execution_count": null,
   "id": "5e5b1b1e-6c0b-4e2a-9ffd-54f5f99fcd6f",
   "metadata": {},
   "outputs": [],
   "source": []
  },
  {
   "cell_type": "code",
   "execution_count": null,
   "id": "cb082f87-3f01-4383-8429-db73e1efeb9c",
   "metadata": {},
   "outputs": [],
   "source": []
  },
  {
   "cell_type": "code",
   "execution_count": 17,
   "id": "fd1f0692-0b3c-44e4-8462-d6d3237ad198",
   "metadata": {},
   "outputs": [],
   "source": [
    "#adding structure info\n",
    "df_all_rbh = df_rbh_km[['query', 'target']].merge(df_all_rbh, left_index=True, right_index=True, how='left')\n",
    "df_only_BH = df_rbh_km[['query', 'target']].merge(df_only_BH, left_index=True, right_index=True, how='left')"
   ]
  },
  {
   "cell_type": "code",
   "execution_count": 18,
   "id": "032f9107-a670-47d7-ad05-dc773aab85ee",
   "metadata": {},
   "outputs": [],
   "source": [
    "#to index\n",
    "df_all_rbh = df_all_rbh.set_index(['query', 'target'])\n",
    "df_only_BH = df_only_BH.set_index(['query', 'target'])"
   ]
  },
  {
   "cell_type": "code",
   "execution_count": 19,
   "id": "90809243-e016-46eb-97a4-a0c315857ca0",
   "metadata": {
    "tags": []
   },
   "outputs": [],
   "source": [
    "#smallinf the df\n",
    "#df_all_rbh = df_all_rbh.dropna(how='all')\n",
    "#df_only_BH = df_only_BH.dropna(how='all')"
   ]
  },
  {
   "cell_type": "code",
   "execution_count": 20,
   "id": "220e490a-6ede-4015-ab26-fbaa18faeb56",
   "metadata": {},
   "outputs": [
    {
     "data": {
      "text/plain": [
       "EC number_count_0.0_1e-30    10933\n",
       "EC number_count_0.0_1e-20    14500\n",
       "EC number_count_0.0_1e-15    16116\n",
       "EC number_count_0.0_1e-10    17587\n",
       "EC number_count_0.0_1e-05    18297\n",
       "                             ...  \n",
       "eggNOG_count_0.7_1e-15         175\n",
       "eggNOG_count_0.7_1e-10         175\n",
       "eggNOG_count_0.7_1e-05         175\n",
       "eggNOG_count_0.7_0.01          175\n",
       "eggNOG_count_0.7_1             175\n",
       "Length: 735, dtype: int64"
      ]
     },
     "execution_count": 20,
     "metadata": {},
     "output_type": "execute_result"
    }
   ],
   "source": [
    "df_all_rbh.eq('ALL').sum()"
   ]
  },
  {
   "cell_type": "markdown",
   "id": "4896cbd7-3585-4e37-a5e3-97f16b60d59d",
   "metadata": {},
   "source": [
    "## appying funtions "
   ]
  },
  {
   "cell_type": "code",
   "execution_count": 21,
   "id": "10e86f12-c1fd-46f3-a17b-99ec556ae288",
   "metadata": {
    "tags": []
   },
   "outputs": [],
   "source": [
    "df0 = df_all_rbh.pipe(counting_values).pipe(column_calculations_modif, 'rbh_all_hits_annotationDB_evaluation_TP_FP.tsv')\n",
    "\n",
    "df1 = df_only_BH.pipe(counting_values).pipe(column_calculations_modif, 'rbh_only_best_rbh_hit_annotationDB_evaluation_TP_FP.tsv')"
   ]
  },
  {
   "cell_type": "code",
   "execution_count": null,
   "id": "7eb142fe-b2ef-4b4d-a1c0-a2098a693f00",
   "metadata": {},
   "outputs": [],
   "source": []
  },
  {
   "cell_type": "code",
   "execution_count": null,
   "id": "15e36617-a153-4948-b4f9-aabb92d97259",
   "metadata": {},
   "outputs": [],
   "source": []
  },
  {
   "cell_type": "code",
   "execution_count": null,
   "id": "2860526a-c301-46f6-af04-4a0085422bd7",
   "metadata": {},
   "outputs": [],
   "source": []
  },
  {
   "cell_type": "code",
   "execution_count": null,
   "id": "31421c32-f354-475a-a47b-edfca91c1b2c",
   "metadata": {},
   "outputs": [],
   "source": []
  },
  {
   "cell_type": "code",
   "execution_count": null,
   "id": "5957915a-240d-4c29-9c19-b362d6280d6b",
   "metadata": {},
   "outputs": [],
   "source": []
  },
  {
   "cell_type": "code",
   "execution_count": null,
   "id": "dce9656d-9046-440b-9eb9-fc9a3d327609",
   "metadata": {},
   "outputs": [],
   "source": []
  },
  {
   "cell_type": "markdown",
   "id": "0f136d38-d71b-43bd-b77f-b5d26ced14ae",
   "metadata": {},
   "source": [
    "# CHEKING "
   ]
  },
  {
   "cell_type": "code",
   "execution_count": 22,
   "id": "5d4e0f57-36c1-4dae-8c14-86089b7931a1",
   "metadata": {},
   "outputs": [],
   "source": [
    "#new df for simplification\n",
    "df_looop = df_rbh_km.copy()\n",
    "#only best hit\n",
    "df_looop = df_looop.sort_values('evalue').drop_duplicates(subset=['query'], keep='first')"
   ]
  },
  {
   "cell_type": "code",
   "execution_count": 23,
   "id": "e3b32865-53de-496a-a146-98e01e559eba",
   "metadata": {},
   "outputs": [],
   "source": [
    "#DF_TEST = df_looop[['PANTHER_kineto','PANTHER_model']].dropna()"
   ]
  },
  {
   "cell_type": "code",
   "execution_count": 24,
   "id": "47fb19e4-044b-4927-830e-553eaf8f25a3",
   "metadata": {},
   "outputs": [],
   "source": [
    "df_looop = df_looop[(df_looop['fident'] > 0) & (df_looop['COV_query'] > 0) & (df_looop['COV_target'] > 0) ]"
   ]
  },
  {
   "cell_type": "code",
   "execution_count": 25,
   "id": "091dfd9b-abc8-4079-9fdc-1a6be49b8cd0",
   "metadata": {},
   "outputs": [
    {
     "data": {
      "text/html": [
       "<div>\n",
       "<style scoped>\n",
       "    .dataframe tbody tr th:only-of-type {\n",
       "        vertical-align: middle;\n",
       "    }\n",
       "\n",
       "    .dataframe tbody tr th {\n",
       "        vertical-align: top;\n",
       "    }\n",
       "\n",
       "    .dataframe thead th {\n",
       "        text-align: right;\n",
       "    }\n",
       "</style>\n",
       "<table border=\"1\" class=\"dataframe\">\n",
       "  <thead>\n",
       "    <tr style=\"text-align: right;\">\n",
       "      <th></th>\n",
       "      <th>PANTHER_kineto</th>\n",
       "      <th>PANTHER_model</th>\n",
       "    </tr>\n",
       "  </thead>\n",
       "  <tbody>\n",
       "    <tr>\n",
       "      <th>29793</th>\n",
       "      <td>PTHR11365:SF2;PTHR11365;</td>\n",
       "      <td>PTHR11365:SF2;PTHR11365;</td>\n",
       "    </tr>\n",
       "    <tr>\n",
       "      <th>99721</th>\n",
       "      <td>PTHR19376;PTHR19376:SF32;</td>\n",
       "      <td>PTHR19376;PTHR19376:SF32;</td>\n",
       "    </tr>\n",
       "    <tr>\n",
       "      <th>21966</th>\n",
       "      <td>PTHR11773:SF1;PTHR11773;</td>\n",
       "      <td>PTHR11773:SF1;PTHR11773;</td>\n",
       "    </tr>\n",
       "    <tr>\n",
       "      <th>78622</th>\n",
       "      <td>PTHR11573;PTHR11573:SF6;</td>\n",
       "      <td>PTHR11573:SF29;PTHR11573;</td>\n",
       "    </tr>\n",
       "    <tr>\n",
       "      <th>93046</th>\n",
       "      <td>PTHR10292:SF1;PTHR10292;</td>\n",
       "      <td>PTHR10292:SF1;PTHR10292;</td>\n",
       "    </tr>\n",
       "    <tr>\n",
       "      <th>...</th>\n",
       "      <td>...</td>\n",
       "      <td>...</td>\n",
       "    </tr>\n",
       "    <tr>\n",
       "      <th>1662</th>\n",
       "      <td>PTHR40736;PTHR40736:SF1;</td>\n",
       "      <td>PTHR11669:SF0;PTHR11669;</td>\n",
       "    </tr>\n",
       "    <tr>\n",
       "      <th>126047</th>\n",
       "      <td>PTHR20855:SF136;PTHR20855;</td>\n",
       "      <td>PTHR31888;PTHR31888:SF1;</td>\n",
       "    </tr>\n",
       "    <tr>\n",
       "      <th>112590</th>\n",
       "      <td>PTHR37035;PTHR37035:SF4;</td>\n",
       "      <td>PTHR33143;PTHR33143:SF47;</td>\n",
       "    </tr>\n",
       "    <tr>\n",
       "      <th>17665</th>\n",
       "      <td>PTHR33129:SF3;PTHR33129;</td>\n",
       "      <td>PTHR13864:SF10;PTHR13864;</td>\n",
       "    </tr>\n",
       "    <tr>\n",
       "      <th>56923</th>\n",
       "      <td>PTHR33332;PTHR33332:SF48;</td>\n",
       "      <td>PTHR15420:SF2;PTHR15420;</td>\n",
       "    </tr>\n",
       "  </tbody>\n",
       "</table>\n",
       "<p>4749 rows × 2 columns</p>\n",
       "</div>"
      ],
      "text/plain": [
       "                    PANTHER_kineto              PANTHER_model\n",
       "29793     PTHR11365:SF2;PTHR11365;   PTHR11365:SF2;PTHR11365;\n",
       "99721    PTHR19376;PTHR19376:SF32;  PTHR19376;PTHR19376:SF32;\n",
       "21966     PTHR11773:SF1;PTHR11773;   PTHR11773:SF1;PTHR11773;\n",
       "78622     PTHR11573;PTHR11573:SF6;  PTHR11573:SF29;PTHR11573;\n",
       "93046     PTHR10292:SF1;PTHR10292;   PTHR10292:SF1;PTHR10292;\n",
       "...                            ...                        ...\n",
       "1662      PTHR40736;PTHR40736:SF1;   PTHR11669:SF0;PTHR11669;\n",
       "126047  PTHR20855:SF136;PTHR20855;   PTHR31888;PTHR31888:SF1;\n",
       "112590    PTHR37035;PTHR37035:SF4;  PTHR33143;PTHR33143:SF47;\n",
       "17665     PTHR33129:SF3;PTHR33129;  PTHR13864:SF10;PTHR13864;\n",
       "56923    PTHR33332;PTHR33332:SF48;   PTHR15420:SF2;PTHR15420;\n",
       "\n",
       "[4749 rows x 2 columns]"
      ]
     },
     "execution_count": 25,
     "metadata": {},
     "output_type": "execute_result"
    }
   ],
   "source": [
    "df_looop[['PANTHER_kineto','PANTHER_model']].dropna()"
   ]
  },
  {
   "cell_type": "code",
   "execution_count": null,
   "id": "dcb106bc-9089-43c6-8b8f-d3716836e8df",
   "metadata": {},
   "outputs": [],
   "source": []
  }
 ],
 "metadata": {
  "kernelspec": {
   "display_name": "Python 3 (ipykernel)",
   "language": "python",
   "name": "python3"
  },
  "language_info": {
   "codemirror_mode": {
    "name": "ipython",
    "version": 3
   },
   "file_extension": ".py",
   "mimetype": "text/x-python",
   "name": "python",
   "nbconvert_exporter": "python",
   "pygments_lexer": "ipython3",
   "version": "3.8.8"
  }
 },
 "nbformat": 4,
 "nbformat_minor": 5
}
