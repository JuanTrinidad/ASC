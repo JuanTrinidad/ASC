{
 "cells": [
  {
   "cell_type": "code",
   "execution_count": 46,
   "id": "7039f0ac-df13-4e3b-95e6-0967a46d0199",
   "metadata": {},
   "outputs": [],
   "source": [
    "import pandas as pd\n",
    "import seaborn as sns\n",
    "import matplotlib.pyplot as plt"
   ]
  },
  {
   "cell_type": "markdown",
   "id": "0377127f-2d12-4b11-bbad-d02ea6ae1787",
   "metadata": {},
   "source": [
    "## saco de los subject los kinetoplastidos "
   ]
  },
  {
   "cell_type": "code",
   "execution_count": 83,
   "id": "a0794239-5cdd-4679-bd47-5bfe9c8d6b7a",
   "metadata": {},
   "outputs": [
    {
     "name": "stdout",
     "output_type": "stream",
     "text": [
      "23557\n",
      "48\n",
      "11371\n"
     ]
    }
   ],
   "source": [
    "df = pd.read_csv('../../../../results/reciprocal_best_hit_TSV/rbh_all_in_one_file.tsv', sep='\\t', index_col=0)\n",
    "print( df.query_uniprot_accession.nunique() )\n",
    "print( df.spp.nunique() )\n",
    "\n",
    "#only kineto df\n",
    "df_kineto = df.loc[df['spp'].isin(['TRYCC','TRYB2','LEIIN']),:]\n",
    "print( df_kineto.query_uniprot_accession.nunique() )\n",
    "\n",
    "#removing tryp organisms\n",
    "df = df.loc[~df['spp'].isin(['TRYCC','TRYB2','LEIIN']),:]\n",
    "\n",
    "#removing duplicates because in the subject db there are proteins with two files a pdb and cif\n",
    "df = df.drop_duplicates(subset = ['query_uniprot_accession', 'target_uniprot_accession'])"
   ]
  },
  {
   "cell_type": "code",
   "execution_count": null,
   "id": "424b4ea6-a147-46f1-8f3a-31e322ba2793",
   "metadata": {},
   "outputs": [],
   "source": []
  },
  {
   "cell_type": "code",
   "execution_count": 130,
   "id": "699be3fe-d116-44f1-a763-3c0621a23197",
   "metadata": {},
   "outputs": [],
   "source": [
    "\n",
    "#dataframe with GO annotation informattion\n",
    "df_gene_information1 = pd.read_csv('../../../../config/mandatory_files/Ortholog_group_to_geneID.tsv',\n",
    "                                  sep='\\t',\n",
    "                                  names=['Ortholog Group', 'geneID'])\n",
    "\n",
    "df_gene_information2 = pd.read_csv('../../../../config/mandatory_files/fasta_header_to_uniprot.tsv',\n",
    "                                  sep='\\t',\n",
    "                                  names=['geneID', 'uniprot'])"
   ]
  },
  {
   "cell_type": "code",
   "execution_count": 131,
   "id": "2388c8b9-3ddd-4b8a-954d-25ae51696522",
   "metadata": {},
   "outputs": [],
   "source": [
    "df_gene_information = df_gene_information2.merge(df_gene_information1)"
   ]
  },
  {
   "cell_type": "code",
   "execution_count": 137,
   "id": "fe55c09c-cc85-4f51-8935-7d878dec9e39",
   "metadata": {},
   "outputs": [
    {
     "data": {
      "text/plain": [
       "uniprot\n",
       "A0A2V2V8N5     48\n",
       "Q57WZ9         48\n",
       "A0A2V2VE03     49\n",
       "Q581G5         50\n",
       "Q584A6         50\n",
       "Q9U701         57\n",
       "Q584A5         69\n",
       "Q57TQ9         69\n",
       "Q4GY71         69\n",
       "Q580P3         70\n",
       "Q4GZ15         70\n",
       "Q581G2         70\n",
       "Q4GY91         70\n",
       "Q582W4         70\n",
       "Q581F5         71\n",
       "Q57YD5         83\n",
       "Q57YD6         83\n",
       "A0A2V2UI35    116\n",
       "A0A2V2WKF8    127\n",
       "A0A2V2UPG1    137\n",
       "Name: Ortholog Group, dtype: int64"
      ]
     },
     "execution_count": 137,
     "metadata": {},
     "output_type": "execute_result"
    }
   ],
   "source": [
    "df_gene_information.groupby('uniprot')['Ortholog Group'].size().sort_values().tail(20)"
   ]
  },
  {
   "cell_type": "code",
   "execution_count": 125,
   "id": "78cb8a05-4687-4c0f-9185-402b3ffde830",
   "metadata": {},
   "outputs": [],
   "source": [
    "df_gene_information = df_gene_information.drop_duplicates(subset=['uniprot','Ortholog Group'])"
   ]
  },
  {
   "cell_type": "markdown",
   "id": "2e7a2764-42cd-454d-9ce4-afbc6129306d",
   "metadata": {},
   "source": [
    "# contra que dan hit las proteinas en el rbh considerando solo kinetoplastidos"
   ]
  },
  {
   "cell_type": "code",
   "execution_count": null,
   "id": "e4474558-d8cc-41db-abfd-d4ed6a8f4ca8",
   "metadata": {},
   "outputs": [],
   "source": []
  },
  {
   "cell_type": "code",
   "execution_count": null,
   "id": "9bce3b5b-de2b-4d8b-a5a4-119de26d5b7c",
   "metadata": {},
   "outputs": [],
   "source": []
  },
  {
   "cell_type": "code",
   "execution_count": null,
   "id": "eb8c9f83-7b6f-49f9-b6bd-8944019881bc",
   "metadata": {},
   "outputs": [],
   "source": []
  },
  {
   "cell_type": "code",
   "execution_count": null,
   "id": "07dac44f-3320-4147-ae79-acdd80de198e",
   "metadata": {},
   "outputs": [],
   "source": []
  },
  {
   "cell_type": "code",
   "execution_count": 126,
   "id": "b841b46f-525e-4ee9-984a-5e0be157cc8d",
   "metadata": {
    "tags": []
   },
   "outputs": [
    {
     "name": "stdout",
     "output_type": "stream",
     "text": [
      "11371\n",
      "11371\n"
     ]
    }
   ],
   "source": [
    "df_kineto1 = df_kineto.merge(df_gene_information, left_on='query_uniprot_accession', right_on='uniprot', how='left')\n",
    "print( df_kineto1.query_uniprot_accession.nunique() )\n",
    "df_kineto2 = df_kineto1.merge(df_gene_information, left_on='target_uniprot_accession', right_on='uniprot', suffixes=['_query', '_target'], how='left')\n",
    "print( df_kineto2.query_uniprot_accession.nunique() )"
   ]
  },
  {
   "cell_type": "code",
   "execution_count": 127,
   "id": "8d0bed55-1552-4e7c-b36f-a301c303e090",
   "metadata": {},
   "outputs": [
    {
     "name": "stdout",
     "output_type": "stream",
     "text": [
      "Amount of rbh with hit\n",
      "11371\n",
      "Amount of rbh with its best hit been the same structure\n",
      "False    6233\n",
      "True     5138\n",
      "dtype: int64\n"
     ]
    }
   ],
   "source": [
    "#best hit for every structure\n",
    "\n",
    "df_kineto_one_hit_by_structure = df_kineto2.sort_values('evalue').drop_duplicates(subset=['query_uniprot_accession'], keep='first')\n",
    "\n",
    "#cuantas estructuras su mejor hit son ellas mismas?\n",
    "\n",
    "boolean_same_uniprot = df_kineto_one_hit_by_structure['query_uniprot_accession'] == df_kineto_one_hit_by_structure['target_uniprot_accession']\n",
    "\n",
    "print('Amount of rbh with hit')\n",
    "print(df_kineto2.query_uniprot_accession.nunique())\n",
    "print('Amount of rbh with its best hit been the same structure')\n",
    "print(boolean_same_uniprot.value_counts())"
   ]
  },
  {
   "cell_type": "markdown",
   "id": "ac099e13-3420-47f6-bb02-1b19b69a61ce",
   "metadata": {},
   "source": [
    "### Cuanto dan el mismo grupo de orthologos?"
   ]
  },
  {
   "cell_type": "code",
   "execution_count": 128,
   "id": "a10aa222-1f81-43d4-80b5-fb919fa3c049",
   "metadata": {},
   "outputs": [
    {
     "data": {
      "text/plain": [
       "True     9322\n",
       "False    2049\n",
       "Name: same_OG_qt, dtype: int64"
      ]
     },
     "execution_count": 128,
     "metadata": {},
     "output_type": "execute_result"
    }
   ],
   "source": [
    "df_kineto_one_hit_by_structure.loc[:,'same_OG_qt'] = df_kineto_one_hit_by_structure['Ortholog Group_query'] == df_kineto_one_hit_by_structure['Ortholog Group_target']\n",
    "\n",
    "df_kineto_one_hit_by_structure.same_OG_qt.value_counts()"
   ]
  },
  {
   "cell_type": "code",
   "execution_count": 129,
   "id": "18640ef2-7108-4ed7-9bcd-23605f6f5fc6",
   "metadata": {},
   "outputs": [
    {
     "data": {
      "text/plain": [
       "<seaborn.axisgrid.FacetGrid at 0x7fe2d1f69070>"
      ]
     },
     "execution_count": 129,
     "metadata": {},
     "output_type": "execute_result"
    },
    {
     "data": {
      "image/png": "[encoded data removed]",
      "text/plain": [
       "<Figure size 598.861x500 with 1 Axes>"
      ]
     },
     "metadata": {},
     "output_type": "display_data"
    }
   ],
   "source": [
    "#sns.displot(data=df_kineto_one_hit_by_structure, x='qlen', hue='same_OG_qt')\n",
    "sns.displot(data=df_kineto_one_hit_by_structure, x='qlen', hue='same_OG_qt', kind='ecdf')"
   ]
  },
  {
   "cell_type": "markdown",
   "id": "aabcc779-0591-47de-9f07-54d14d41bb59",
   "metadata": {},
   "source": [
    "# Organismos no kinetoplastidos "
   ]
  },
  {
   "cell_type": "code",
   "execution_count": 122,
   "id": "92ff1c62-50c6-47b0-9d26-b4ebf725d2e0",
   "metadata": {
    "tags": []
   },
   "outputs": [
    {
     "data": {
      "text/html": [
       "<div>\n",
       "<style scoped>\n",
       "    .dataframe tbody tr th:only-of-type {\n",
       "        vertical-align: middle;\n",
       "    }\n",
       "\n",
       "    .dataframe tbody tr th {\n",
       "        vertical-align: top;\n",
       "    }\n",
       "\n",
       "    .dataframe thead th {\n",
       "        text-align: right;\n",
       "    }\n",
       "</style>\n",
       "<table border=\"1\" class=\"dataframe\">\n",
       "  <thead>\n",
       "    <tr style=\"text-align: right;\">\n",
       "      <th></th>\n",
       "      <th>query</th>\n",
       "      <th>target</th>\n",
       "      <th>alnlen</th>\n",
       "      <th>fident</th>\n",
       "      <th>evalue</th>\n",
       "      <th>qstart</th>\n",
       "      <th>qend</th>\n",
       "      <th>qlen</th>\n",
       "      <th>tstart</th>\n",
       "      <th>tend</th>\n",
       "      <th>...</th>\n",
       "      <th>aligmentinfo</th>\n",
       "      <th>proteome</th>\n",
       "      <th>spp</th>\n",
       "      <th>query_uniprot_accession</th>\n",
       "      <th>target_uniprot_accession</th>\n",
       "      <th>COV_query</th>\n",
       "      <th>COV_target</th>\n",
       "      <th>geneID</th>\n",
       "      <th>uniprot</th>\n",
       "      <th>Ortholog Group</th>\n",
       "    </tr>\n",
       "  </thead>\n",
       "  <tbody>\n",
       "    <tr>\n",
       "      <th>0</th>\n",
       "      <td>AF-A0A7G2CFL2-F1-model_v4.pdb</td>\n",
       "      <td>AF-X8F7W8-F1-model_v4.cif.gz</td>\n",
       "      <td>32</td>\n",
       "      <td>0.124</td>\n",
       "      <td>8.705000e-02</td>\n",
       "      <td>223</td>\n",
       "      <td>334</td>\n",
       "      <td>338</td>\n",
       "      <td>8</td>\n",
       "      <td>114</td>\n",
       "      <td>...</td>\n",
       "      <td>4M9I10M7I16M1I2M4I2M1I15M11D8M3D19M1D6M2D8M</td>\n",
       "      <td>UP000020681</td>\n",
       "      <td>MYCUL</td>\n",
       "      <td>A0A7G2CFL2</td>\n",
       "      <td>X8F7W8</td>\n",
       "      <td>0.33</td>\n",
       "      <td>0.91</td>\n",
       "      <td>ADEAN_000562100</td>\n",
       "      <td>A0A7G2CFL2</td>\n",
       "      <td>OG6r16_220411</td>\n",
       "    </tr>\n",
       "    <tr>\n",
       "      <th>1</th>\n",
       "      <td>AF-V5AJJ7-F1-model_v4.pdb</td>\n",
       "      <td>AF-X8FNY1-F1-model_v4.pdb.gz</td>\n",
       "      <td>55</td>\n",
       "      <td>0.120</td>\n",
       "      <td>3.113000e-03</td>\n",
       "      <td>2</td>\n",
       "      <td>149</td>\n",
       "      <td>168</td>\n",
       "      <td>0</td>\n",
       "      <td>136</td>\n",
       "      <td>...</td>\n",
       "      <td>48M10I8M3I13M1D30M1D36M</td>\n",
       "      <td>UP000020681</td>\n",
       "      <td>MYCUL</td>\n",
       "      <td>V5AJJ7</td>\n",
       "      <td>X8FNY1</td>\n",
       "      <td>0.88</td>\n",
       "      <td>0.99</td>\n",
       "      <td>TCDM_11635</td>\n",
       "      <td>V5AJJ7</td>\n",
       "      <td>OG6r16_517451</td>\n",
       "    </tr>\n",
       "    <tr>\n",
       "      <th>2</th>\n",
       "      <td>AF-A0A0N0DRD1-F1-model_v4.pdb</td>\n",
       "      <td>AF-X8FHS3-F1-model_v4.cif.gz</td>\n",
       "      <td>39</td>\n",
       "      <td>0.250</td>\n",
       "      <td>1.137000e+00</td>\n",
       "      <td>126</td>\n",
       "      <td>169</td>\n",
       "      <td>404</td>\n",
       "      <td>5</td>\n",
       "      <td>48</td>\n",
       "      <td>...</td>\n",
       "      <td>44M</td>\n",
       "      <td>UP000020681</td>\n",
       "      <td>MYCUL</td>\n",
       "      <td>A0A0N0DRD1</td>\n",
       "      <td>X8FHS3</td>\n",
       "      <td>0.11</td>\n",
       "      <td>0.88</td>\n",
       "      <td>LpyrH10_30_0650</td>\n",
       "      <td>A0A0N0DRD1</td>\n",
       "      <td>OG6_126919</td>\n",
       "    </tr>\n",
       "    <tr>\n",
       "      <th>3</th>\n",
       "      <td>AF-A0A0N0DRD1-F1-model_v4.pdb</td>\n",
       "      <td>AF-X8EZS2-F1-model_v4.pdb.gz</td>\n",
       "      <td>39</td>\n",
       "      <td>0.154</td>\n",
       "      <td>8.348000e-03</td>\n",
       "      <td>107</td>\n",
       "      <td>359</td>\n",
       "      <td>404</td>\n",
       "      <td>2</td>\n",
       "      <td>307</td>\n",
       "      <td>...</td>\n",
       "      <td>42M1D10M16D17M37D7M1D8M8I14M5D12M2D11M1D43M6I1...</td>\n",
       "      <td>UP000020681</td>\n",
       "      <td>MYCUL</td>\n",
       "      <td>A0A0N0DRD1</td>\n",
       "      <td>X8EZS2</td>\n",
       "      <td>0.62</td>\n",
       "      <td>0.99</td>\n",
       "      <td>LpyrH10_30_0650</td>\n",
       "      <td>A0A0N0DRD1</td>\n",
       "      <td>OG6_126919</td>\n",
       "    </tr>\n",
       "    <tr>\n",
       "      <th>4</th>\n",
       "      <td>AF-A0A061J8G7-F1-model_v4.pdb</td>\n",
       "      <td>AF-X8FDF3-F1-model_v4.pdb.gz</td>\n",
       "      <td>126</td>\n",
       "      <td>0.200</td>\n",
       "      <td>1.400000e-02</td>\n",
       "      <td>61</td>\n",
       "      <td>130</td>\n",
       "      <td>194</td>\n",
       "      <td>1</td>\n",
       "      <td>67</td>\n",
       "      <td>...</td>\n",
       "      <td>55M3I12M</td>\n",
       "      <td>UP000020681</td>\n",
       "      <td>MYCUL</td>\n",
       "      <td>A0A061J8G7</td>\n",
       "      <td>X8FDF3</td>\n",
       "      <td>0.36</td>\n",
       "      <td>0.94</td>\n",
       "      <td>TRSC58_01846</td>\n",
       "      <td>A0A061J8G7</td>\n",
       "      <td>OG6_144747</td>\n",
       "    </tr>\n",
       "    <tr>\n",
       "      <th>...</th>\n",
       "      <td>...</td>\n",
       "      <td>...</td>\n",
       "      <td>...</td>\n",
       "      <td>...</td>\n",
       "      <td>...</td>\n",
       "      <td>...</td>\n",
       "      <td>...</td>\n",
       "      <td>...</td>\n",
       "      <td>...</td>\n",
       "      <td>...</td>\n",
       "      <td>...</td>\n",
       "      <td>...</td>\n",
       "      <td>...</td>\n",
       "      <td>...</td>\n",
       "      <td>...</td>\n",
       "      <td>...</td>\n",
       "      <td>...</td>\n",
       "      <td>...</td>\n",
       "      <td>...</td>\n",
       "      <td>...</td>\n",
       "      <td>...</td>\n",
       "    </tr>\n",
       "    <tr>\n",
       "      <th>286014</th>\n",
       "      <td>AF-Q4QGU6-F1-model_v4.pdb</td>\n",
       "      <td>AF-Q54RB5-F1-model_v4.pdb.gz</td>\n",
       "      <td>326</td>\n",
       "      <td>0.127</td>\n",
       "      <td>9.933000e-13</td>\n",
       "      <td>0</td>\n",
       "      <td>339</td>\n",
       "      <td>436</td>\n",
       "      <td>0</td>\n",
       "      <td>252</td>\n",
       "      <td>...</td>\n",
       "      <td>37M3I5M10I5M28I9M2D36M1I48M5I2M4D43M7I12M8I17M...</td>\n",
       "      <td>UP000002195</td>\n",
       "      <td>DICDI</td>\n",
       "      <td>Q4QGU6</td>\n",
       "      <td>Q54RB5</td>\n",
       "      <td>0.78</td>\n",
       "      <td>0.98</td>\n",
       "      <td>LMJLV39_110021000</td>\n",
       "      <td>Q4QGU6</td>\n",
       "      <td>OG6_136309</td>\n",
       "    </tr>\n",
       "    <tr>\n",
       "      <th>286015</th>\n",
       "      <td>AF-Q4QGU6-F1-model_v4.pdb</td>\n",
       "      <td>AF-Q54RB5-F1-model_v4.pdb.gz</td>\n",
       "      <td>326</td>\n",
       "      <td>0.127</td>\n",
       "      <td>9.933000e-13</td>\n",
       "      <td>0</td>\n",
       "      <td>339</td>\n",
       "      <td>436</td>\n",
       "      <td>0</td>\n",
       "      <td>252</td>\n",
       "      <td>...</td>\n",
       "      <td>37M3I5M10I5M28I9M2D36M1I48M5I2M4D43M7I12M8I17M...</td>\n",
       "      <td>UP000002195</td>\n",
       "      <td>DICDI</td>\n",
       "      <td>Q4QGU6</td>\n",
       "      <td>Q54RB5</td>\n",
       "      <td>0.78</td>\n",
       "      <td>0.98</td>\n",
       "      <td>LMJSD75_110021500</td>\n",
       "      <td>Q4QGU6</td>\n",
       "      <td>OG6_136309</td>\n",
       "    </tr>\n",
       "    <tr>\n",
       "      <th>286016</th>\n",
       "      <td>AF-Q4QGU6-F1-model_v4.pdb</td>\n",
       "      <td>AF-Q54RB5-F1-model_v4.pdb.gz</td>\n",
       "      <td>326</td>\n",
       "      <td>0.127</td>\n",
       "      <td>9.933000e-13</td>\n",
       "      <td>0</td>\n",
       "      <td>339</td>\n",
       "      <td>436</td>\n",
       "      <td>0</td>\n",
       "      <td>252</td>\n",
       "      <td>...</td>\n",
       "      <td>37M3I5M10I5M28I9M2D36M1I48M5I2M4D43M7I12M8I17M...</td>\n",
       "      <td>UP000002195</td>\n",
       "      <td>DICDI</td>\n",
       "      <td>Q4QGU6</td>\n",
       "      <td>Q54RB5</td>\n",
       "      <td>0.78</td>\n",
       "      <td>0.98</td>\n",
       "      <td>LmjF.11.1360</td>\n",
       "      <td>Q4QGU6</td>\n",
       "      <td>OG6_136309</td>\n",
       "    </tr>\n",
       "    <tr>\n",
       "      <th>286017</th>\n",
       "      <td>AF-Q4QGU6-F1-model_v4.pdb</td>\n",
       "      <td>AF-Q54RB5-F1-model_v4.pdb.gz</td>\n",
       "      <td>326</td>\n",
       "      <td>0.127</td>\n",
       "      <td>9.933000e-13</td>\n",
       "      <td>0</td>\n",
       "      <td>339</td>\n",
       "      <td>436</td>\n",
       "      <td>0</td>\n",
       "      <td>252</td>\n",
       "      <td>...</td>\n",
       "      <td>37M3I5M10I5M28I9M2D36M1I48M5I2M4D43M7I12M8I17M...</td>\n",
       "      <td>UP000002195</td>\n",
       "      <td>DICDI</td>\n",
       "      <td>Q4QGU6</td>\n",
       "      <td>Q54RB5</td>\n",
       "      <td>0.78</td>\n",
       "      <td>0.98</td>\n",
       "      <td>LmjF.11.1360</td>\n",
       "      <td>Q4QGU6</td>\n",
       "      <td>OG6_136309</td>\n",
       "    </tr>\n",
       "    <tr>\n",
       "      <th>286018</th>\n",
       "      <td>AF-F9WEG5-F1-model_v4.pdb</td>\n",
       "      <td>AF-Q54AS9-F1-model_v4.cif.gz</td>\n",
       "      <td>23</td>\n",
       "      <td>0.148</td>\n",
       "      <td>3.669000e-01</td>\n",
       "      <td>62</td>\n",
       "      <td>157</td>\n",
       "      <td>160</td>\n",
       "      <td>0</td>\n",
       "      <td>89</td>\n",
       "      <td>...</td>\n",
       "      <td>17M4D13M3I7M3I12M1D21M5I15M</td>\n",
       "      <td>UP000002195</td>\n",
       "      <td>DICDI</td>\n",
       "      <td>F9WEG5</td>\n",
       "      <td>Q54AS9</td>\n",
       "      <td>0.59</td>\n",
       "      <td>0.99</td>\n",
       "      <td>TcIL3000_0_00760</td>\n",
       "      <td>F9WEG5</td>\n",
       "      <td>OG6r16_516708</td>\n",
       "    </tr>\n",
       "  </tbody>\n",
       "</table>\n",
       "<p>286019 rows × 21 columns</p>\n",
       "</div>"
      ],
      "text/plain": [
       "                                query                        target  alnlen  \\\n",
       "0       AF-A0A7G2CFL2-F1-model_v4.pdb  AF-X8F7W8-F1-model_v4.cif.gz      32   \n",
       "1           AF-V5AJJ7-F1-model_v4.pdb  AF-X8FNY1-F1-model_v4.pdb.gz      55   \n",
       "2       AF-A0A0N0DRD1-F1-model_v4.pdb  AF-X8FHS3-F1-model_v4.cif.gz      39   \n",
       "3       AF-A0A0N0DRD1-F1-model_v4.pdb  AF-X8EZS2-F1-model_v4.pdb.gz      39   \n",
       "4       AF-A0A061J8G7-F1-model_v4.pdb  AF-X8FDF3-F1-model_v4.pdb.gz     126   \n",
       "...                               ...                           ...     ...   \n",
       "286014      AF-Q4QGU6-F1-model_v4.pdb  AF-Q54RB5-F1-model_v4.pdb.gz     326   \n",
       "286015      AF-Q4QGU6-F1-model_v4.pdb  AF-Q54RB5-F1-model_v4.pdb.gz     326   \n",
       "286016      AF-Q4QGU6-F1-model_v4.pdb  AF-Q54RB5-F1-model_v4.pdb.gz     326   \n",
       "286017      AF-Q4QGU6-F1-model_v4.pdb  AF-Q54RB5-F1-model_v4.pdb.gz     326   \n",
       "286018      AF-F9WEG5-F1-model_v4.pdb  AF-Q54AS9-F1-model_v4.cif.gz      23   \n",
       "\n",
       "        fident        evalue  qstart  qend  qlen  tstart  tend  ...  \\\n",
       "0        0.124  8.705000e-02     223   334   338       8   114  ...   \n",
       "1        0.120  3.113000e-03       2   149   168       0   136  ...   \n",
       "2        0.250  1.137000e+00     126   169   404       5    48  ...   \n",
       "3        0.154  8.348000e-03     107   359   404       2   307  ...   \n",
       "4        0.200  1.400000e-02      61   130   194       1    67  ...   \n",
       "...        ...           ...     ...   ...   ...     ...   ...  ...   \n",
       "286014   0.127  9.933000e-13       0   339   436       0   252  ...   \n",
       "286015   0.127  9.933000e-13       0   339   436       0   252  ...   \n",
       "286016   0.127  9.933000e-13       0   339   436       0   252  ...   \n",
       "286017   0.127  9.933000e-13       0   339   436       0   252  ...   \n",
       "286018   0.148  3.669000e-01      62   157   160       0    89  ...   \n",
       "\n",
       "                                             aligmentinfo     proteome    spp  \\\n",
       "0             4M9I10M7I16M1I2M4I2M1I15M11D8M3D19M1D6M2D8M  UP000020681  MYCUL   \n",
       "1                                 48M10I8M3I13M1D30M1D36M  UP000020681  MYCUL   \n",
       "2                                                     44M  UP000020681  MYCUL   \n",
       "3       42M1D10M16D17M37D7M1D8M8I14M5D12M2D11M1D43M6I1...  UP000020681  MYCUL   \n",
       "4                                                55M3I12M  UP000020681  MYCUL   \n",
       "...                                                   ...          ...    ...   \n",
       "286014  37M3I5M10I5M28I9M2D36M1I48M5I2M4D43M7I12M8I17M...  UP000002195  DICDI   \n",
       "286015  37M3I5M10I5M28I9M2D36M1I48M5I2M4D43M7I12M8I17M...  UP000002195  DICDI   \n",
       "286016  37M3I5M10I5M28I9M2D36M1I48M5I2M4D43M7I12M8I17M...  UP000002195  DICDI   \n",
       "286017  37M3I5M10I5M28I9M2D36M1I48M5I2M4D43M7I12M8I17M...  UP000002195  DICDI   \n",
       "286018                        17M4D13M3I7M3I12M1D21M5I15M  UP000002195  DICDI   \n",
       "\n",
       "       query_uniprot_accession target_uniprot_accession COV_query  COV_target  \\\n",
       "0                   A0A7G2CFL2                   X8F7W8      0.33        0.91   \n",
       "1                       V5AJJ7                   X8FNY1      0.88        0.99   \n",
       "2                   A0A0N0DRD1                   X8FHS3      0.11        0.88   \n",
       "3                   A0A0N0DRD1                   X8EZS2      0.62        0.99   \n",
       "4                   A0A061J8G7                   X8FDF3      0.36        0.94   \n",
       "...                        ...                      ...       ...         ...   \n",
       "286014                  Q4QGU6                   Q54RB5      0.78        0.98   \n",
       "286015                  Q4QGU6                   Q54RB5      0.78        0.98   \n",
       "286016                  Q4QGU6                   Q54RB5      0.78        0.98   \n",
       "286017                  Q4QGU6                   Q54RB5      0.78        0.98   \n",
       "286018                  F9WEG5                   Q54AS9      0.59        0.99   \n",
       "\n",
       "                   geneID     uniprot Ortholog Group  \n",
       "0         ADEAN_000562100  A0A7G2CFL2  OG6r16_220411  \n",
       "1              TCDM_11635      V5AJJ7  OG6r16_517451  \n",
       "2         LpyrH10_30_0650  A0A0N0DRD1     OG6_126919  \n",
       "3         LpyrH10_30_0650  A0A0N0DRD1     OG6_126919  \n",
       "4            TRSC58_01846  A0A061J8G7     OG6_144747  \n",
       "...                   ...         ...            ...  \n",
       "286014  LMJLV39_110021000      Q4QGU6     OG6_136309  \n",
       "286015  LMJSD75_110021500      Q4QGU6     OG6_136309  \n",
       "286016       LmjF.11.1360      Q4QGU6     OG6_136309  \n",
       "286017       LmjF.11.1360      Q4QGU6     OG6_136309  \n",
       "286018   TcIL3000_0_00760      F9WEG5  OG6r16_516708  \n",
       "\n",
       "[286019 rows x 21 columns]"
      ]
     },
     "execution_count": 122,
     "metadata": {},
     "output_type": "execute_result"
    }
   ],
   "source": [
    "df.merge(df_gene_information, left_on='query_uniprot_accession', right_on='uniprot', how='left')"
   ]
  },
  {
   "cell_type": "code",
   "execution_count": 80,
   "id": "738753e3-1fd5-4242-bec8-5eb138e99a36",
   "metadata": {},
   "outputs": [
    {
     "data": {
      "text/plain": [
       "20395"
      ]
     },
     "execution_count": 80,
     "metadata": {},
     "output_type": "execute_result"
    }
   ],
   "source": [
    "df.query_uniprot_accession.nunique()"
   ]
  },
  {
   "cell_type": "code",
   "execution_count": 121,
   "id": "30a38def-b368-4cf0-9995-5422db4bf0f2",
   "metadata": {},
   "outputs": [
    {
     "data": {
      "text/plain": [
       "(118739, 18)"
      ]
     },
     "execution_count": 121,
     "metadata": {},
     "output_type": "execute_result"
    }
   ],
   "source": [
    "df.shape"
   ]
  },
  {
   "cell_type": "code",
   "execution_count": null,
   "id": "754dab6e-2164-4054-9e92-208fcde0f8f9",
   "metadata": {},
   "outputs": [],
   "source": []
  }
 ],
 "metadata": {
  "kernelspec": {
   "display_name": "Python 3 (ipykernel)",
   "language": "python",
   "name": "python3"
  },
  "language_info": {
   "codemirror_mode": {
    "name": "ipython",
    "version": 3
   },
   "file_extension": ".py",
   "mimetype": "text/x-python",
   "name": "python",
   "nbconvert_exporter": "python",
   "pygments_lexer": "ipython3",
   "version": "3.8.8"
  }
 },
 "nbformat": 4,
 "nbformat_minor": 5
}
