{
 "cells": [
  {
   "cell_type": "code",
   "execution_count": 1,
   "id": "b3e098a1-c675-43d8-8599-441868e2dfcc",
   "metadata": {},
   "outputs": [],
   "source": [
    "import pandas as pd"
   ]
  },
  {
   "cell_type": "code",
   "execution_count": 2,
   "id": "975b530a-3d53-4264-8e1d-42bb0a21def8",
   "metadata": {},
   "outputs": [],
   "source": [
    "\n",
    "def get_only_uniprot_accession(df, colname):\n",
    "    \n",
    "    colname_out = colname + '_uniprot_accession'\n",
    "    \n",
    "    df[colname_out] = df[colname].str.split('-', expand=True)[1]\n",
    "    \n",
    "    return df\n",
    "\n",
    "\n",
    "def calc_coverage(df, which_one ,start, end, lenght):\n",
    "    \n",
    "    col_name = 'COV_' + which_one\n",
    "    \n",
    "    df[col_name] = (df.loc[: , end] - df.loc[: , start]) / df.loc[: , lenght]\n",
    "    \n",
    "    df[col_name] = df[col_name].round(2)\n",
    "    \n",
    "    return df"
   ]
  },
  {
   "cell_type": "code",
   "execution_count": null,
   "id": "48b0622b-810b-4d8d-8e73-bc08156f4bd1",
   "metadata": {},
   "outputs": [],
   "source": []
  },
  {
   "cell_type": "markdown",
   "id": "5f5563bb-9779-41ad-8e32-3a3aea21abb1",
   "metadata": {},
   "source": [
    "## Importing df "
   ]
  },
  {
   "cell_type": "code",
   "execution_count": 3,
   "id": "68402a5f-926c-47dd-bf07-1bd9853d16a7",
   "metadata": {},
   "outputs": [],
   "source": [
    "df = pd.read_csv('../../../../results/foldseek_search_TSV/cluster_representer_vs_SwissProt.tsv', \n",
    "            sep='\\t', \n",
    "            names = ['query','target','alnlen','fident', 'evalue', 'qstart','qend', 'qlen','tstart','tend','tlen','aligmentinfo'])"
   ]
  },
  {
   "cell_type": "code",
   "execution_count": null,
   "id": "c4afdd62-9612-43f1-a873-e3c8da03f4dc",
   "metadata": {},
   "outputs": [],
   "source": []
  },
  {
   "cell_type": "markdown",
   "id": "f3d12467-f4b3-48e7-9667-7b45a240d8c9",
   "metadata": {},
   "source": [
    "## modifing columns"
   ]
  },
  {
   "cell_type": "code",
   "execution_count": 4,
   "id": "ebb5a332-f87b-4229-b45f-a9c519a6a5d1",
   "metadata": {},
   "outputs": [
    {
     "name": "stdout",
     "output_type": "stream",
     "text": [
      "(1504223, 16)\n",
      "(1504223, 16)\n"
     ]
    }
   ],
   "source": [
    "df = (df\n",
    " .pipe(get_only_uniprot_accession, 'query')\n",
    " .pipe(get_only_uniprot_accession, 'target')\n",
    " .pipe(calc_coverage, 'query', 'qstart', 'qend','qlen')\n",
    " .pipe(calc_coverage, 'target', 'tstart', 'tend','tlen'))\n",
    "\n",
    "print(df.shape)\n",
    "\n",
    "df = df.drop_duplicates(['query_uniprot_accession', 'target_uniprot_accession'])\n",
    "\n",
    "print(df.shape)"
   ]
  },
  {
   "cell_type": "code",
   "execution_count": null,
   "id": "10613b44-2089-462f-959a-df617854dbea",
   "metadata": {},
   "outputs": [],
   "source": []
  },
  {
   "cell_type": "code",
   "execution_count": null,
   "id": "62dabc92-8931-4d79-8c3c-2a543bbdc339",
   "metadata": {},
   "outputs": [],
   "source": []
  },
  {
   "cell_type": "markdown",
   "id": "a2c1e8b2-7867-45f8-a642-cb058f312444",
   "metadata": {},
   "source": [
    "## Amount of cluster with rbh result "
   ]
  },
  {
   "cell_type": "code",
   "execution_count": 5,
   "id": "20902e5d-f208-4a37-9567-339edbdaf2df",
   "metadata": {},
   "outputs": [
    {
     "name": "stdout",
     "output_type": "stream",
     "text": [
      "Total amount of cluster to annotate:\n",
      "14998\n"
     ]
    }
   ],
   "source": [
    "df_ogup = pd.read_csv('../../../report/ortholog_groups_x_sequence_clustering_x_UNIPROT.tsv', sep='\\t')\n",
    "\n",
    "df_ogup = df_ogup[~df_ogup.uniprot.isna()]\n",
    "\n",
    "print('Total amount of cluster to annotate:')\n",
    "print(df_ogup.Ortholog_Group.nunique())"
   ]
  },
  {
   "cell_type": "code",
   "execution_count": 6,
   "id": "62cc2696-bf0b-46ee-80b1-40f100cd353b",
   "metadata": {},
   "outputs": [],
   "source": [
    "#merging df \n",
    "df_merged = df_ogup.merge(df, left_on='uniprot', right_on='query_uniprot_accession', how='right')"
   ]
  },
  {
   "cell_type": "code",
   "execution_count": 7,
   "id": "4805a616-de21-44e1-a23b-63d58b4c5a04",
   "metadata": {},
   "outputs": [
    {
     "data": {
      "text/plain": [
       "6047"
      ]
     },
     "execution_count": 7,
     "metadata": {},
     "output_type": "execute_result"
    }
   ],
   "source": [
    "df_merged[\n",
    "    (df_merged['COV_query'] > .7) &\n",
    "    (df_merged['COV_target'] > .7) &\n",
    "    (df_merged['evalue'] < 1e-5)].sort_values('evalue').Ortholog_Group.nunique()"
   ]
  },
  {
   "cell_type": "code",
   "execution_count": 10,
   "id": "4f9af02e-bf66-4317-a9fd-0d7bb61881ee",
   "metadata": {},
   "outputs": [
    {
     "data": {
      "text/plain": [
       "8811"
      ]
     },
     "execution_count": 10,
     "metadata": {},
     "output_type": "execute_result"
    }
   ],
   "source": [
    "df.query_uniprot_accession.nunique()"
   ]
  },
  {
   "cell_type": "code",
   "execution_count": null,
   "id": "4c4e3c83-a7df-4ac4-b9a4-7f5f3a9b3589",
   "metadata": {},
   "outputs": [],
   "source": []
  }
 ],
 "metadata": {
  "kernelspec": {
   "display_name": "Python 3 (ipykernel)",
   "language": "python",
   "name": "python3"
  },
  "language_info": {
   "codemirror_mode": {
    "name": "ipython",
    "version": 3
   },
   "file_extension": ".py",
   "mimetype": "text/x-python",
   "name": "python",
   "nbconvert_exporter": "python",
   "pygments_lexer": "ipython3",
   "version": "3.8.8"
  }
 },
 "nbformat": 4,
 "nbformat_minor": 5
}
