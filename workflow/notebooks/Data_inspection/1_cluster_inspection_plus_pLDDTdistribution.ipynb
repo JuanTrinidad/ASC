{
 "cells": [
  {
   "cell_type": "code",
   "execution_count": 3,
   "id": "1b05ecc8-ba4f-46e5-8aeb-25d59787f13a",
   "metadata": {},
   "outputs": [],
   "source": [
    "import pandas as pd\n",
    "import seaborn as sns\n",
    "from Bio import SeqIO\n",
    "import os\n",
    "pd.options.display.max_columns = None"
   ]
  },
  {
   "cell_type": "code",
   "execution_count": 4,
   "id": "ba13b22e-027a-4d3e-9b70-06caa56ef918",
   "metadata": {
    "tags": []
   },
   "outputs": [],
   "source": [
    "#funtion to search into fasta file and create cluster fasta files\n",
    "\n",
    "def looking_in_fasta_file(name_geid_list, dest_dir, name_file):\n",
    "\n",
    "    with open('../../genome_data_sets/query_proteomes/fasta_files/TriTrypDB-63_All_species_clean.fa', \"r\") as input_file:\n",
    "        \n",
    "        #dest_dir = '../../tmp/report_files/sequences_to_be_modelated/'\n",
    "        name =  dest_dir + name_file\n",
    "        \n",
    "        \n",
    "        if not os.path.exists(dest_dir):\n",
    "            os.makedirs(dest_dir)\n",
    "            \n",
    "        with open(name, \"w\") as output_file:\n",
    "\n",
    "            for record in SeqIO.parse(input_file, \"fasta\"):\n",
    "\n",
    "                if record.id in name_geid_list:\n",
    "\n",
    "                    SeqIO.write(record, output_file, \"fasta\")"
   ]
  },
  {
   "cell_type": "markdown",
   "id": "35c0a036-a04e-4e9e-bdea-43861d92a477",
   "metadata": {},
   "source": [
    "# Cluster sices "
   ]
  },
  {
   "cell_type": "code",
   "execution_count": 5,
   "id": "49f1f892-4bcf-467d-8f62-d1248f23cfbc",
   "metadata": {},
   "outputs": [],
   "source": [
    "df_OG_Tritryp = pd.read_csv('../../../config/mandatory_files/Ortholog_group_to_geneID.tsv', sep='\\t', header=None, names=['OG','geneID'])"
   ]
  },
  {
   "cell_type": "code",
   "execution_count": 6,
   "id": "2531fbba-a472-45f9-b754-c14d0fa14d4f",
   "metadata": {},
   "outputs": [
    {
     "name": "stdout",
     "output_type": "stream",
     "text": [
      "272483\n"
     ]
    }
   ],
   "source": [
    "!ls ../../genome_data_sets/query_proteomes/pdb_files/prot_structure_download_from_AlphaFoldDB/ | wc -l"
   ]
  },
  {
   "cell_type": "code",
   "execution_count": 7,
   "id": "39b6bf97-13b3-40d0-b994-5e5af1013cfa",
   "metadata": {},
   "outputs": [],
   "source": [
    "df_OG_Tritryp_sices = df_OG_Tritryp.groupby('OG')['geneID'].size().to_frame().reset_index()"
   ]
  },
  {
   "cell_type": "code",
   "execution_count": null,
   "id": "3fca98bc-de80-475d-a692-d0dd65033358",
   "metadata": {},
   "outputs": [],
   "source": []
  },
  {
   "cell_type": "code",
   "execution_count": 8,
   "id": "e4bbd8e2-8420-4f71-870a-bcd5df370197",
   "metadata": {},
   "outputs": [
    {
     "data": {
      "text/plain": [
       "(12586, 2)"
      ]
     },
     "execution_count": 8,
     "metadata": {},
     "output_type": "execute_result"
    },
    {
     "data": {
      "image/png": "[encoded data removed]",
      "text/plain": [
       "<Figure size 500x500 with 1 Axes>"
      ]
     },
     "metadata": {},
     "output_type": "display_data"
    }
   ],
   "source": [
    "df_filter1 = df_OG_Tritryp_sices[(df_OG_Tritryp_sices['geneID'] > 1) & (df_OG_Tritryp_sices['geneID'] < 100)]\n",
    "\n",
    "\n",
    "sns.displot(data=df_filter1, \n",
    "           x='geneID')\n",
    "\n",
    "\n",
    "df_filter1.shape"
   ]
  },
  {
   "cell_type": "code",
   "execution_count": null,
   "id": "8c90741e-1b73-4012-9a4c-b2fd8f63add5",
   "metadata": {},
   "outputs": [],
   "source": []
  },
  {
   "cell_type": "code",
   "execution_count": null,
   "id": "fc5d0ee3-7291-4040-9bfd-79be9ef70561",
   "metadata": {},
   "outputs": [],
   "source": []
  },
  {
   "cell_type": "markdown",
   "id": "25775d1b-af19-466a-9c40-358b38df1630",
   "metadata": {},
   "source": [
    "# Amount of uniprot downloaded - available in AFDB"
   ]
  },
  {
   "cell_type": "code",
   "execution_count": 11,
   "id": "fabd99b7-0c6f-4b8f-af90-78c3de630dd7",
   "metadata": {},
   "outputs": [],
   "source": [
    "df_uniprot_pLDDT = pd.read_csv('../../report/protein_structure_pLDDT_mean.tsv', sep='\\t', header=None, names=['uniprot','pLDDT_mean'])\n",
    "\n",
    "df_mandatory_uniprot = pd.read_csv('../../../config/mandatory_files/fasta_header_to_uniprot.tsv', sep='\\t', header=None, names=['geneID','uniprot'])"
   ]
  },
  {
   "cell_type": "code",
   "execution_count": 12,
   "id": "93e7d244-929f-407e-92dc-b24e9ee94e55",
   "metadata": {},
   "outputs": [
    {
     "data": {
      "text/plain": [
       "272483"
      ]
     },
     "execution_count": 12,
     "metadata": {},
     "output_type": "execute_result"
    }
   ],
   "source": [
    "df_mandatory_uniprot.uniprot.nunique()"
   ]
  },
  {
   "cell_type": "code",
   "execution_count": 13,
   "id": "c6a1e57f-c844-4b74-9fca-b2d23b8db852",
   "metadata": {},
   "outputs": [
    {
     "data": {
      "text/plain": [
       "272483"
      ]
     },
     "execution_count": 13,
     "metadata": {},
     "output_type": "execute_result"
    }
   ],
   "source": [
    "df_uniprot_pLDDT.uniprot.nunique()"
   ]
  },
  {
   "cell_type": "code",
   "execution_count": null,
   "id": "d283fc91-6ac3-4713-97f0-fbd82a622a8e",
   "metadata": {},
   "outputs": [],
   "source": []
  },
  {
   "cell_type": "code",
   "execution_count": null,
   "id": "270b3eb4-9197-45d2-a5ed-1b8bf3731aa8",
   "metadata": {},
   "outputs": [],
   "source": []
  },
  {
   "cell_type": "markdown",
   "id": "19119979-17b2-4699-8e1c-616ff5b437b2",
   "metadata": {},
   "source": [
    "# Protein structure inspection "
   ]
  },
  {
   "cell_type": "code",
   "execution_count": 14,
   "id": "19cfd69b-e620-4361-9357-6df29e3ac39c",
   "metadata": {
    "tags": []
   },
   "outputs": [
    {
     "data": {
      "text/plain": [
       "\"df_gene_information = pd.read_csv('../../tmp/GenesByOrthologPattern_Summary.txt',\\n                                  sep='\\t',\\n                                  low_memory=False)\\n\\northo_g_count = df_gene_information.groupby('Ortholog Group').size().to_frame()\""
      ]
     },
     "execution_count": 14,
     "metadata": {},
     "output_type": "execute_result"
    }
   ],
   "source": [
    "df_ortho = pd.read_csv('../../report/ortholog_groups_x_sequence_clustering_x_UNIPROT.tsv', sep='\\t')\n",
    "\n",
    "#dataframe with GO annotation informattion\n",
    "'''df_gene_information = pd.read_csv('../../tmp/GenesByOrthologPattern_Summary.txt',\n",
    "                                  sep='\\t',\n",
    "                                  low_memory=False)\n",
    "\n",
    "ortho_g_count = df_gene_information.groupby('Ortholog Group').size().to_frame()'''"
   ]
  },
  {
   "cell_type": "code",
   "execution_count": null,
   "id": "847d5d34-8fe8-4cb8-a24d-f5a7549d5f2d",
   "metadata": {},
   "outputs": [],
   "source": []
  },
  {
   "cell_type": "code",
   "execution_count": 18,
   "id": "90ad43c6-d53e-4420-be72-d28614aa1ccd",
   "metadata": {},
   "outputs": [
    {
     "name": "stdout",
     "output_type": "stream",
     "text": [
      "Cluster totales: 13001\n",
      "Cluster totales con estructura: 12459\n",
      "Cluster totales sin estructura: 542\n"
     ]
    }
   ],
   "source": [
    "print('Cluster totales:', df_ortho.Ortholog_Group.nunique())\n",
    "print('Cluster totales con estructura:', df_ortho[~df_ortho['pLDDT_mean'].isna()].Ortholog_Group.nunique())\n",
    "print('Cluster totales sin estructura:', df_ortho[df_ortho['pLDDT_mean'].isna()].Ortholog_Group.nunique())"
   ]
  },
  {
   "cell_type": "code",
   "execution_count": 16,
   "id": "db547a4c-5960-46c1-a56d-6e4023ca493a",
   "metadata": {},
   "outputs": [
    {
     "data": {
      "text/html": [
       "<div>\n",
       "<style scoped>\n",
       "    .dataframe tbody tr th:only-of-type {\n",
       "        vertical-align: middle;\n",
       "    }\n",
       "\n",
       "    .dataframe tbody tr th {\n",
       "        vertical-align: top;\n",
       "    }\n",
       "\n",
       "    .dataframe thead th {\n",
       "        text-align: right;\n",
       "    }\n",
       "</style>\n",
       "<table border=\"1\" class=\"dataframe\">\n",
       "  <thead>\n",
       "    <tr style=\"text-align: right;\">\n",
       "      <th></th>\n",
       "      <th>Ortholog_Group</th>\n",
       "      <th>Gene ID</th>\n",
       "      <th>uniprot</th>\n",
       "      <th>pLDDT_mean</th>\n",
       "    </tr>\n",
       "  </thead>\n",
       "  <tbody>\n",
       "    <tr>\n",
       "      <th>0</th>\n",
       "      <td>DQ04_00151050</td>\n",
       "      <td>LdCL_350035500</td>\n",
       "      <td>A0A504XBM6</td>\n",
       "      <td>99.0</td>\n",
       "    </tr>\n",
       "    <tr>\n",
       "      <th>1</th>\n",
       "      <td>Tc_MARK_3549</td>\n",
       "      <td>TcCL_NonESM02890</td>\n",
       "      <td>Q26970</td>\n",
       "      <td>99.0</td>\n",
       "    </tr>\n",
       "    <tr>\n",
       "      <th>2</th>\n",
       "      <td>BCY84_05030</td>\n",
       "      <td>LmxM.24.2060</td>\n",
       "      <td>E9AX52</td>\n",
       "      <td>99.0</td>\n",
       "    </tr>\n",
       "    <tr>\n",
       "      <th>3</th>\n",
       "      <td>TM35_000012830</td>\n",
       "      <td>TvY486_0302300</td>\n",
       "      <td>Q9GPQ4</td>\n",
       "      <td>99.0</td>\n",
       "    </tr>\n",
       "    <tr>\n",
       "      <th>4</th>\n",
       "      <td>LMARLEM2494_330033600</td>\n",
       "      <td>LdCL_110011800</td>\n",
       "      <td>A0A6J8F609</td>\n",
       "      <td>98.0</td>\n",
       "    </tr>\n",
       "    <tr>\n",
       "      <th>...</th>\n",
       "      <td>...</td>\n",
       "      <td>...</td>\n",
       "      <td>...</td>\n",
       "      <td>...</td>\n",
       "    </tr>\n",
       "    <tr>\n",
       "      <th>12996</th>\n",
       "      <td>LTRL590_160020400</td>\n",
       "      <td>LTRL590_160020400</td>\n",
       "      <td>NaN</td>\n",
       "      <td>NaN</td>\n",
       "    </tr>\n",
       "    <tr>\n",
       "      <th>12997</th>\n",
       "      <td>TcCL_NonESM07865</td>\n",
       "      <td>TcCL_NonESM07865</td>\n",
       "      <td>NaN</td>\n",
       "      <td>NaN</td>\n",
       "    </tr>\n",
       "    <tr>\n",
       "      <th>12998</th>\n",
       "      <td>LMARLEM2494_230016100</td>\n",
       "      <td>LMARLEM2494_230016100</td>\n",
       "      <td>NaN</td>\n",
       "      <td>NaN</td>\n",
       "    </tr>\n",
       "    <tr>\n",
       "      <th>12999</th>\n",
       "      <td>BCY84_03031</td>\n",
       "      <td>BCY84_03031</td>\n",
       "      <td>NaN</td>\n",
       "      <td>NaN</td>\n",
       "    </tr>\n",
       "    <tr>\n",
       "      <th>13000</th>\n",
       "      <td>TcIL3000_0_55410</td>\n",
       "      <td>TcIL3000_0_55410</td>\n",
       "      <td>NaN</td>\n",
       "      <td>NaN</td>\n",
       "    </tr>\n",
       "  </tbody>\n",
       "</table>\n",
       "<p>13001 rows × 4 columns</p>\n",
       "</div>"
      ],
      "text/plain": [
       "              Ortholog_Group                Gene ID     uniprot  pLDDT_mean\n",
       "0              DQ04_00151050         LdCL_350035500  A0A504XBM6        99.0\n",
       "1               Tc_MARK_3549       TcCL_NonESM02890      Q26970        99.0\n",
       "2                BCY84_05030           LmxM.24.2060      E9AX52        99.0\n",
       "3             TM35_000012830         TvY486_0302300      Q9GPQ4        99.0\n",
       "4      LMARLEM2494_330033600         LdCL_110011800  A0A6J8F609        98.0\n",
       "...                      ...                    ...         ...         ...\n",
       "12996      LTRL590_160020400      LTRL590_160020400         NaN         NaN\n",
       "12997       TcCL_NonESM07865       TcCL_NonESM07865         NaN         NaN\n",
       "12998  LMARLEM2494_230016100  LMARLEM2494_230016100         NaN         NaN\n",
       "12999            BCY84_03031            BCY84_03031         NaN         NaN\n",
       "13000       TcIL3000_0_55410       TcIL3000_0_55410         NaN         NaN\n",
       "\n",
       "[13001 rows x 4 columns]"
      ]
     },
     "execution_count": 16,
     "metadata": {},
     "output_type": "execute_result"
    }
   ],
   "source": [
    "df_ortho"
   ]
  },
  {
   "cell_type": "code",
   "execution_count": null,
   "id": "7d661105-0389-4996-beb8-faaf32be62de",
   "metadata": {},
   "outputs": [],
   "source": []
  },
  {
   "cell_type": "markdown",
   "id": "150fcab1-020e-4d4a-8c7c-80e0719a4b63",
   "metadata": {},
   "source": [
    "## plotting purpose "
   ]
  },
  {
   "cell_type": "code",
   "execution_count": 16,
   "id": "ab2512ed-ea03-4a63-9d85-3b1a1d731a91",
   "metadata": {},
   "outputs": [
    {
     "name": "stderr",
     "output_type": "stream",
     "text": [
      "/tmp/ipykernel_3282997/628084746.py:2: SettingWithCopyWarning: \n",
      "A value is trying to be set on a copy of a slice from a DataFrame.\n",
      "Try using .loc[row_indexer,col_indexer] = value instead\n",
      "\n",
      "See the caveats in the documentation: https://pandas.pydata.org/pandas-docs/stable/user_guide/indexing.html#returning-a-view-versus-a-copy\n",
      "  for_ploting.loc[:,'hue'] = 'selected'\n"
     ]
    }
   ],
   "source": [
    "for_ploting = df_ortho[['uniprot', 'pLDDT_mean']]\n",
    "for_ploting.loc[:,'hue'] = 'selected'\n",
    "\n",
    "df_uniprot_pLDDT.loc[:,'hue'] = 'total'\n",
    "\n",
    "for_ploting = pd.concat([for_ploting, df_uniprot_pLDDT])\n",
    "for_ploting = for_ploting.reset_index(drop=True)"
   ]
  },
  {
   "cell_type": "code",
   "execution_count": null,
   "id": "b24a71f1-2a25-4bef-a088-f4fa1573ba47",
   "metadata": {},
   "outputs": [],
   "source": []
  },
  {
   "cell_type": "code",
   "execution_count": null,
   "id": "9e43e48b-bb5d-4206-b958-be25a52d91a4",
   "metadata": {},
   "outputs": [],
   "source": []
  },
  {
   "cell_type": "code",
   "execution_count": null,
   "id": "8517a9f1-a652-49e0-9d3e-099486f49200",
   "metadata": {},
   "outputs": [],
   "source": []
  },
  {
   "cell_type": "code",
   "execution_count": 17,
   "id": "c385f8ea-27a0-48c8-92be-178fb6cf5bde",
   "metadata": {
    "tags": []
   },
   "outputs": [
    {
     "data": {
      "text/plain": [
       "<seaborn.axisgrid.FacetGrid at 0x7f1e597b40a0>"
      ]
     },
     "execution_count": 17,
     "metadata": {},
     "output_type": "execute_result"
    },
    {
     "data": {
      "image/png": "[encoded data removed]",
      "text/plain": [
       "<Figure size 500x500 with 1 Axes>"
      ]
     },
     "metadata": {},
     "output_type": "display_data"
    }
   ],
   "source": [
    "sns.displot(data=df_ortho, x='pLDDT_mean')"
   ]
  },
  {
   "cell_type": "code",
   "execution_count": 18,
   "id": "140261b3-fa6b-4725-8d37-4253ce224999",
   "metadata": {},
   "outputs": [
    {
     "data": {
      "text/plain": [
       "<seaborn.axisgrid.FacetGrid at 0x7f1e4fd50400>"
      ]
     },
     "execution_count": 18,
     "metadata": {},
     "output_type": "execute_result"
    },
    {
     "data": {
      "image/png": "[encoded data removed]",
      "text/plain": [
       "<Figure size 500x500 with 1 Axes>"
      ]
     },
     "metadata": {},
     "output_type": "display_data"
    }
   ],
   "source": [
    "sns.displot(data=df_ortho, x='pLDDT_mean', kind='ecdf')"
   ]
  },
  {
   "cell_type": "code",
   "execution_count": 19,
   "id": "f8190777-583d-47db-8c11-b6b6390881db",
   "metadata": {},
   "outputs": [
    {
     "data": {
      "text/plain": [
       "<seaborn.axisgrid.FacetGrid at 0x7f1e4fd87d60>"
      ]
     },
     "execution_count": 19,
     "metadata": {},
     "output_type": "execute_result"
    },
    {
     "data": {
      "image/png": "[encoded data removed]",
      "text/plain": [
       "<Figure size 608.5x500 with 1 Axes>"
      ]
     },
     "metadata": {},
     "output_type": "display_data"
    }
   ],
   "source": [
    "sns.displot(data=for_ploting, x='pLDDT_mean', hue='hue', kind='ecdf')"
   ]
  },
  {
   "cell_type": "code",
   "execution_count": null,
   "id": "b02e832f-9d63-4760-9e8c-58e0a9dccefa",
   "metadata": {},
   "outputs": [],
   "source": []
  },
  {
   "cell_type": "code",
   "execution_count": null,
   "id": "df218dfb-b386-40ca-9243-1ccbed28e37f",
   "metadata": {},
   "outputs": [],
   "source": []
  },
  {
   "cell_type": "markdown",
   "id": "5ddf106e-ada0-4d81-958c-af1f4f084543",
   "metadata": {},
   "source": [
    "# Cuantos son completamente hipoteticos? "
   ]
  },
  {
   "cell_type": "code",
   "execution_count": 21,
   "id": "f2a76f2a-30c5-42c9-b239-e69006a50139",
   "metadata": {},
   "outputs": [],
   "source": [
    "df_hypothetical_OG =  pd.read_csv('../../report/Ortholog_Group_Full_of_hypotetical_boolean.tsv', sep='\\t')"
   ]
  },
  {
   "cell_type": "code",
   "execution_count": 24,
   "id": "a8ab0785-f71c-4f12-bc2e-a9a9eaff292f",
   "metadata": {},
   "outputs": [
    {
     "data": {
      "text/plain": [
       "False    10081\n",
       "True      2920\n",
       "Name: only_hypothetical_OG, dtype: int64"
      ]
     },
     "execution_count": 25,
     "metadata": {},
     "output_type": "execute_result"
    }
   ],
   "source": [
    "df_hypothetical_OG.only_hypothetical_OGq.value_counts()"
   ]
  },
  {
   "cell_type": "code",
   "execution_count": null,
   "id": "73c3af0e-602e-45a4-8f30-5d074a31382f",
   "metadata": {},
   "outputs": [],
   "source": []
  }
 ],
 "metadata": {
  "kernelspec": {
   "display_name": "Python 3 (ipykernel)",
   "language": "python",
   "name": "python3"
  },
  "language_info": {
   "codemirror_mode": {
    "name": "ipython",
    "version": 3
   },
   "file_extension": ".py",
   "mimetype": "text/x-python",
   "name": "python",
   "nbconvert_exporter": "python",
   "pygments_lexer": "ipython3",
   "version": "3.8.8"
  }
 },
 "nbformat": 4,
 "nbformat_minor": 5
}
