{
 "cells": [
  {
   "cell_type": "code",
   "execution_count": 45,
   "id": "1b05ecc8-ba4f-46e5-8aeb-25d59787f13a",
   "metadata": {},
   "outputs": [],
   "source": [
    "import pandas as pd\n",
    "import seaborn as sns\n",
    "from Bio import SeqIO\n",
    "import os\n",
    "pd.options.display.max_columns = None"
   ]
  },
  {
   "cell_type": "code",
   "execution_count": 46,
   "id": "ba13b22e-027a-4d3e-9b70-06caa56ef918",
   "metadata": {
    "tags": []
   },
   "outputs": [],
   "source": [
    "#funtion to search into fasta file and create cluster fasta files\n",
    "\n",
    "def looking_in_fasta_file(name_geid_list, dest_dir, name_file):\n",
    "\n",
    "    with open('../../genome_data_sets/query_proteomes/fasta_files/TriTrypDB-63_All_species_clean.fa', \"r\") as input_file:\n",
    "        \n",
    "        #dest_dir = '../../tmp/report_files/sequences_to_be_modelated/'\n",
    "        name =  dest_dir + name_file\n",
    "        \n",
    "        \n",
    "        if not os.path.exists(dest_dir):\n",
    "            os.makedirs(dest_dir)\n",
    "            \n",
    "        with open(name, \"w\") as output_file:\n",
    "\n",
    "            for record in SeqIO.parse(input_file, \"fasta\"):\n",
    "\n",
    "                if record.id in name_geid_list:\n",
    "\n",
    "                    SeqIO.write(record, output_file, \"fasta\")"
   ]
  },
  {
   "cell_type": "markdown",
   "id": "35c0a036-a04e-4e9e-bdea-43861d92a477",
   "metadata": {},
   "source": [
    "# Cluster sices "
   ]
  },
  {
   "cell_type": "code",
   "execution_count": 47,
   "id": "49f1f892-4bcf-467d-8f62-d1248f23cfbc",
   "metadata": {},
   "outputs": [],
   "source": [
    "df_OG_Tritryp = pd.read_csv('../../mandatory_files/Ortholog_group_to_geneID.tsv', sep='\\t', header=None, names=['OG','geneID'])"
   ]
  },
  {
   "cell_type": "code",
   "execution_count": 48,
   "id": "2531fbba-a472-45f9-b754-c14d0fa14d4f",
   "metadata": {},
   "outputs": [
    {
     "name": "stdout",
     "output_type": "stream",
     "text": [
      "272483\n"
     ]
    }
   ],
   "source": [
    "!ls ../../genome_data_sets/query_proteomes/pdb_files/prot_structure_download_from_AlphaFoldDB/ | wc -l"
   ]
  },
  {
   "cell_type": "code",
   "execution_count": 49,
   "id": "39b6bf97-13b3-40d0-b994-5e5af1013cfa",
   "metadata": {},
   "outputs": [],
   "source": [
    "df_OG_Tritryp_sices = df_OG_Tritryp.groupby('OG')['geneID'].size().to_frame().reset_index()"
   ]
  },
  {
   "cell_type": "code",
   "execution_count": null,
   "id": "3fca98bc-de80-475d-a692-d0dd65033358",
   "metadata": {},
   "outputs": [],
   "source": []
  },
  {
   "cell_type": "code",
   "execution_count": 50,
   "id": "e4bbd8e2-8420-4f71-870a-bcd5df370197",
   "metadata": {},
   "outputs": [
    {
     "data": {
      "text/plain": [
       "(20950, 2)"
      ]
     },
     "execution_count": 50,
     "metadata": {},
     "output_type": "execute_result"
    },
    {
     "data": {
      "image/png": "[encoded data removed]",
      "text/plain": [
       "<Figure size 500x500 with 1 Axes>"
      ]
     },
     "metadata": {},
     "output_type": "display_data"
    }
   ],
   "source": [
    "df_filter1 = df_OG_Tritryp_sices[(df_OG_Tritryp_sices['geneID'] > 1) & (df_OG_Tritryp_sices['geneID'] < 100)]\n",
    "\n",
    "\n",
    "sns.displot(data=df_filter1, \n",
    "           x='geneID')\n",
    "\n",
    "\n",
    "df_filter1.shape"
   ]
  },
  {
   "cell_type": "code",
   "execution_count": 51,
   "id": "dc7a4ecc-88eb-4f1f-a999-c3bc0caa9f76",
   "metadata": {},
   "outputs": [
    {
     "data": {
      "text/plain": [
       "(32215, 2)"
      ]
     },
     "execution_count": 51,
     "metadata": {},
     "output_type": "execute_result"
    }
   ],
   "source": [
    "df_OG_Tritryp_sices[(df_OG_Tritryp_sices['geneID'] == 1)].shape"
   ]
  },
  {
   "cell_type": "code",
   "execution_count": 52,
   "id": "714e46b7-d6c5-4439-9a82-4f0dc1064ce2",
   "metadata": {},
   "outputs": [
    {
     "data": {
      "text/plain": [
       "(21490, 2)"
      ]
     },
     "execution_count": 52,
     "metadata": {},
     "output_type": "execute_result"
    }
   ],
   "source": [
    "df_OG_Tritryp_sices[(df_OG_Tritryp_sices['geneID'] > 1)].shape"
   ]
  },
  {
   "cell_type": "code",
   "execution_count": null,
   "id": "8c90741e-1b73-4012-9a4c-b2fd8f63add5",
   "metadata": {},
   "outputs": [],
   "source": []
  },
  {
   "cell_type": "code",
   "execution_count": null,
   "id": "fc5d0ee3-7291-4040-9bfd-79be9ef70561",
   "metadata": {},
   "outputs": [],
   "source": []
  },
  {
   "cell_type": "markdown",
   "id": "25775d1b-af19-466a-9c40-358b38df1630",
   "metadata": {},
   "source": [
    "# Amount of uniprot downloaded - available in AFDB"
   ]
  },
  {
   "cell_type": "code",
   "execution_count": 53,
   "id": "fabd99b7-0c6f-4b8f-af90-78c3de630dd7",
   "metadata": {},
   "outputs": [],
   "source": [
    "df_uniprot_pLDDT = pd.read_csv('../../report_files/protein_structure_pLDDT_mean.tsv', sep='\\t', header=None, names=['uniprot','pLDDT'])\n",
    "\n",
    "df_mandatory_uniprot = pd.read_csv('../../mandatory_files/fasta_header_to_uniprot.tsv', sep='\\t', header=None, names=['geneID','uniprot'])"
   ]
  },
  {
   "cell_type": "code",
   "execution_count": 54,
   "id": "0eedc2d9-510e-4938-b91c-f550a25e9107",
   "metadata": {},
   "outputs": [
    {
     "data": {
      "text/html": [
       "<div>\n",
       "<style scoped>\n",
       "    .dataframe tbody tr th:only-of-type {\n",
       "        vertical-align: middle;\n",
       "    }\n",
       "\n",
       "    .dataframe tbody tr th {\n",
       "        vertical-align: top;\n",
       "    }\n",
       "\n",
       "    .dataframe thead th {\n",
       "        text-align: right;\n",
       "    }\n",
       "</style>\n",
       "<table border=\"1\" class=\"dataframe\">\n",
       "  <thead>\n",
       "    <tr style=\"text-align: right;\">\n",
       "      <th></th>\n",
       "      <th>geneID</th>\n",
       "      <th>uniprot</th>\n",
       "      <th>pLDDT</th>\n",
       "    </tr>\n",
       "  </thead>\n",
       "  <tbody>\n",
       "    <tr>\n",
       "      <th>434673</th>\n",
       "      <td>TcYC6_0106470</td>\n",
       "      <td>A0A2V2WSS0</td>\n",
       "      <td>21</td>\n",
       "    </tr>\n",
       "    <tr>\n",
       "      <th>774633</th>\n",
       "      <td>TcIL3000_0_27280</td>\n",
       "      <td>F9W3R0</td>\n",
       "      <td>21</td>\n",
       "    </tr>\n",
       "    <tr>\n",
       "      <th>773424</th>\n",
       "      <td>TcIL3000_0_12570</td>\n",
       "      <td>F9WG84</td>\n",
       "      <td>21</td>\n",
       "    </tr>\n",
       "    <tr>\n",
       "      <th>711657</th>\n",
       "      <td>Tb11.1670</td>\n",
       "      <td>Q4FK97</td>\n",
       "      <td>21</td>\n",
       "    </tr>\n",
       "    <tr>\n",
       "      <th>773423</th>\n",
       "      <td>TcIL3000_0_12560</td>\n",
       "      <td>F9WG83</td>\n",
       "      <td>21</td>\n",
       "    </tr>\n",
       "    <tr>\n",
       "      <th>...</th>\n",
       "      <td>...</td>\n",
       "      <td>...</td>\n",
       "      <td>...</td>\n",
       "    </tr>\n",
       "    <tr>\n",
       "      <th>148821</th>\n",
       "      <td>ECC02_012776</td>\n",
       "      <td>Q26970</td>\n",
       "      <td>99</td>\n",
       "    </tr>\n",
       "    <tr>\n",
       "      <th>148820</th>\n",
       "      <td>C4B63_14g241</td>\n",
       "      <td>Q26970</td>\n",
       "      <td>99</td>\n",
       "    </tr>\n",
       "    <tr>\n",
       "      <th>148819</th>\n",
       "      <td>C3747_19g298</td>\n",
       "      <td>Q26970</td>\n",
       "      <td>99</td>\n",
       "    </tr>\n",
       "    <tr>\n",
       "      <th>148818</th>\n",
       "      <td>BCY84_10688</td>\n",
       "      <td>Q26970</td>\n",
       "      <td>99</td>\n",
       "    </tr>\n",
       "    <tr>\n",
       "      <th>148828</th>\n",
       "      <td>TcG_08092</td>\n",
       "      <td>Q26970</td>\n",
       "      <td>99</td>\n",
       "    </tr>\n",
       "  </tbody>\n",
       "</table>\n",
       "<p>792234 rows × 3 columns</p>\n",
       "</div>"
      ],
      "text/plain": [
       "                  geneID     uniprot  pLDDT\n",
       "434673     TcYC6_0106470  A0A2V2WSS0     21\n",
       "774633  TcIL3000_0_27280      F9W3R0     21\n",
       "773424  TcIL3000_0_12570      F9WG84     21\n",
       "711657         Tb11.1670      Q4FK97     21\n",
       "773423  TcIL3000_0_12560      F9WG83     21\n",
       "...                  ...         ...    ...\n",
       "148821      ECC02_012776      Q26970     99\n",
       "148820      C4B63_14g241      Q26970     99\n",
       "148819      C3747_19g298      Q26970     99\n",
       "148818       BCY84_10688      Q26970     99\n",
       "148828         TcG_08092      Q26970     99\n",
       "\n",
       "[792234 rows x 3 columns]"
      ]
     },
     "execution_count": 54,
     "metadata": {},
     "output_type": "execute_result"
    }
   ],
   "source": [
    "df_mandatory_uniprot.merge(df_uniprot_pLDDT).sort_values('pLDDT')"
   ]
  },
  {
   "cell_type": "code",
   "execution_count": 55,
   "id": "93e7d244-929f-407e-92dc-b24e9ee94e55",
   "metadata": {},
   "outputs": [
    {
     "data": {
      "text/plain": [
       "272483"
      ]
     },
     "execution_count": 55,
     "metadata": {},
     "output_type": "execute_result"
    }
   ],
   "source": [
    "df_mandatory_uniprot.uniprot.nunique()"
   ]
  },
  {
   "cell_type": "code",
   "execution_count": 56,
   "id": "c6a1e57f-c844-4b74-9fca-b2d23b8db852",
   "metadata": {},
   "outputs": [
    {
     "data": {
      "text/plain": [
       "272483"
      ]
     },
     "execution_count": 56,
     "metadata": {},
     "output_type": "execute_result"
    }
   ],
   "source": [
    "df_uniprot_pLDDT.uniprot.nunique()"
   ]
  },
  {
   "cell_type": "code",
   "execution_count": null,
   "id": "185c12be-a008-40f0-8f75-aa9d62936570",
   "metadata": {},
   "outputs": [],
   "source": []
  },
  {
   "cell_type": "code",
   "execution_count": null,
   "id": "d283fc91-6ac3-4713-97f0-fbd82a622a8e",
   "metadata": {},
   "outputs": [],
   "source": []
  },
  {
   "cell_type": "code",
   "execution_count": null,
   "id": "270b3eb4-9197-45d2-a5ed-1b8bf3731aa8",
   "metadata": {},
   "outputs": [],
   "source": []
  },
  {
   "cell_type": "markdown",
   "id": "19119979-17b2-4699-8e1c-616ff5b437b2",
   "metadata": {},
   "source": [
    "# Protein structure inspection "
   ]
  },
  {
   "cell_type": "code",
   "execution_count": 57,
   "id": "19cfd69b-e620-4361-9357-6df29e3ac39c",
   "metadata": {},
   "outputs": [],
   "source": [
    "df_ortho = pd.read_csv('../../report_files/ortholog_groups_x_sequence_clustering_x_UNIPROT.tsv', sep='\\t')\n",
    "\n",
    "#dataframe with GO annotation informattion\n",
    "df_gene_information = pd.read_csv('../../tmp/GenesByOrthologPattern_Summary.txt',\n",
    "                                  sep='\\t',\n",
    "                                  low_memory=False)\n",
    "\n",
    "ortho_g_count = df_gene_information.groupby('Ortholog Group').size().to_frame()"
   ]
  },
  {
   "cell_type": "code",
   "execution_count": null,
   "id": "ccd6c810-6942-447d-b2fe-40919fdebce3",
   "metadata": {},
   "outputs": [],
   "source": []
  },
  {
   "cell_type": "code",
   "execution_count": 58,
   "id": "c385f8ea-27a0-48c8-92be-178fb6cf5bde",
   "metadata": {},
   "outputs": [
    {
     "data": {
      "text/plain": [
       "<seaborn.axisgrid.FacetGrid at 0x7fa9fad04fa0>"
      ]
     },
     "execution_count": 58,
     "metadata": {},
     "output_type": "execute_result"
    },
    {
     "data": {
      "image/png": "[encoded data removed]",
      "text/plain": [
       "<Figure size 500x500 with 1 Axes>"
      ]
     },
     "metadata": {},
     "output_type": "display_data"
    }
   ],
   "source": [
    "sns.displot(data=df_ortho, x='pLDDT_mean')"
   ]
  },
  {
   "cell_type": "code",
   "execution_count": 59,
   "id": "140261b3-fa6b-4725-8d37-4253ce224999",
   "metadata": {},
   "outputs": [
    {
     "data": {
      "text/plain": [
       "<seaborn.axisgrid.FacetGrid at 0x7fa9f9f191f0>"
      ]
     },
     "execution_count": 59,
     "metadata": {},
     "output_type": "execute_result"
    },
    {
     "data": {
      "image/png": "[encoded data removed]",
      "text/plain": [
       "<Figure size 500x500 with 1 Axes>"
      ]
     },
     "metadata": {},
     "output_type": "display_data"
    }
   ],
   "source": [
    "sns.displot(data=df_ortho, x='pLDDT_mean', kind='ecdf')"
   ]
  },
  {
   "cell_type": "markdown",
   "id": "8edea4fd-9593-46f5-b0a0-681746775e9d",
   "metadata": {},
   "source": [
    "## Do I have cluster bigger than 1 member without protein structure? "
   ]
  },
  {
   "cell_type": "code",
   "execution_count": 65,
   "id": "6523f1f0-42d5-4c13-aa5d-ed8580cbb6df",
   "metadata": {},
   "outputs": [
    {
     "name": "stdout",
     "output_type": "stream",
     "text": [
      "OG con mas de un miembro sin estructura asignada: 4245\n",
      "OG con mas de un miembro con estructura asignada: 17245\n",
      "OG con un miembro sin estructura asignada: 18545\n",
      "OG con un miembro con estructura asignada: 13670\n"
     ]
    }
   ],
   "source": [
    "count_plus_structure = df_ortho.merge(ortho_g_count, left_on='Ortholog_Group', right_index=True)\n",
    "\n",
    "#son 4245 orthologs groups con mas de 1 miembro sin modelo en AFDB\n",
    "count_plus_structure_se = count_plus_structure[(count_plus_structure.uniprot.isna()) & (count_plus_structure[0] > 1)]\n",
    "count_plus_structure_ce = count_plus_structure[~(count_plus_structure.uniprot.isna()) & (count_plus_structure[0] > 1)]\n",
    "\n",
    "\n",
    "count_plus_structure_1_se = count_plus_structure[(count_plus_structure.uniprot.isna()) & (count_plus_structure[0] == 1)]\n",
    "count_plus_structure_1_ce = count_plus_structure[~(count_plus_structure.uniprot.isna()) & (count_plus_structure[0] == 1)]\n",
    "\n",
    "print('OG con mas de un miembro sin estructura asignada:', count_plus_structure_se.shape[0])\n",
    "print('OG con mas de un miembro con estructura asignada:', count_plus_structure_ce.shape[0])\n",
    "\n",
    "print('OG con un miembro sin estructura asignada:', count_plus_structure_1_se.shape[0])\n",
    "print('OG con un miembro con estructura asignada:', count_plus_structure_1_ce.shape[0])"
   ]
  },
  {
   "cell_type": "code",
   "execution_count": 97,
   "id": "1e54a89d-acbc-4430-837d-d776a53b7c63",
   "metadata": {},
   "outputs": [
    {
     "data": {
      "text/plain": [
       "53705"
      ]
     },
     "execution_count": 97,
     "metadata": {},
     "output_type": "execute_result"
    }
   ],
   "source": [
    "4245 + 17245 + 18545 + 13670"
   ]
  },
  {
   "cell_type": "code",
   "execution_count": 279,
   "id": "b300e88e-0101-4e90-a856-3e98edc4d49e",
   "metadata": {},
   "outputs": [],
   "source": [
    "#voy a hacer un fasta file y usar mmseq para clusterizar y modelar menos en principio en scoville"
   ]
  },
  {
   "cell_type": "markdown",
   "id": "d6b4ba50-d235-4f41-96dd-11f7da514d05",
   "metadata": {},
   "source": [
    "#creating a fasta file of sequences in OrthoG non modelated to cluster by mmseqs2 and modelate\n",
    "df_to_fasta = df_gene_information[df_gene_information['Ortholog Group'].isin(count_plus_structure.Ortholog_Group.unique())]['Gene ID'].unique()\n",
    "\n",
    "\n",
    "\n",
    "looking_in_fasta_file(list(df_to_fasta), \n",
    "                     '../../tmp/report_files/sequences_to_be_modelated/',\n",
    "                     'ortho_group_with_more_than_one_member_wo_model_in_AFDB.fasta')"
   ]
  },
  {
   "cell_type": "code",
   "execution_count": 93,
   "id": "e816801d-6258-4803-8da6-38fc54e6b3fd",
   "metadata": {},
   "outputs": [
    {
     "data": {
      "text/plain": [
       "53705"
      ]
     },
     "execution_count": 93,
     "metadata": {},
     "output_type": "execute_result"
    }
   ],
   "source": [
    "count_plus_structure.Ortholog_Group.nunique()"
   ]
  },
  {
   "cell_type": "code",
   "execution_count": 96,
   "id": "147769bd-886b-44f8-8d74-ae4410e6b6b9",
   "metadata": {},
   "outputs": [
    {
     "data": {
      "text/plain": [
       "OG6_101659    1\n",
       "OG6_100304    1\n",
       "OG6_100674    1\n",
       "OG6_100072    1\n",
       "OG6_100634    1\n",
       "             ..\n",
       "OG6_444176    1\n",
       "OG6_444236    1\n",
       "OG6_444442    1\n",
       "OG6_443850    1\n",
       "OG6_443833    1\n",
       "Name: Ortholog_Group, Length: 53705, dtype: int64"
      ]
     },
     "execution_count": 96,
     "metadata": {},
     "output_type": "execute_result"
    }
   ],
   "source": [
    "count_plus_structure.Ortholog_Group.value_counts().sort_values()"
   ]
  },
  {
   "cell_type": "markdown",
   "id": "66e68838-0a37-4268-9cf1-287c208fdc77",
   "metadata": {},
   "source": [
    "# Amount of completely hypothetical clusters"
   ]
  },
  {
   "cell_type": "code",
   "execution_count": 81,
   "id": "d78cb8ca-13b4-4dd4-a75c-3fa271a24cca",
   "metadata": {
    "tags": []
   },
   "outputs": [
    {
     "data": {
      "text/plain": [
       "53705"
      ]
     },
     "execution_count": 81,
     "metadata": {},
     "output_type": "execute_result"
    }
   ],
   "source": [
    "#dataframe with GO annotation informattion\n",
    "df_gene_information = pd.read_csv('../../tmp/GenesByOrthologPattern_Summary.txt',\n",
    "                                  sep='\\t',\n",
    "                                  low_memory=False)\n",
    "\n",
    "df_gene_information['Ortholog Group'].nunique()"
   ]
  },
  {
   "cell_type": "code",
   "execution_count": 82,
   "id": "6b40f347-68c0-4ca0-8956-d7b2f00f2ba6",
   "metadata": {},
   "outputs": [
    {
     "name": "stdout",
     "output_type": "stream",
     "text": [
      "(686926, 24)\n"
     ]
    },
    {
     "data": {
      "text/plain": [
       "(686229, 24)"
      ]
     },
     "execution_count": 82,
     "metadata": {},
     "output_type": "execute_result"
    }
   ],
   "source": [
    "print(df_gene_information.shape)\n",
    "\n",
    "df_gene_information.drop_duplicates(subset=['Gene ID']).shape"
   ]
  },
  {
   "cell_type": "code",
   "execution_count": 83,
   "id": "881aad79-c1c5-48b8-b60d-0e92e3538d74",
   "metadata": {},
   "outputs": [
    {
     "data": {
      "text/plain": [
       "Index(['Gene ID', 'Entrez Gene ID', 'UniProt ID(s)',\n",
       "       'Computed GO Component IDs', 'Computed GO Function IDs',\n",
       "       'Computed GO Process IDs', 'Curated GO Component IDs',\n",
       "       'Curated GO Function IDs', 'Curated GO Process IDs'],\n",
       "      dtype='object')"
      ]
     },
     "execution_count": 83,
     "metadata": {},
     "output_type": "execute_result"
    }
   ],
   "source": [
    "#columns with GO IDs to count NaN instances\n",
    "nan_columns = df_gene_information[df_gene_information.filter(like = 'ID').columns ].isna() #True if there is no information of GO\n",
    "nan_columns.columns"
   ]
  },
  {
   "cell_type": "code",
   "execution_count": 84,
   "id": "99c2164b-5723-4276-bbb4-b119aa038510",
   "metadata": {},
   "outputs": [],
   "source": [
    "#counting OG group\n",
    "df_gene_information_OG_count = df_gene_information.groupby('Ortholog Group').size()\n",
    "\n",
    "#creating list of them\n",
    "df_gene_information_OG_count = df_gene_information_OG_count[df_gene_information_OG_count > 1].index"
   ]
  },
  {
   "cell_type": "code",
   "execution_count": null,
   "id": "bcbafbf6-dde9-46f7-8c4e-06b1f6db6981",
   "metadata": {},
   "outputs": [],
   "source": []
  },
  {
   "cell_type": "code",
   "execution_count": 85,
   "id": "d7f6f60a-8c7b-4c4e-b7b1-3ac4e1f7c5af",
   "metadata": {
    "tags": []
   },
   "outputs": [],
   "source": [
    "#adding NaN count to original df\n",
    "df_gene_information  = df_gene_information.merge(nan_columns, left_index=True, right_index=True, suffixes=['_1','_2'])"
   ]
  },
  {
   "cell_type": "code",
   "execution_count": 86,
   "id": "cff03857-00be-4dcc-bb64-975e3561a869",
   "metadata": {},
   "outputs": [
    {
     "data": {
      "text/plain": [
       "21490"
      ]
     },
     "execution_count": 86,
     "metadata": {},
     "output_type": "execute_result"
    }
   ],
   "source": [
    "#removing size-1/non-real ortholog groups\n",
    "#df_gene_information = df_gene_information[df_gene_information['Ortholog count'] > 1]\n",
    "\n",
    "df_gene_information = df_gene_information[df_gene_information['Ortholog Group'].isin(df_gene_information_OG_count)]\n",
    "\n",
    "df_gene_information['Ortholog Group'].nunique()"
   ]
  },
  {
   "cell_type": "code",
   "execution_count": 72,
   "id": "4e56685b-9b19-4cef-b7f8-42b31887d0ae",
   "metadata": {},
   "outputs": [],
   "source": [
    "#selection only GO ID columns\n",
    "df_gene_information_all_member_noGO = df_gene_information.groupby('Ortholog Group')[[i + '_2' for i in nan_columns.columns]].all()"
   ]
  },
  {
   "cell_type": "code",
   "execution_count": 73,
   "id": "f64863ce-1bbf-45b2-bfa3-76d8160cbd43",
   "metadata": {},
   "outputs": [
    {
     "data": {
      "text/html": [
       "<div>\n",
       "<style scoped>\n",
       "    .dataframe tbody tr th:only-of-type {\n",
       "        vertical-align: middle;\n",
       "    }\n",
       "\n",
       "    .dataframe tbody tr th {\n",
       "        vertical-align: top;\n",
       "    }\n",
       "\n",
       "    .dataframe thead th {\n",
       "        text-align: right;\n",
       "    }\n",
       "</style>\n",
       "<table border=\"1\" class=\"dataframe\">\n",
       "  <thead>\n",
       "    <tr style=\"text-align: right;\">\n",
       "      <th></th>\n",
       "      <th>Gene ID_2</th>\n",
       "      <th>Entrez Gene ID_2</th>\n",
       "      <th>UniProt ID(s)_2</th>\n",
       "      <th>Computed GO Component IDs_2</th>\n",
       "      <th>Computed GO Function IDs_2</th>\n",
       "      <th>Computed GO Process IDs_2</th>\n",
       "      <th>Curated GO Component IDs_2</th>\n",
       "      <th>Curated GO Function IDs_2</th>\n",
       "      <th>Curated GO Process IDs_2</th>\n",
       "    </tr>\n",
       "    <tr>\n",
       "      <th>Ortholog Group</th>\n",
       "      <th></th>\n",
       "      <th></th>\n",
       "      <th></th>\n",
       "      <th></th>\n",
       "      <th></th>\n",
       "      <th></th>\n",
       "      <th></th>\n",
       "      <th></th>\n",
       "      <th></th>\n",
       "    </tr>\n",
       "  </thead>\n",
       "  <tbody>\n",
       "    <tr>\n",
       "      <th>N/A (orthology not determined because protein is too short or has too many stop codons)</th>\n",
       "      <td>False</td>\n",
       "      <td>True</td>\n",
       "      <td>True</td>\n",
       "      <td>True</td>\n",
       "      <td>True</td>\n",
       "      <td>True</td>\n",
       "      <td>True</td>\n",
       "      <td>True</td>\n",
       "      <td>True</td>\n",
       "    </tr>\n",
       "    <tr>\n",
       "      <th>N/A (orthology not determined for pseudogenes)</th>\n",
       "      <td>False</td>\n",
       "      <td>True</td>\n",
       "      <td>True</td>\n",
       "      <td>True</td>\n",
       "      <td>True</td>\n",
       "      <td>True</td>\n",
       "      <td>True</td>\n",
       "      <td>True</td>\n",
       "      <td>True</td>\n",
       "    </tr>\n",
       "    <tr>\n",
       "      <th>OG6_100000</th>\n",
       "      <td>False</td>\n",
       "      <td>False</td>\n",
       "      <td>False</td>\n",
       "      <td>False</td>\n",
       "      <td>False</td>\n",
       "      <td>False</td>\n",
       "      <td>False</td>\n",
       "      <td>True</td>\n",
       "      <td>True</td>\n",
       "    </tr>\n",
       "    <tr>\n",
       "      <th>OG6_100001</th>\n",
       "      <td>False</td>\n",
       "      <td>False</td>\n",
       "      <td>False</td>\n",
       "      <td>False</td>\n",
       "      <td>True</td>\n",
       "      <td>True</td>\n",
       "      <td>True</td>\n",
       "      <td>True</td>\n",
       "      <td>True</td>\n",
       "    </tr>\n",
       "    <tr>\n",
       "      <th>OG6_100006</th>\n",
       "      <td>False</td>\n",
       "      <td>True</td>\n",
       "      <td>False</td>\n",
       "      <td>False</td>\n",
       "      <td>False</td>\n",
       "      <td>False</td>\n",
       "      <td>True</td>\n",
       "      <td>True</td>\n",
       "      <td>True</td>\n",
       "    </tr>\n",
       "    <tr>\n",
       "      <th>...</th>\n",
       "      <td>...</td>\n",
       "      <td>...</td>\n",
       "      <td>...</td>\n",
       "      <td>...</td>\n",
       "      <td>...</td>\n",
       "      <td>...</td>\n",
       "      <td>...</td>\n",
       "      <td>...</td>\n",
       "      <td>...</td>\n",
       "    </tr>\n",
       "    <tr>\n",
       "      <th>OG6r16_535148</th>\n",
       "      <td>False</td>\n",
       "      <td>True</td>\n",
       "      <td>True</td>\n",
       "      <td>True</td>\n",
       "      <td>True</td>\n",
       "      <td>True</td>\n",
       "      <td>True</td>\n",
       "      <td>True</td>\n",
       "      <td>True</td>\n",
       "    </tr>\n",
       "    <tr>\n",
       "      <th>OG6r16_535152</th>\n",
       "      <td>False</td>\n",
       "      <td>True</td>\n",
       "      <td>True</td>\n",
       "      <td>True</td>\n",
       "      <td>True</td>\n",
       "      <td>True</td>\n",
       "      <td>True</td>\n",
       "      <td>True</td>\n",
       "      <td>True</td>\n",
       "    </tr>\n",
       "    <tr>\n",
       "      <th>OG6r16_535175</th>\n",
       "      <td>False</td>\n",
       "      <td>True</td>\n",
       "      <td>True</td>\n",
       "      <td>True</td>\n",
       "      <td>True</td>\n",
       "      <td>True</td>\n",
       "      <td>True</td>\n",
       "      <td>True</td>\n",
       "      <td>True</td>\n",
       "    </tr>\n",
       "    <tr>\n",
       "      <th>OG6r16_535181</th>\n",
       "      <td>False</td>\n",
       "      <td>True</td>\n",
       "      <td>True</td>\n",
       "      <td>True</td>\n",
       "      <td>True</td>\n",
       "      <td>True</td>\n",
       "      <td>True</td>\n",
       "      <td>True</td>\n",
       "      <td>True</td>\n",
       "    </tr>\n",
       "    <tr>\n",
       "      <th>OG6r16_535205</th>\n",
       "      <td>False</td>\n",
       "      <td>True</td>\n",
       "      <td>True</td>\n",
       "      <td>True</td>\n",
       "      <td>True</td>\n",
       "      <td>True</td>\n",
       "      <td>True</td>\n",
       "      <td>True</td>\n",
       "      <td>True</td>\n",
       "    </tr>\n",
       "  </tbody>\n",
       "</table>\n",
       "<p>21490 rows × 9 columns</p>\n",
       "</div>"
      ],
      "text/plain": [
       "                                                    Gene ID_2  \\\n",
       "Ortholog Group                                                  \n",
       "N/A (orthology not determined because protein i...      False   \n",
       "N/A (orthology not determined for pseudogenes)          False   \n",
       "OG6_100000                                              False   \n",
       "OG6_100001                                              False   \n",
       "OG6_100006                                              False   \n",
       "...                                                       ...   \n",
       "OG6r16_535148                                           False   \n",
       "OG6r16_535152                                           False   \n",
       "OG6r16_535175                                           False   \n",
       "OG6r16_535181                                           False   \n",
       "OG6r16_535205                                           False   \n",
       "\n",
       "                                                    Entrez Gene ID_2  \\\n",
       "Ortholog Group                                                         \n",
       "N/A (orthology not determined because protein i...              True   \n",
       "N/A (orthology not determined for pseudogenes)                  True   \n",
       "OG6_100000                                                     False   \n",
       "OG6_100001                                                     False   \n",
       "OG6_100006                                                      True   \n",
       "...                                                              ...   \n",
       "OG6r16_535148                                                   True   \n",
       "OG6r16_535152                                                   True   \n",
       "OG6r16_535175                                                   True   \n",
       "OG6r16_535181                                                   True   \n",
       "OG6r16_535205                                                   True   \n",
       "\n",
       "                                                    UniProt ID(s)_2  \\\n",
       "Ortholog Group                                                        \n",
       "N/A (orthology not determined because protein i...             True   \n",
       "N/A (orthology not determined for pseudogenes)                 True   \n",
       "OG6_100000                                                    False   \n",
       "OG6_100001                                                    False   \n",
       "OG6_100006                                                    False   \n",
       "...                                                             ...   \n",
       "OG6r16_535148                                                  True   \n",
       "OG6r16_535152                                                  True   \n",
       "OG6r16_535175                                                  True   \n",
       "OG6r16_535181                                                  True   \n",
       "OG6r16_535205                                                  True   \n",
       "\n",
       "                                                    Computed GO Component IDs_2  \\\n",
       "Ortholog Group                                                                    \n",
       "N/A (orthology not determined because protein i...                         True   \n",
       "N/A (orthology not determined for pseudogenes)                             True   \n",
       "OG6_100000                                                                False   \n",
       "OG6_100001                                                                False   \n",
       "OG6_100006                                                                False   \n",
       "...                                                                         ...   \n",
       "OG6r16_535148                                                              True   \n",
       "OG6r16_535152                                                              True   \n",
       "OG6r16_535175                                                              True   \n",
       "OG6r16_535181                                                              True   \n",
       "OG6r16_535205                                                              True   \n",
       "\n",
       "                                                    Computed GO Function IDs_2  \\\n",
       "Ortholog Group                                                                   \n",
       "N/A (orthology not determined because protein i...                        True   \n",
       "N/A (orthology not determined for pseudogenes)                            True   \n",
       "OG6_100000                                                               False   \n",
       "OG6_100001                                                                True   \n",
       "OG6_100006                                                               False   \n",
       "...                                                                        ...   \n",
       "OG6r16_535148                                                             True   \n",
       "OG6r16_535152                                                             True   \n",
       "OG6r16_535175                                                             True   \n",
       "OG6r16_535181                                                             True   \n",
       "OG6r16_535205                                                             True   \n",
       "\n",
       "                                                    Computed GO Process IDs_2  \\\n",
       "Ortholog Group                                                                  \n",
       "N/A (orthology not determined because protein i...                       True   \n",
       "N/A (orthology not determined for pseudogenes)                           True   \n",
       "OG6_100000                                                              False   \n",
       "OG6_100001                                                               True   \n",
       "OG6_100006                                                              False   \n",
       "...                                                                       ...   \n",
       "OG6r16_535148                                                            True   \n",
       "OG6r16_535152                                                            True   \n",
       "OG6r16_535175                                                            True   \n",
       "OG6r16_535181                                                            True   \n",
       "OG6r16_535205                                                            True   \n",
       "\n",
       "                                                    Curated GO Component IDs_2  \\\n",
       "Ortholog Group                                                                   \n",
       "N/A (orthology not determined because protein i...                        True   \n",
       "N/A (orthology not determined for pseudogenes)                            True   \n",
       "OG6_100000                                                               False   \n",
       "OG6_100001                                                                True   \n",
       "OG6_100006                                                                True   \n",
       "...                                                                        ...   \n",
       "OG6r16_535148                                                             True   \n",
       "OG6r16_535152                                                             True   \n",
       "OG6r16_535175                                                             True   \n",
       "OG6r16_535181                                                             True   \n",
       "OG6r16_535205                                                             True   \n",
       "\n",
       "                                                    Curated GO Function IDs_2  \\\n",
       "Ortholog Group                                                                  \n",
       "N/A (orthology not determined because protein i...                       True   \n",
       "N/A (orthology not determined for pseudogenes)                           True   \n",
       "OG6_100000                                                               True   \n",
       "OG6_100001                                                               True   \n",
       "OG6_100006                                                               True   \n",
       "...                                                                       ...   \n",
       "OG6r16_535148                                                            True   \n",
       "OG6r16_535152                                                            True   \n",
       "OG6r16_535175                                                            True   \n",
       "OG6r16_535181                                                            True   \n",
       "OG6r16_535205                                                            True   \n",
       "\n",
       "                                                    Curated GO Process IDs_2  \n",
       "Ortholog Group                                                                \n",
       "N/A (orthology not determined because protein i...                      True  \n",
       "N/A (orthology not determined for pseudogenes)                          True  \n",
       "OG6_100000                                                              True  \n",
       "OG6_100001                                                              True  \n",
       "OG6_100006                                                              True  \n",
       "...                                                                      ...  \n",
       "OG6r16_535148                                                           True  \n",
       "OG6r16_535152                                                           True  \n",
       "OG6r16_535175                                                           True  \n",
       "OG6r16_535181                                                           True  \n",
       "OG6r16_535205                                                           True  \n",
       "\n",
       "[21490 rows x 9 columns]"
      ]
     },
     "execution_count": 73,
     "metadata": {},
     "output_type": "execute_result"
    }
   ],
   "source": [
    "df_gene_information_all_member_noGO"
   ]
  },
  {
   "cell_type": "markdown",
   "id": "6ef32a64-2763-4b02-8bf2-14c268859d18",
   "metadata": {},
   "source": [
    "## Ortho Groups without GO information. "
   ]
  },
  {
   "cell_type": "code",
   "execution_count": 74,
   "id": "b3aee207-d006-41a9-9aa4-d65aca368bf3",
   "metadata": {},
   "outputs": [
    {
     "name": "stdout",
     "output_type": "stream",
     "text": [
      "Total: 21490\n"
     ]
    },
    {
     "data": {
      "text/plain": [
       "Gene ID_2                          0\n",
       "Entrez Gene ID_2                8494\n",
       "UniProt ID(s)_2                 4190\n",
       "Computed GO Component IDs_2    14565\n",
       "Computed GO Function IDs_2     15290\n",
       "Computed GO Process IDs_2      16775\n",
       "Curated GO Component IDs_2     13987\n",
       "Curated GO Function IDs_2      17384\n",
       "Curated GO Process IDs_2       17438\n",
       "dtype: int64"
      ]
     },
     "execution_count": 74,
     "metadata": {},
     "output_type": "execute_result"
    }
   ],
   "source": [
    "print('Total:', df_gene_information_all_member_noGO.shape[0])\n",
    "df_gene_information_all_member_noGO.sum()\n",
    "\n",
    "#This is insteresting. We have 1477 OrthoGroups bigger than 1 with no protein structure modelated. We should modelate them. UniProt ID(s)_2 column."
   ]
  },
  {
   "cell_type": "markdown",
   "id": "275066f6-1479-4640-9862-4b640b35e746",
   "metadata": {},
   "source": [
    "# Cluster bigger than 1 with no protein structure available in alphafold "
   ]
  },
  {
   "cell_type": "code",
   "execution_count": 75,
   "id": "c22fcf4f-0d27-4876-8ef9-4a1882324f30",
   "metadata": {},
   "outputs": [],
   "source": [
    "ortholog_groups_to_modelate = df_gene_information_all_member_noGO[df_gene_information_all_member_noGO['UniProt ID(s)_2'] == True].index#['Ortholog Group'].nunique()\n",
    "\n",
    "ortholog_groups_to_modelate = df_gene_information[df_gene_information['Ortholog Group'].isin(ortholog_groups_to_modelate)]"
   ]
  },
  {
   "cell_type": "code",
   "execution_count": 87,
   "id": "4d4fd669-e78e-4198-880d-3287311b9a7b",
   "metadata": {},
   "outputs": [
    {
     "data": {
      "text/plain": [
       "N/A (orthology not determined because protein is too short or has too many stop codons)    4313\n",
       "OG6r16_100141                                                                                68\n",
       "OG6r16_100149                                                                                66\n",
       "OG6r16_100318                                                                                47\n",
       "OG6r16_100363                                                                                44\n",
       "                                                                                           ... \n",
       "OG6_443824                                                                                    2\n",
       "OG6r16_197037                                                                                 2\n",
       "OG6_553005                                                                                    2\n",
       "OG6r16_197040                                                                                 2\n",
       "OG6r16_197819                                                                                 2\n",
       "Name: Ortholog Group, Length: 4190, dtype: int64"
      ]
     },
     "execution_count": 87,
     "metadata": {},
     "output_type": "execute_result"
    }
   ],
   "source": [
    "ortholog_groups_to_modelate['Ortholog Group'].value_counts()"
   ]
  },
  {
   "cell_type": "code",
   "execution_count": 88,
   "id": "3a2a0183-d693-471b-9af0-29c226c5de98",
   "metadata": {},
   "outputs": [
    {
     "data": {
      "text/plain": [
       "(18638, 33)"
      ]
     },
     "execution_count": 88,
     "metadata": {},
     "output_type": "execute_result"
    }
   ],
   "source": [
    "ortholog_groups_to_modelate.shape"
   ]
  },
  {
   "cell_type": "code",
   "execution_count": 89,
   "id": "6d3bf68c-02a2-419d-b4f0-227ba6ec231a",
   "metadata": {},
   "outputs": [
    {
     "data": {
      "text/html": [
       "<div>\n",
       "<style scoped>\n",
       "    .dataframe tbody tr th:only-of-type {\n",
       "        vertical-align: middle;\n",
       "    }\n",
       "\n",
       "    .dataframe tbody tr th {\n",
       "        vertical-align: top;\n",
       "    }\n",
       "\n",
       "    .dataframe thead th {\n",
       "        text-align: right;\n",
       "    }\n",
       "</style>\n",
       "<table border=\"1\" class=\"dataframe\">\n",
       "  <thead>\n",
       "    <tr style=\"text-align: right;\">\n",
       "      <th></th>\n",
       "      <th>Gene ID_1</th>\n",
       "      <th>source_id</th>\n",
       "      <th>Organism</th>\n",
       "      <th>Product Description</th>\n",
       "      <th>Ortholog count</th>\n",
       "      <th>Paralog count</th>\n",
       "      <th>Gene Name or Symbol</th>\n",
       "      <th>Entrez Gene ID_1</th>\n",
       "      <th>UniProt ID(s)_1</th>\n",
       "      <th>Ortholog Group</th>\n",
       "      <th>Computed GO Component IDs_1</th>\n",
       "      <th>Computed GO Components</th>\n",
       "      <th>Computed GO Function IDs_1</th>\n",
       "      <th>Computed GO Functions</th>\n",
       "      <th>Computed GO Process IDs_1</th>\n",
       "      <th>Computed GO Processes</th>\n",
       "      <th>Curated GO Component IDs_1</th>\n",
       "      <th>Curated GO Components</th>\n",
       "      <th>Curated GO Function IDs_1</th>\n",
       "      <th>Curated GO Functions</th>\n",
       "      <th>Curated GO Process IDs_1</th>\n",
       "      <th>Curated GO Processes</th>\n",
       "      <th>EC numbers</th>\n",
       "      <th>EC numbers from OrthoMCL</th>\n",
       "      <th>Gene ID_2</th>\n",
       "      <th>Entrez Gene ID_2</th>\n",
       "      <th>UniProt ID(s)_2</th>\n",
       "      <th>Computed GO Component IDs_2</th>\n",
       "      <th>Computed GO Function IDs_2</th>\n",
       "      <th>Computed GO Process IDs_2</th>\n",
       "      <th>Curated GO Component IDs_2</th>\n",
       "      <th>Curated GO Function IDs_2</th>\n",
       "      <th>Curated GO Process IDs_2</th>\n",
       "    </tr>\n",
       "  </thead>\n",
       "  <tbody>\n",
       "    <tr>\n",
       "      <th>20715</th>\n",
       "      <td>BCY84_17413</td>\n",
       "      <td>BCY84_17413_t1</td>\n",
       "      <td>Trypanosoma cruzi Dm28c 2017</td>\n",
       "      <td>unspecified product</td>\n",
       "      <td>6</td>\n",
       "      <td>0</td>\n",
       "      <td>NaN</td>\n",
       "      <td>NaN</td>\n",
       "      <td>A0A7J6Y4K2</td>\n",
       "      <td>OG6r16_113503</td>\n",
       "      <td>NaN</td>\n",
       "      <td>NaN</td>\n",
       "      <td>NaN</td>\n",
       "      <td>NaN</td>\n",
       "      <td>NaN</td>\n",
       "      <td>NaN</td>\n",
       "      <td>NaN</td>\n",
       "      <td>NaN</td>\n",
       "      <td>NaN</td>\n",
       "      <td>NaN</td>\n",
       "      <td>NaN</td>\n",
       "      <td>NaN</td>\n",
       "      <td>NaN</td>\n",
       "      <td>NaN</td>\n",
       "      <td>False</td>\n",
       "      <td>True</td>\n",
       "      <td>False</td>\n",
       "      <td>True</td>\n",
       "      <td>True</td>\n",
       "      <td>True</td>\n",
       "      <td>True</td>\n",
       "      <td>True</td>\n",
       "      <td>True</td>\n",
       "    </tr>\n",
       "    <tr>\n",
       "      <th>110539</th>\n",
       "      <td>DQ04_02171030</td>\n",
       "      <td>DQ04_02171030-t26_1</td>\n",
       "      <td>Trypanosoma grayi ANR4</td>\n",
       "      <td>hypothetical protein</td>\n",
       "      <td>5</td>\n",
       "      <td>1</td>\n",
       "      <td>NaN</td>\n",
       "      <td>20381869</td>\n",
       "      <td>NaN</td>\n",
       "      <td>OG6r16_113503</td>\n",
       "      <td>NaN</td>\n",
       "      <td>NaN</td>\n",
       "      <td>NaN</td>\n",
       "      <td>NaN</td>\n",
       "      <td>NaN</td>\n",
       "      <td>NaN</td>\n",
       "      <td>NaN</td>\n",
       "      <td>NaN</td>\n",
       "      <td>NaN</td>\n",
       "      <td>NaN</td>\n",
       "      <td>NaN</td>\n",
       "      <td>NaN</td>\n",
       "      <td>NaN</td>\n",
       "      <td>NaN</td>\n",
       "      <td>False</td>\n",
       "      <td>False</td>\n",
       "      <td>True</td>\n",
       "      <td>True</td>\n",
       "      <td>True</td>\n",
       "      <td>True</td>\n",
       "      <td>True</td>\n",
       "      <td>True</td>\n",
       "      <td>True</td>\n",
       "    </tr>\n",
       "    <tr>\n",
       "      <th>110541</th>\n",
       "      <td>DQ04_02171050</td>\n",
       "      <td>DQ04_02171050-t26_1</td>\n",
       "      <td>Trypanosoma grayi ANR4</td>\n",
       "      <td>hypothetical protein</td>\n",
       "      <td>5</td>\n",
       "      <td>1</td>\n",
       "      <td>NaN</td>\n",
       "      <td>20381871</td>\n",
       "      <td>NaN</td>\n",
       "      <td>OG6r16_113503</td>\n",
       "      <td>NaN</td>\n",
       "      <td>NaN</td>\n",
       "      <td>NaN</td>\n",
       "      <td>NaN</td>\n",
       "      <td>NaN</td>\n",
       "      <td>NaN</td>\n",
       "      <td>NaN</td>\n",
       "      <td>NaN</td>\n",
       "      <td>NaN</td>\n",
       "      <td>NaN</td>\n",
       "      <td>NaN</td>\n",
       "      <td>NaN</td>\n",
       "      <td>NaN</td>\n",
       "      <td>NaN</td>\n",
       "      <td>False</td>\n",
       "      <td>False</td>\n",
       "      <td>True</td>\n",
       "      <td>True</td>\n",
       "      <td>True</td>\n",
       "      <td>True</td>\n",
       "      <td>True</td>\n",
       "      <td>True</td>\n",
       "      <td>True</td>\n",
       "    </tr>\n",
       "    <tr>\n",
       "      <th>430850</th>\n",
       "      <td>TCDM_02553</td>\n",
       "      <td>TCDM_02553-t26_1</td>\n",
       "      <td>Trypanosoma cruzi Dm28c 2014</td>\n",
       "      <td>hypothetical protein</td>\n",
       "      <td>6</td>\n",
       "      <td>0</td>\n",
       "      <td>NaN</td>\n",
       "      <td>NaN</td>\n",
       "      <td>V5BR53</td>\n",
       "      <td>OG6r16_113503</td>\n",
       "      <td>NaN</td>\n",
       "      <td>NaN</td>\n",
       "      <td>NaN</td>\n",
       "      <td>NaN</td>\n",
       "      <td>NaN</td>\n",
       "      <td>NaN</td>\n",
       "      <td>NaN</td>\n",
       "      <td>NaN</td>\n",
       "      <td>NaN</td>\n",
       "      <td>NaN</td>\n",
       "      <td>NaN</td>\n",
       "      <td>NaN</td>\n",
       "      <td>NaN</td>\n",
       "      <td>NaN</td>\n",
       "      <td>False</td>\n",
       "      <td>True</td>\n",
       "      <td>False</td>\n",
       "      <td>True</td>\n",
       "      <td>True</td>\n",
       "      <td>True</td>\n",
       "      <td>True</td>\n",
       "      <td>True</td>\n",
       "      <td>True</td>\n",
       "    </tr>\n",
       "    <tr>\n",
       "      <th>464689</th>\n",
       "      <td>TM35_000191690</td>\n",
       "      <td>TM35_000191690-t36_1</td>\n",
       "      <td>Trypanosoma theileri isolate Edinburgh</td>\n",
       "      <td>hypothetical protein</td>\n",
       "      <td>6</td>\n",
       "      <td>0</td>\n",
       "      <td>NaN</td>\n",
       "      <td>39986447</td>\n",
       "      <td>A0A1X0NT97</td>\n",
       "      <td>OG6r16_113503</td>\n",
       "      <td>NaN</td>\n",
       "      <td>NaN</td>\n",
       "      <td>NaN</td>\n",
       "      <td>NaN</td>\n",
       "      <td>NaN</td>\n",
       "      <td>NaN</td>\n",
       "      <td>NaN</td>\n",
       "      <td>NaN</td>\n",
       "      <td>NaN</td>\n",
       "      <td>NaN</td>\n",
       "      <td>NaN</td>\n",
       "      <td>NaN</td>\n",
       "      <td>NaN</td>\n",
       "      <td>NaN</td>\n",
       "      <td>False</td>\n",
       "      <td>False</td>\n",
       "      <td>False</td>\n",
       "      <td>True</td>\n",
       "      <td>True</td>\n",
       "      <td>True</td>\n",
       "      <td>True</td>\n",
       "      <td>True</td>\n",
       "      <td>True</td>\n",
       "    </tr>\n",
       "    <tr>\n",
       "      <th>595361</th>\n",
       "      <td>TcG_05631</td>\n",
       "      <td>TcG_05631_t1</td>\n",
       "      <td>Trypanosoma cruzi strain G</td>\n",
       "      <td>hypothetical protein</td>\n",
       "      <td>6</td>\n",
       "      <td>0</td>\n",
       "      <td>NaN</td>\n",
       "      <td>NaN</td>\n",
       "      <td>NaN</td>\n",
       "      <td>OG6r16_113503</td>\n",
       "      <td>NaN</td>\n",
       "      <td>NaN</td>\n",
       "      <td>NaN</td>\n",
       "      <td>NaN</td>\n",
       "      <td>NaN</td>\n",
       "      <td>NaN</td>\n",
       "      <td>NaN</td>\n",
       "      <td>NaN</td>\n",
       "      <td>NaN</td>\n",
       "      <td>NaN</td>\n",
       "      <td>NaN</td>\n",
       "      <td>NaN</td>\n",
       "      <td>NaN</td>\n",
       "      <td>NaN</td>\n",
       "      <td>False</td>\n",
       "      <td>True</td>\n",
       "      <td>True</td>\n",
       "      <td>True</td>\n",
       "      <td>True</td>\n",
       "      <td>True</td>\n",
       "      <td>True</td>\n",
       "      <td>True</td>\n",
       "      <td>True</td>\n",
       "    </tr>\n",
       "    <tr>\n",
       "      <th>663055</th>\n",
       "      <td>Tc_MARK_64</td>\n",
       "      <td>Tc_MARK_64.mRNA</td>\n",
       "      <td>Trypanosoma cruzi marinkellei strain B7</td>\n",
       "      <td>hypothetical protein</td>\n",
       "      <td>6</td>\n",
       "      <td>0</td>\n",
       "      <td>NaN</td>\n",
       "      <td>NaN</td>\n",
       "      <td>NaN</td>\n",
       "      <td>OG6r16_113503</td>\n",
       "      <td>NaN</td>\n",
       "      <td>NaN</td>\n",
       "      <td>NaN</td>\n",
       "      <td>NaN</td>\n",
       "      <td>NaN</td>\n",
       "      <td>NaN</td>\n",
       "      <td>NaN</td>\n",
       "      <td>NaN</td>\n",
       "      <td>NaN</td>\n",
       "      <td>NaN</td>\n",
       "      <td>NaN</td>\n",
       "      <td>NaN</td>\n",
       "      <td>NaN</td>\n",
       "      <td>NaN</td>\n",
       "      <td>False</td>\n",
       "      <td>True</td>\n",
       "      <td>True</td>\n",
       "      <td>True</td>\n",
       "      <td>True</td>\n",
       "      <td>True</td>\n",
       "      <td>True</td>\n",
       "      <td>True</td>\n",
       "      <td>True</td>\n",
       "    </tr>\n",
       "  </tbody>\n",
       "</table>\n",
       "</div>"
      ],
      "text/plain": [
       "             Gene ID_1             source_id  \\\n",
       "20715      BCY84_17413        BCY84_17413_t1   \n",
       "110539   DQ04_02171030   DQ04_02171030-t26_1   \n",
       "110541   DQ04_02171050   DQ04_02171050-t26_1   \n",
       "430850      TCDM_02553      TCDM_02553-t26_1   \n",
       "464689  TM35_000191690  TM35_000191690-t36_1   \n",
       "595361       TcG_05631          TcG_05631_t1   \n",
       "663055      Tc_MARK_64       Tc_MARK_64.mRNA   \n",
       "\n",
       "                                       Organism   Product Description  \\\n",
       "20715              Trypanosoma cruzi Dm28c 2017   unspecified product   \n",
       "110539                   Trypanosoma grayi ANR4  hypothetical protein   \n",
       "110541                   Trypanosoma grayi ANR4  hypothetical protein   \n",
       "430850             Trypanosoma cruzi Dm28c 2014  hypothetical protein   \n",
       "464689   Trypanosoma theileri isolate Edinburgh  hypothetical protein   \n",
       "595361               Trypanosoma cruzi strain G  hypothetical protein   \n",
       "663055  Trypanosoma cruzi marinkellei strain B7  hypothetical protein   \n",
       "\n",
       "        Ortholog count  Paralog count Gene Name or Symbol Entrez Gene ID_1  \\\n",
       "20715                6              0                 NaN              NaN   \n",
       "110539               5              1                 NaN         20381869   \n",
       "110541               5              1                 NaN         20381871   \n",
       "430850               6              0                 NaN              NaN   \n",
       "464689               6              0                 NaN         39986447   \n",
       "595361               6              0                 NaN              NaN   \n",
       "663055               6              0                 NaN              NaN   \n",
       "\n",
       "       UniProt ID(s)_1 Ortholog Group Computed GO Component IDs_1  \\\n",
       "20715       A0A7J6Y4K2  OG6r16_113503                         NaN   \n",
       "110539             NaN  OG6r16_113503                         NaN   \n",
       "110541             NaN  OG6r16_113503                         NaN   \n",
       "430850          V5BR53  OG6r16_113503                         NaN   \n",
       "464689      A0A1X0NT97  OG6r16_113503                         NaN   \n",
       "595361             NaN  OG6r16_113503                         NaN   \n",
       "663055             NaN  OG6r16_113503                         NaN   \n",
       "\n",
       "       Computed GO Components Computed GO Function IDs_1  \\\n",
       "20715                     NaN                        NaN   \n",
       "110539                    NaN                        NaN   \n",
       "110541                    NaN                        NaN   \n",
       "430850                    NaN                        NaN   \n",
       "464689                    NaN                        NaN   \n",
       "595361                    NaN                        NaN   \n",
       "663055                    NaN                        NaN   \n",
       "\n",
       "       Computed GO Functions Computed GO Process IDs_1 Computed GO Processes  \\\n",
       "20715                    NaN                       NaN                   NaN   \n",
       "110539                   NaN                       NaN                   NaN   \n",
       "110541                   NaN                       NaN                   NaN   \n",
       "430850                   NaN                       NaN                   NaN   \n",
       "464689                   NaN                       NaN                   NaN   \n",
       "595361                   NaN                       NaN                   NaN   \n",
       "663055                   NaN                       NaN                   NaN   \n",
       "\n",
       "       Curated GO Component IDs_1 Curated GO Components  \\\n",
       "20715                         NaN                   NaN   \n",
       "110539                        NaN                   NaN   \n",
       "110541                        NaN                   NaN   \n",
       "430850                        NaN                   NaN   \n",
       "464689                        NaN                   NaN   \n",
       "595361                        NaN                   NaN   \n",
       "663055                        NaN                   NaN   \n",
       "\n",
       "       Curated GO Function IDs_1 Curated GO Functions  \\\n",
       "20715                        NaN                  NaN   \n",
       "110539                       NaN                  NaN   \n",
       "110541                       NaN                  NaN   \n",
       "430850                       NaN                  NaN   \n",
       "464689                       NaN                  NaN   \n",
       "595361                       NaN                  NaN   \n",
       "663055                       NaN                  NaN   \n",
       "\n",
       "       Curated GO Process IDs_1 Curated GO Processes EC numbers  \\\n",
       "20715                       NaN                  NaN        NaN   \n",
       "110539                      NaN                  NaN        NaN   \n",
       "110541                      NaN                  NaN        NaN   \n",
       "430850                      NaN                  NaN        NaN   \n",
       "464689                      NaN                  NaN        NaN   \n",
       "595361                      NaN                  NaN        NaN   \n",
       "663055                      NaN                  NaN        NaN   \n",
       "\n",
       "       EC numbers from OrthoMCL  Gene ID_2  Entrez Gene ID_2  UniProt ID(s)_2  \\\n",
       "20715                       NaN      False              True            False   \n",
       "110539                      NaN      False             False             True   \n",
       "110541                      NaN      False             False             True   \n",
       "430850                      NaN      False              True            False   \n",
       "464689                      NaN      False             False            False   \n",
       "595361                      NaN      False              True             True   \n",
       "663055                      NaN      False              True             True   \n",
       "\n",
       "        Computed GO Component IDs_2  Computed GO Function IDs_2  \\\n",
       "20715                          True                        True   \n",
       "110539                         True                        True   \n",
       "110541                         True                        True   \n",
       "430850                         True                        True   \n",
       "464689                         True                        True   \n",
       "595361                         True                        True   \n",
       "663055                         True                        True   \n",
       "\n",
       "        Computed GO Process IDs_2  Curated GO Component IDs_2  \\\n",
       "20715                        True                        True   \n",
       "110539                       True                        True   \n",
       "110541                       True                        True   \n",
       "430850                       True                        True   \n",
       "464689                       True                        True   \n",
       "595361                       True                        True   \n",
       "663055                       True                        True   \n",
       "\n",
       "        Curated GO Function IDs_2  Curated GO Process IDs_2  \n",
       "20715                        True                      True  \n",
       "110539                       True                      True  \n",
       "110541                       True                      True  \n",
       "430850                       True                      True  \n",
       "464689                       True                      True  \n",
       "595361                       True                      True  \n",
       "663055                       True                      True  "
      ]
     },
     "execution_count": 89,
     "metadata": {},
     "output_type": "execute_result"
    }
   ],
   "source": [
    "df_gene_information[df_gene_information['Ortholog Group'] == 'OG6r16_113503']"
   ]
  },
  {
   "cell_type": "code",
   "execution_count": null,
   "id": "6f9fa163-56df-424e-a6e0-139c5a9d5bc4",
   "metadata": {},
   "outputs": [],
   "source": []
  },
  {
   "cell_type": "markdown",
   "id": "173cea34-2d88-4446-b820-303af5b0f393",
   "metadata": {},
   "source": [
    "# Clustered non modelated sequences to fasta"
   ]
  },
  {
   "cell_type": "code",
   "execution_count": 261,
   "id": "5c2ee652-3a89-43d0-8d92-286df9a73aac",
   "metadata": {},
   "outputs": [],
   "source": [
    "clusterTSV = pd.read_csv('../../tmp/report_files/sequences_to_be_modelated/ortho_group_with_more_than_one_member_wo_model_in_AFDB_cluster.tsv', \n",
    "            sep='\\t',\n",
    "           header=None)"
   ]
  },
  {
   "cell_type": "code",
   "execution_count": null,
   "id": "54eac11b-8fb4-4623-8aec-f04690c404a3",
   "metadata": {},
   "outputs": [],
   "source": []
  },
  {
   "cell_type": "code",
   "execution_count": null,
   "id": "81cd683c-1048-452c-9381-28f2948c5571",
   "metadata": {},
   "outputs": [],
   "source": []
  },
  {
   "cell_type": "markdown",
   "id": "544c705a-515f-4682-8065-13335ee520fe",
   "metadata": {},
   "source": [
    "looking_in_fasta_file(list(clusterTSV[0].unique()), \n",
    "                     '../../tmp/report_files/sequences_to_be_modelated_cluster_representar/',\n",
    "                     'cluster_representer_to_AF.fasta')"
   ]
  },
  {
   "cell_type": "code",
   "execution_count": null,
   "id": "0cbc3870-c399-4d74-b811-c2e8708e7c7c",
   "metadata": {},
   "outputs": [],
   "source": []
  }
 ],
 "metadata": {
  "kernelspec": {
   "display_name": "Python 3 (ipykernel)",
   "language": "python",
   "name": "python3"
  },
  "language_info": {
   "codemirror_mode": {
    "name": "ipython",
    "version": 3
   },
   "file_extension": ".py",
   "mimetype": "text/x-python",
   "name": "python",
   "nbconvert_exporter": "python",
   "pygments_lexer": "ipython3",
   "version": "3.8.8"
  }
 },
 "nbformat": 4,
 "nbformat_minor": 5
}
