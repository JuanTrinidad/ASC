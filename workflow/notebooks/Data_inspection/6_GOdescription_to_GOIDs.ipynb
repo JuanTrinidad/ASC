{
 "cells": [
  {
   "cell_type": "code",
   "execution_count": 1,
   "id": "ce1f8a41-bfeb-4099-b629-f3944f838e2c",
   "metadata": {},
   "outputs": [],
   "source": [
    "import pandas as pd"
   ]
  },
  {
   "cell_type": "code",
   "execution_count": null,
   "id": "835ae6f5-d64c-44c5-b5b4-25ba95c376fb",
   "metadata": {},
   "outputs": [],
   "source": []
  },
  {
   "cell_type": "code",
   "execution_count": 2,
   "id": "8385e179-1522-4b51-a7b9-68b58eac228e",
   "metadata": {},
   "outputs": [],
   "source": [
    "df = pd.read_csv('../../../config/mandatory_files/TrypTag_GOIDs_description.csv')"
   ]
  },
  {
   "cell_type": "code",
   "execution_count": null,
   "id": "829cddf7-d635-469c-b119-70fc6b68e587",
   "metadata": {},
   "outputs": [],
   "source": []
  },
  {
   "cell_type": "code",
   "execution_count": 13,
   "id": "e330d9ab-90ee-4e59-b767-91cb30050ee0",
   "metadata": {},
   "outputs": [],
   "source": [
    "df1 = df[['Curated GO Component IDs', 'Curated GO Components']].dropna()"
   ]
  },
  {
   "cell_type": "code",
   "execution_count": 11,
   "id": "fe16cec3-c9b6-4a7d-8df4-c08d95fab0ee",
   "metadata": {},
   "outputs": [],
   "source": [
    "def creating_dictionary(lista1,lista2):\n",
    "    \n",
    "    diccionario = {}\n",
    "    \n",
    "    \n",
    "    lista1 = lista1.split(';')\n",
    "    lista2 = lista2.split(';')\n",
    "    \n",
    "    \n",
    "    for f, b in zip(lista1, lista2):\n",
    "        #print(f, b)\n",
    "        \n",
    "        diccionario[f] = b\n",
    "        \n",
    "    return diccionario\n",
    "    "
   ]
  },
  {
   "cell_type": "code",
   "execution_count": null,
   "id": "80a74663-c7f6-4561-8805-a276a82c77e4",
   "metadata": {},
   "outputs": [],
   "source": []
  },
  {
   "cell_type": "code",
   "execution_count": null,
   "id": "dc4ea30c-6904-4b09-afbc-814466e85c1f",
   "metadata": {},
   "outputs": [],
   "source": []
  },
  {
   "cell_type": "code",
   "execution_count": 26,
   "id": "8211fb1a-ad7f-46d8-98eb-ad8b9b1ea3a7",
   "metadata": {},
   "outputs": [],
   "source": [
    "s = df1.apply(lambda row: creating_dictionary(row['Curated GO Component IDs'], row['Curated GO Components']), axis=1)"
   ]
  },
  {
   "cell_type": "code",
   "execution_count": 40,
   "id": "8ff51a0f-aeba-4e7e-846e-5adec3c2df76",
   "metadata": {},
   "outputs": [],
   "source": [
    "final_dict = (s\n",
    " .apply(pd.Series)\n",
    " .stack()\n",
    " .to_frame()\n",
    " .reset_index()\n",
    " .set_index('level_1')\n",
    " )[0].to_dict()"
   ]
  },
  {
   "cell_type": "code",
   "execution_count": null,
   "id": "fa86c07f-8b8d-4bca-854d-a460fb8bb6ad",
   "metadata": {},
   "outputs": [],
   "source": []
  },
  {
   "cell_type": "code",
   "execution_count": 44,
   "id": "11665b01-f386-4e08-96df-2b5d1c504313",
   "metadata": {},
   "outputs": [
    {
     "name": "stdout",
     "output_type": "stream",
     "text": [
      "dictionary saved successfully to file\n"
     ]
    }
   ],
   "source": [
    "import pickle\n",
    "\n",
    "with open('../../../config/mandatory_files/GOIDs_to_GOdescription.pkl', 'wb') as fp:\n",
    "    \n",
    "    pickle.dump(final_dict, fp)\n",
    "    print('dictionary saved successfully to file')"
   ]
  },
  {
   "cell_type": "code",
   "execution_count": null,
   "id": "ce35cf6e-9b04-4d6c-a857-9c5265e49b66",
   "metadata": {},
   "outputs": [],
   "source": []
  }
 ],
 "metadata": {
  "kernelspec": {
   "display_name": "Python 3 (ipykernel)",
   "language": "python",
   "name": "python3"
  },
  "language_info": {
   "codemirror_mode": {
    "name": "ipython",
    "version": 3
   },
   "file_extension": ".py",
   "mimetype": "text/x-python",
   "name": "python",
   "nbconvert_exporter": "python",
   "pygments_lexer": "ipython3",
   "version": "3.8.8"
  }
 },
 "nbformat": 4,
 "nbformat_minor": 5
}
