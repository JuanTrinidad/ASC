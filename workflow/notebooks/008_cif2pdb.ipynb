{
 "cells": [
  {
   "cell_type": "code",
   "execution_count": 10,
   "metadata": {},
   "outputs": [],
   "source": [
    "import multiprocessing\n",
    "import gemmi\n",
    "import os\n",
    "import glob"
   ]
  },
  {
   "cell_type": "code",
   "execution_count": 11,
   "metadata": {},
   "outputs": [],
   "source": [
    "# Specify the number of cores to use\n",
    "num_cores = snakemake.threads\n",
    "\n",
    "\n",
    "cif_files = glob.glob('tmp/FATCAT_pdb_files/*.cif')\n",
    "pdb_files = [file.replace('.cif', '.pdb') for file in cif_files]\n",
    "\n"
   ]
  },
  {
   "cell_type": "code",
   "execution_count": 12,
   "metadata": {},
   "outputs": [],
   "source": [
    "\n",
    "\n",
    "\n",
    "\n",
    "def convert_cif_to_pdb(cif_file, pdb_file):\n",
    "    structure = gemmi.read_structure(cif_file)\n",
    "    structure.write_pdb(pdb_file)\n",
    "\n",
    "def parallel_convert_cif_to_pdb(cif_files, pdb_files, num_cores):\n",
    "    # Create a pool of worker processes\n",
    "    pool = multiprocessing.Pool(processes=num_cores)\n",
    "    \n",
    "    # Map the convert_cif_to_pdb function to the pool of worker processes\n",
    "    results = pool.starmap(convert_cif_to_pdb, zip(cif_files, pdb_files))\n",
    "    \n",
    "    # Close the pool of worker processes\n",
    "    pool.close()\n",
    "    \n",
    "    # Wait for all the worker processes to finish\n",
    "    pool.join()\n",
    "    \n",
    "    # Return the results\n",
    "    return results\n",
    "\n",
    "\n",
    "# Call the parallel_convert_cif_to_pdb function\n",
    "results = parallel_convert_cif_to_pdb(cif_files, pdb_files, num_cores)\n",
    "\n",
    "\n",
    "\n",
    "\n"
   ]
  },
  {
   "cell_type": "code",
   "execution_count": 13,
   "metadata": {},
   "outputs": [],
   "source": [
    "# Delete the CIF files\n",
    "for cif_file in cif_files:\n",
    "    os.remove(cif_file)"
   ]
  }
 ],
 "metadata": {
  "kernelspec": {
   "display_name": "base",
   "language": "python",
   "name": "python3"
  },
  "language_info": {
   "codemirror_mode": {
    "name": "ipython",
    "version": 3
   },
   "file_extension": ".py",
   "mimetype": "text/x-python",
   "name": "python",
   "nbconvert_exporter": "python",
   "pygments_lexer": "ipython3",
   "version": "3.9.18"
  }
 },
 "nbformat": 4,
 "nbformat_minor": 2
}
