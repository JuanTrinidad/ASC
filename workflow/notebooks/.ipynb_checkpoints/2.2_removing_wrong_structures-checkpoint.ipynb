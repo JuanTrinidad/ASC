{
 "cells": [
  {
   "cell_type": "code",
   "execution_count": 21,
   "id": "2eb18373-9c6c-4dae-8c93-c44f93f28433",
   "metadata": {},
   "outputs": [],
   "source": [
    "import pandas as pd\n",
    "from Bio import SeqIO\n",
    "from Bio import pairwise2\n",
    "from Bio.PDB import *\n",
    "import multiprocessing"
   ]
  },
  {
   "cell_type": "code",
   "execution_count": null,
   "id": "bbdbcfcb-e048-421b-9927-2dce3eaee6c4",
   "metadata": {},
   "outputs": [],
   "source": []
  },
  {
   "cell_type": "code",
   "execution_count": null,
   "id": "9fdc01d7-1863-4459-ac22-cd31ea4ab449",
   "metadata": {},
   "outputs": [],
   "source": []
  },
  {
   "cell_type": "code",
   "execution_count": 22,
   "id": "4ef66899-fb74-41ca-a6c6-f39368713074",
   "metadata": {
    "tags": []
   },
   "outputs": [],
   "source": [
    "genID_UNIPROT = []\n",
    "\n",
    "with open('../../config/mandatory_files/fasta_header_to_uniprot.tsv', 'r') as file:\n",
    "    \n",
    "    \n",
    "    for line in file.readlines():\n",
    "        \n",
    "        line = line.split()\n",
    "        \n",
    "        \n",
    "        \n",
    "        genID = line[0]\n",
    "        UNIPROTaccession = line[1]\n",
    "        \n",
    "        pars = [genID, f'../genome_data_sets/query_proteomes/pdb_files/prot_structure_download_from_AlphaFoldDB/AF-{UNIPROTaccession}-F1-model_v4.pdb', UNIPROTaccession]\n",
    "        \n",
    "        #print(pars)\n",
    "        genID_UNIPROT.append(pars)\n",
    "        \n",
    "    "
   ]
  },
  {
   "cell_type": "code",
   "execution_count": 23,
   "id": "85b743b2-2bbb-47d3-b1a6-fb95101fc898",
   "metadata": {
    "tags": []
   },
   "outputs": [],
   "source": [
    "genID_aaSequence = []\n",
    "\n",
    "with open('../genome_data_sets/query_proteomes/fasta_files/TriTrypDB-63_All_species_clean.fa', 'r') as fasta_file:\n",
    "\n",
    "\n",
    "    for record in SeqIO.parse(fasta_file, \"fasta\"):\n",
    "        genID_aaSequence.append([record.id, record.seq])\n",
    "\n"
   ]
  },
  {
   "cell_type": "code",
   "execution_count": 24,
   "id": "acd158ad-ff5e-4014-987d-24362a54e8c5",
   "metadata": {},
   "outputs": [],
   "source": [
    "df0 = pd.DataFrame(genID_UNIPROT)\n",
    "df1 = pd.DataFrame(genID_aaSequence)\n",
    "\n",
    "df_allinfo = df0.merge(df1, right_on=0, left_on=0, how='left').dropna()"
   ]
  },
  {
   "cell_type": "code",
   "execution_count": 25,
   "id": "cc4793ca-8ad0-4d55-8f2b-4a5c1c38e93d",
   "metadata": {},
   "outputs": [],
   "source": [
    "df_allinfo_aslist = df_allinfo.to_numpy().tolist()"
   ]
  },
  {
   "cell_type": "code",
   "execution_count": null,
   "id": "a8dd008c-a6d2-4a70-b727-cab936c2a4b5",
   "metadata": {},
   "outputs": [],
   "source": []
  },
  {
   "cell_type": "code",
   "execution_count": 26,
   "id": "53106859-d397-4aaa-bf55-063c7a0f668a",
   "metadata": {},
   "outputs": [],
   "source": [
    "#df_allinfo_aslist = df_allinfo_aslist[:1000]"
   ]
  },
  {
   "cell_type": "code",
   "execution_count": null,
   "id": "dc6ec5d1-a745-4ffe-96e7-96c6df646ed8",
   "metadata": {},
   "outputs": [],
   "source": []
  },
  {
   "cell_type": "code",
   "execution_count": null,
   "id": "a1da2f65-66d2-4ddf-8f56-956111e30e6c",
   "metadata": {},
   "outputs": [],
   "source": []
  },
  {
   "cell_type": "code",
   "execution_count": null,
   "id": "e87b0cd6-7de4-4e71-8225-49d6b0f4c79b",
   "metadata": {},
   "outputs": [],
   "source": []
  },
  {
   "cell_type": "code",
   "execution_count": 28,
   "id": "2d90ce9b-622e-46fa-941a-274b5c2fa49e",
   "metadata": {},
   "outputs": [],
   "source": [
    "def align_fasta_sequence(parameters_list):\n",
    "    \"\"\"Aligns a FASTA sequence against a PDB or CIFF file.\n",
    "\n",
    "    Args:\n",
    "    fasta_sequence: The FASTA sequence to align.\n",
    "    pdb_file: The PDB or CIFF file to align against.\n",
    "\n",
    "    Returns:\n",
    "    The alignment of the FASTA sequence against the PDB or CIFF file.\n",
    "    \"\"\"\n",
    "\n",
    "    \n",
    "    pdb_file = parameters_list[1]\n",
    "    fasta_sequence = parameters_list[3]\n",
    "\n",
    "    \n",
    "    p = PDBParser()\n",
    "    structure = p.get_structure(\"XXX\", pdb_file)\n",
    "    ppb=PPBuilder()\n",
    "    PDBsequence = ppb.build_peptides(structure)[0].get_sequence()\n",
    "    \n",
    "    len_fasta_seq = len(fasta_sequence)\n",
    "    len_PDBsequence = len(PDBsequence)\n",
    "    \n",
    "    if len_fasta_seq == len_PDBsequence:\n",
    "        \n",
    "        score = len_fasta_seq\n",
    "    \n",
    "    else:\n",
    "        alignment = pairwise2.align.globalxx(fasta_sequence, PDBsequence)\n",
    "        score = alignment[0].score\n",
    "    \n",
    "    return [parameters_list[0], parameters_list[2], score, len_fasta_seq, len_PDBsequence]\n",
    "\n",
    "\n",
    "def align_fasta_sequence_parallel(num_threads):\n",
    "    \n",
    "    # Create a pool of processes.\n",
    "    pool = multiprocessing.Pool(num_threads) \n",
    "\n",
    "\n",
    "    # Map the extract_values function to each file name in the list.\n",
    "    results = pool.map(align_fasta_sequence, df_allinfo_aslist)\n",
    "    \n",
    "    # Close the pool.\n",
    "    pool.close()\n",
    "    pool.join()    \n",
    "    \n",
    "    return results"
   ]
  },
  {
   "cell_type": "code",
   "execution_count": null,
   "id": "b057b9cb-a158-40a6-80e1-fe35b51e79c2",
   "metadata": {},
   "outputs": [],
   "source": []
  },
  {
   "cell_type": "code",
   "execution_count": null,
   "id": "2101eee1-83a4-495a-8364-232ec43e7a28",
   "metadata": {},
   "outputs": [],
   "source": []
  },
  {
   "cell_type": "code",
   "execution_count": null,
   "id": "b8a1fc78-296e-498c-8e3f-a34e9b64ccd7",
   "metadata": {},
   "outputs": [],
   "source": []
  },
  {
   "cell_type": "code",
   "execution_count": 32,
   "id": "dfdc8ebb-8409-41af-b885-2d54a4a9dd6e",
   "metadata": {
    "tags": []
   },
   "outputs": [
    {
     "name": "stdout",
     "output_type": "stream",
     "text": [
      "CPU times: user 129 ms, sys: 2.13 s, total: 2.26 s\n",
      "Wall time: 10.2 s\n"
     ]
    }
   ],
   "source": [
    "%%time\n",
    "\n",
    "salida = align_fasta_sequence_parallel(30)"
   ]
  },
  {
   "cell_type": "code",
   "execution_count": null,
   "id": "7bedac45-89d8-49a8-9406-3546588e986e",
   "metadata": {},
   "outputs": [],
   "source": []
  },
  {
   "cell_type": "code",
   "execution_count": 46,
   "id": "b3c5b360-9812-4c78-8e9c-8fa2a690738a",
   "metadata": {},
   "outputs": [],
   "source": [
    "df = pd.DataFrame(salida, columns=['genID', 'UNIPROT', 'score', 'len_fasta', 'lenPDB'])\n",
    "\n",
    "df.to_csv('../tmp/sequence_comparison_between_fasta_and_downloadedPDBfile.tsv', sep='\\t', index=None)"
   ]
  },
  {
   "cell_type": "code",
   "execution_count": 47,
   "id": "5decface-60d9-48af-982f-d676a592aa7f",
   "metadata": {},
   "outputs": [
    {
     "data": {
      "text/html": [
       "<div>\n",
       "<style scoped>\n",
       "    .dataframe tbody tr th:only-of-type {\n",
       "        vertical-align: middle;\n",
       "    }\n",
       "\n",
       "    .dataframe tbody tr th {\n",
       "        vertical-align: top;\n",
       "    }\n",
       "\n",
       "    .dataframe thead th {\n",
       "        text-align: right;\n",
       "    }\n",
       "</style>\n",
       "<table border=\"1\" class=\"dataframe\">\n",
       "  <thead>\n",
       "    <tr style=\"text-align: right;\">\n",
       "      <th></th>\n",
       "      <th>genID</th>\n",
       "      <th>UNIPROT</th>\n",
       "      <th>score</th>\n",
       "      <th>len_fasta</th>\n",
       "      <th>lenPDB</th>\n",
       "    </tr>\n",
       "  </thead>\n",
       "  <tbody>\n",
       "    <tr>\n",
       "      <th>0</th>\n",
       "      <td>ADEAN_000005000</td>\n",
       "      <td>A0A7G2BYP5</td>\n",
       "      <td>621.0</td>\n",
       "      <td>621</td>\n",
       "      <td>621</td>\n",
       "    </tr>\n",
       "    <tr>\n",
       "      <th>1</th>\n",
       "      <td>ADEAN_000005100</td>\n",
       "      <td>A0A7G2BYF2</td>\n",
       "      <td>690.0</td>\n",
       "      <td>690</td>\n",
       "      <td>690</td>\n",
       "    </tr>\n",
       "    <tr>\n",
       "      <th>2</th>\n",
       "      <td>ADEAN_000005200</td>\n",
       "      <td>A0A7G2BYV1</td>\n",
       "      <td>867.0</td>\n",
       "      <td>867</td>\n",
       "      <td>867</td>\n",
       "    </tr>\n",
       "    <tr>\n",
       "      <th>3</th>\n",
       "      <td>ADEAN_000005400</td>\n",
       "      <td>A0A7G2C401</td>\n",
       "      <td>419.0</td>\n",
       "      <td>419</td>\n",
       "      <td>419</td>\n",
       "    </tr>\n",
       "    <tr>\n",
       "      <th>4</th>\n",
       "      <td>ADEAN_000005500</td>\n",
       "      <td>A0A7G2C1P4</td>\n",
       "      <td>375.0</td>\n",
       "      <td>375</td>\n",
       "      <td>375</td>\n",
       "    </tr>\n",
       "    <tr>\n",
       "      <th>...</th>\n",
       "      <td>...</td>\n",
       "      <td>...</td>\n",
       "      <td>...</td>\n",
       "      <td>...</td>\n",
       "      <td>...</td>\n",
       "    </tr>\n",
       "    <tr>\n",
       "      <th>995</th>\n",
       "      <td>ADEAN_000109100</td>\n",
       "      <td>A0A7G2C1K7</td>\n",
       "      <td>453.0</td>\n",
       "      <td>453</td>\n",
       "      <td>453</td>\n",
       "    </tr>\n",
       "    <tr>\n",
       "      <th>996</th>\n",
       "      <td>ADEAN_000109200</td>\n",
       "      <td>A0A7G2C1V6</td>\n",
       "      <td>176.0</td>\n",
       "      <td>176</td>\n",
       "      <td>176</td>\n",
       "    </tr>\n",
       "    <tr>\n",
       "      <th>997</th>\n",
       "      <td>ADEAN_000109300</td>\n",
       "      <td>A0A7G2C1Q1</td>\n",
       "      <td>346.0</td>\n",
       "      <td>346</td>\n",
       "      <td>346</td>\n",
       "    </tr>\n",
       "    <tr>\n",
       "      <th>998</th>\n",
       "      <td>ADEAN_000109400</td>\n",
       "      <td>A0A7G2C3D0</td>\n",
       "      <td>252.0</td>\n",
       "      <td>252</td>\n",
       "      <td>252</td>\n",
       "    </tr>\n",
       "    <tr>\n",
       "      <th>999</th>\n",
       "      <td>ADEAN_000109500</td>\n",
       "      <td>A0A7G2C6R1</td>\n",
       "      <td>120.0</td>\n",
       "      <td>120</td>\n",
       "      <td>120</td>\n",
       "    </tr>\n",
       "  </tbody>\n",
       "</table>\n",
       "<p>1000 rows × 5 columns</p>\n",
       "</div>"
      ],
      "text/plain": [
       "               genID     UNIPROT  score  len_fasta  lenPDB\n",
       "0    ADEAN_000005000  A0A7G2BYP5  621.0        621     621\n",
       "1    ADEAN_000005100  A0A7G2BYF2  690.0        690     690\n",
       "2    ADEAN_000005200  A0A7G2BYV1  867.0        867     867\n",
       "3    ADEAN_000005400  A0A7G2C401  419.0        419     419\n",
       "4    ADEAN_000005500  A0A7G2C1P4  375.0        375     375\n",
       "..               ...         ...    ...        ...     ...\n",
       "995  ADEAN_000109100  A0A7G2C1K7  453.0        453     453\n",
       "996  ADEAN_000109200  A0A7G2C1V6  176.0        176     176\n",
       "997  ADEAN_000109300  A0A7G2C1Q1  346.0        346     346\n",
       "998  ADEAN_000109400  A0A7G2C3D0  252.0        252     252\n",
       "999  ADEAN_000109500  A0A7G2C6R1  120.0        120     120\n",
       "\n",
       "[1000 rows x 5 columns]"
      ]
     },
     "execution_count": 47,
     "metadata": {},
     "output_type": "execute_result"
    }
   ],
   "source": [
    "df"
   ]
  },
  {
   "cell_type": "code",
   "execution_count": null,
   "id": "02e14635-f0c1-45d1-bf76-c5094c6a3216",
   "metadata": {},
   "outputs": [],
   "source": []
  }
 ],
 "metadata": {
  "kernelspec": {
   "display_name": "Python 3 (ipykernel)",
   "language": "python",
   "name": "python3"
  },
  "language_info": {
   "codemirror_mode": {
    "name": "ipython",
    "version": 3
   },
   "file_extension": ".py",
   "mimetype": "text/x-python",
   "name": "python",
   "nbconvert_exporter": "python",
   "pygments_lexer": "ipython3",
   "version": "3.8.8"
  }
 },
 "nbformat": 4,
 "nbformat_minor": 5
}
