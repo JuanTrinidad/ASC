{
 "cells": [
  {
   "cell_type": "code",
   "execution_count": 1,
   "id": "a60ce4cf-369e-4c9c-8bd8-b862b6d47600",
   "metadata": {},
   "outputs": [],
   "source": [
    "import pandas as pd"
   ]
  },
  {
   "cell_type": "code",
   "execution_count": null,
   "id": "8fbedead-723d-451b-97b3-53093d0e6ef8",
   "metadata": {},
   "outputs": [],
   "source": []
  },
  {
   "cell_type": "code",
   "execution_count": 25,
   "id": "97022f5d-6ef1-425b-aa94-9f55ab8d23f3",
   "metadata": {},
   "outputs": [
    {
     "name": "stdout",
     "output_type": "stream",
     "text": [
      "(677726, 2)\n"
     ]
    }
   ],
   "source": [
    "df_clusters=pd.read_csv('../genome_data_sets/query_proteomes/mmseqs2_seq_clusters/clusterRes_db.tsv',\n",
    "           sep='\\t',\n",
    "           header=None,\n",
    "           names=['cluster_representer','cluster_member'])\n",
    "\n",
    "#print(df_clusters.shape)"
   ]
  },
  {
   "cell_type": "code",
   "execution_count": 2,
   "id": "d22d21af-534f-4aea-9987-440d5275bff7",
   "metadata": {},
   "outputs": [
    {
     "name": "stdout",
     "output_type": "stream",
     "text": [
      "(272483, 2)\n"
     ]
    }
   ],
   "source": [
    "df_pLDDT = pd.read_csv('../report_files/protein_structure_pLDDT_mean.tsv', \n",
    "                       sep='\\t', \n",
    "                       header=None, \n",
    "                       names = ['uniprot', 'pLDDT_mean'])\n",
    "\n",
    "#print(df_pLDDT.shape)"
   ]
  },
  {
   "cell_type": "code",
   "execution_count": 15,
   "id": "54d0e4c4-0bd1-4924-8f2f-6c5276746f22",
   "metadata": {},
   "outputs": [
    {
     "name": "stdout",
     "output_type": "stream",
     "text": [
      "(271822, 2)\n"
     ]
    }
   ],
   "source": [
    "df_geneId_uniprot = pd.read_csv('../../Doctorado_kinetoplastids_genome_annotation/reports_files/fasta_header_to_uniprot_used.tsv', \n",
    "                       sep='\\t', \n",
    "                       names = ['Gene ID', 'uniprot'])\n",
    "\n",
    "#print(df_geneId_uniprot.shape)"
   ]
  },
  {
   "cell_type": "code",
   "execution_count": 16,
   "id": "3d59e7d7-3903-4b8a-9893-bce4e837eb74",
   "metadata": {
    "tags": []
   },
   "outputs": [
    {
     "name": "stdout",
     "output_type": "stream",
     "text": [
      "(686926, 2)\n",
      "53705\n"
     ]
    }
   ],
   "source": [
    "df_orthologG = pd.read_csv('../mandatory_files/Ortholog_group_to_geneID.tsv', \n",
    "                       sep='\\t', \n",
    "                       names = ['Ortholog_Group', 'Gene ID'])\n",
    "\n",
    "#print(df_orthologG.shape)\n",
    "#print(df_orthologG.Ortholog_Group.nunique())"
   ]
  },
  {
   "cell_type": "code",
   "execution_count": null,
   "id": "cf6e0c03-3918-4d16-9bfc-fa9a761bba87",
   "metadata": {},
   "outputs": [],
   "source": []
  },
  {
   "cell_type": "code",
   "execution_count": null,
   "id": "7542b171-ec65-42f2-ac06-be0a219e3935",
   "metadata": {},
   "outputs": [],
   "source": []
  },
  {
   "cell_type": "code",
   "execution_count": 58,
   "id": "57626bbc-5679-4c69-8057-6f489e5f3342",
   "metadata": {},
   "outputs": [
    {
     "name": "stdout",
     "output_type": "stream",
     "text": [
      "(126985, 5)\n"
     ]
    }
   ],
   "source": [
    "# uno los DF para agregar a los cluster el codigo uniprot y con eso agregar el valor promedio de pLDDT\n",
    "df_merged = (df_clusters\n",
    " .merge(df_geneId_uniprot, left_on='cluster_member', right_on='Gene ID')\n",
    " .merge(df_pLDDT, left_on='uniprot', right_on='uniprot')\n",
    ")\n",
    "#print(df_merged.shape)"
   ]
  },
  {
   "cell_type": "code",
   "execution_count": 59,
   "id": "0f28f269-ff10-431a-8a93-617e7c8b9bbc",
   "metadata": {},
   "outputs": [],
   "source": [
    "#en cada cluster me quedo con la mejor estructura para luego agregar esta al df de cluster y asignar estructura a proteinas no modeladas.\n",
    "#esto es importante porque en los cluster de homologos hay algunos de estos genes que no estan dentro no se porque pero si hago esta reduccion al menos puedo asignar una estructura al cluster.\n",
    "#si no hago esto me quedo con un total de 30915 grupos de orthologos con estructura asignada. Yo asumo que debe ser porque se modelo un paralogo o algo asi y por eso no estan en el grupo.\n",
    "\n",
    "df_merged_best_PS = df_merged.sort_values('pLDDT_mean', ascending=False).drop_duplicates(subset='cluster_representer',keep='first')"
   ]
  },
  {
   "cell_type": "code",
   "execution_count": 62,
   "id": "49be0dfb-f916-4a53-9c9b-cb08be67991f",
   "metadata": {},
   "outputs": [],
   "source": [
    "#objeto para mapear al df de cluster solo con la informacion necesaria\n",
    "to_map_df_merged_best_PS = df_merged_best_PS[['cluster_representer', 'uniprot']]"
   ]
  },
  {
   "cell_type": "code",
   "execution_count": null,
   "id": "119db102-9fee-48eb-a0d2-c5e6030b11c9",
   "metadata": {},
   "outputs": [],
   "source": []
  },
  {
   "cell_type": "code",
   "execution_count": null,
   "id": "26245229-e84c-45e6-af51-059b0066e5df",
   "metadata": {},
   "outputs": [],
   "source": []
  },
  {
   "cell_type": "code",
   "execution_count": 66,
   "id": "05cfdf65-fb3c-48d5-b408-2de9ae071c0f",
   "metadata": {},
   "outputs": [],
   "source": [
    "#asignando estructura de proteina de alguna modelada con 90 de identidad de secuencia\n",
    "df_clusters = df_clusters.merge(to_map_df_merged_best_PS, left_on='cluster_representer', right_on='cluster_representer', how='left')"
   ]
  },
  {
   "cell_type": "code",
   "execution_count": null,
   "id": "d1232cd1-533d-4bb8-ab85-eb2aabfc1660",
   "metadata": {},
   "outputs": [],
   "source": []
  },
  {
   "cell_type": "code",
   "execution_count": null,
   "id": "dc84c167-9ca8-40ff-bc26-4cdcdbff5597",
   "metadata": {},
   "outputs": [],
   "source": []
  },
  {
   "cell_type": "code",
   "execution_count": null,
   "id": "b74fb819-12ad-46dd-b15c-f17544171027",
   "metadata": {},
   "outputs": [],
   "source": []
  },
  {
   "cell_type": "code",
   "execution_count": 76,
   "id": "e061241e-93f5-48b1-93ee-a89c7e63f6a2",
   "metadata": {},
   "outputs": [],
   "source": [
    "df_orthologG_plus_structure = df_orthologG.merge(df_clusters, left_on='Gene ID', right_on='cluster_member')"
   ]
  },
  {
   "cell_type": "code",
   "execution_count": 82,
   "id": "7d5238af-ec26-48b2-8479-6fbc89a20987",
   "metadata": {},
   "outputs": [],
   "source": [
    "#total de grupos de ortologos \n",
    "#df_orthologG['Ortholog_Group'].nunique() #53705\n",
    "#esta es la cantidad de cluster a los que le asigno estructura con esta estrategia.\n",
    "#df_orthologG_plus_structure['Ortholog_Group'].nunique() #53575"
   ]
  },
  {
   "cell_type": "code",
   "execution_count": 84,
   "id": "951e4fe5-f8c0-4bc8-a031-884681a47b85",
   "metadata": {},
   "outputs": [
    {
     "name": "stdout",
     "output_type": "stream",
     "text": [
      "The number of otholog groups with protein structure assigned are: 53575\n"
     ]
    }
   ],
   "source": [
    "print('Total number of otholog groups:', df_orthologG.Ortholog_Group.nunique())\n",
    "print('The number of otholog groups with protein structure assigned are:', df_orthologG_plus_structure.Ortholog_Group.nunique())"
   ]
  },
  {
   "cell_type": "code",
   "execution_count": 83,
   "id": "2745e9db-375b-45c7-aa40-2f5de19c9106",
   "metadata": {},
   "outputs": [
    {
     "data": {
      "text/html": [
       "<div>\n",
       "<style scoped>\n",
       "    .dataframe tbody tr th:only-of-type {\n",
       "        vertical-align: middle;\n",
       "    }\n",
       "\n",
       "    .dataframe tbody tr th {\n",
       "        vertical-align: top;\n",
       "    }\n",
       "\n",
       "    .dataframe thead th {\n",
       "        text-align: right;\n",
       "    }\n",
       "</style>\n",
       "<table border=\"1\" class=\"dataframe\">\n",
       "  <thead>\n",
       "    <tr style=\"text-align: right;\">\n",
       "      <th></th>\n",
       "      <th>Ortholog_Group</th>\n",
       "      <th>Gene ID</th>\n",
       "      <th>cluster_representer</th>\n",
       "      <th>cluster_member</th>\n",
       "      <th>uniprot</th>\n",
       "    </tr>\n",
       "  </thead>\n",
       "  <tbody>\n",
       "    <tr>\n",
       "      <th>0</th>\n",
       "      <td>OG6_158218</td>\n",
       "      <td>TRSC58_00001</td>\n",
       "      <td>TRSC58_00001</td>\n",
       "      <td>TRSC58_00001</td>\n",
       "      <td>A0A422P0W0</td>\n",
       "    </tr>\n",
       "    <tr>\n",
       "      <th>1</th>\n",
       "      <td>OG6_100831</td>\n",
       "      <td>TRSC58_00002</td>\n",
       "      <td>TRSC58_00002</td>\n",
       "      <td>TRSC58_00002</td>\n",
       "      <td>A0A061JBD6</td>\n",
       "    </tr>\n",
       "    <tr>\n",
       "      <th>2</th>\n",
       "      <td>OG6_102428</td>\n",
       "      <td>TRSC58_00003</td>\n",
       "      <td>TRSC58_00003</td>\n",
       "      <td>TRSC58_00003</td>\n",
       "      <td>A0A061J9W1</td>\n",
       "    </tr>\n",
       "    <tr>\n",
       "      <th>3</th>\n",
       "      <td>OG6_173740</td>\n",
       "      <td>TRSC58_00004</td>\n",
       "      <td>TRSC58_00004</td>\n",
       "      <td>TRSC58_00004</td>\n",
       "      <td>A0A422P470</td>\n",
       "    </tr>\n",
       "    <tr>\n",
       "      <th>4</th>\n",
       "      <td>OG6_101177</td>\n",
       "      <td>TRSC58_00005</td>\n",
       "      <td>TRSC58_00005</td>\n",
       "      <td>TRSC58_00005</td>\n",
       "      <td>A0A422P430</td>\n",
       "    </tr>\n",
       "    <tr>\n",
       "      <th>...</th>\n",
       "      <td>...</td>\n",
       "      <td>...</td>\n",
       "      <td>...</td>\n",
       "      <td>...</td>\n",
       "      <td>...</td>\n",
       "    </tr>\n",
       "    <tr>\n",
       "      <th>679277</th>\n",
       "      <td>OG6r16_116704</td>\n",
       "      <td>ECC02_013901</td>\n",
       "      <td>ECC02_013901</td>\n",
       "      <td>ECC02_013901</td>\n",
       "      <td>A0A7J6XI59</td>\n",
       "    </tr>\n",
       "    <tr>\n",
       "      <th>679278</th>\n",
       "      <td>OG6r16_512134</td>\n",
       "      <td>ECC02_013902</td>\n",
       "      <td>ECC02_013223</td>\n",
       "      <td>ECC02_013902</td>\n",
       "      <td>A0A7J6XIE3</td>\n",
       "    </tr>\n",
       "    <tr>\n",
       "      <th>679279</th>\n",
       "      <td>OG6r16_113493</td>\n",
       "      <td>ECC02_013903</td>\n",
       "      <td>ECC02_013903</td>\n",
       "      <td>ECC02_013903</td>\n",
       "      <td>A0A7J6XFY9</td>\n",
       "    </tr>\n",
       "    <tr>\n",
       "      <th>679280</th>\n",
       "      <td>OG6_100667</td>\n",
       "      <td>ECC02_013904</td>\n",
       "      <td>C4B63_292g20</td>\n",
       "      <td>ECC02_013904</td>\n",
       "      <td>A0A2V2ULS9</td>\n",
       "    </tr>\n",
       "    <tr>\n",
       "      <th>679281</th>\n",
       "      <td>OG6_106768</td>\n",
       "      <td>ECC02_013905</td>\n",
       "      <td>ECC02_012047</td>\n",
       "      <td>ECC02_013905</td>\n",
       "      <td>A0A7J6XLY3</td>\n",
       "    </tr>\n",
       "  </tbody>\n",
       "</table>\n",
       "<p>679282 rows × 5 columns</p>\n",
       "</div>"
      ],
      "text/plain": [
       "       Ortholog_Group       Gene ID cluster_representer cluster_member  \\\n",
       "0          OG6_158218  TRSC58_00001        TRSC58_00001   TRSC58_00001   \n",
       "1          OG6_100831  TRSC58_00002        TRSC58_00002   TRSC58_00002   \n",
       "2          OG6_102428  TRSC58_00003        TRSC58_00003   TRSC58_00003   \n",
       "3          OG6_173740  TRSC58_00004        TRSC58_00004   TRSC58_00004   \n",
       "4          OG6_101177  TRSC58_00005        TRSC58_00005   TRSC58_00005   \n",
       "...               ...           ...                 ...            ...   \n",
       "679277  OG6r16_116704  ECC02_013901        ECC02_013901   ECC02_013901   \n",
       "679278  OG6r16_512134  ECC02_013902        ECC02_013223   ECC02_013902   \n",
       "679279  OG6r16_113493  ECC02_013903        ECC02_013903   ECC02_013903   \n",
       "679280     OG6_100667  ECC02_013904        C4B63_292g20   ECC02_013904   \n",
       "679281     OG6_106768  ECC02_013905        ECC02_012047   ECC02_013905   \n",
       "\n",
       "           uniprot  \n",
       "0       A0A422P0W0  \n",
       "1       A0A061JBD6  \n",
       "2       A0A061J9W1  \n",
       "3       A0A422P470  \n",
       "4       A0A422P430  \n",
       "...            ...  \n",
       "679277  A0A7J6XI59  \n",
       "679278  A0A7J6XIE3  \n",
       "679279  A0A7J6XFY9  \n",
       "679280  A0A2V2ULS9  \n",
       "679281  A0A7J6XLY3  \n",
       "\n",
       "[679282 rows x 5 columns]"
      ]
     },
     "execution_count": 83,
     "metadata": {},
     "output_type": "execute_result"
    }
   ],
   "source": [
    "df_orthologG_plus_structure.to_csv('')"
   ]
  },
  {
   "cell_type": "code",
   "execution_count": null,
   "id": "03cfe653-063c-4ecc-9295-18179e6a09eb",
   "metadata": {},
   "outputs": [],
   "source": []
  }
 ],
 "metadata": {
  "kernelspec": {
   "display_name": "Python 3 (ipykernel)",
   "language": "python",
   "name": "python3"
  },
  "language_info": {
   "codemirror_mode": {
    "name": "ipython",
    "version": 3
   },
   "file_extension": ".py",
   "mimetype": "text/x-python",
   "name": "python",
   "nbconvert_exporter": "python",
   "pygments_lexer": "ipython3",
   "version": "3.8.8"
  }
 },
 "nbformat": 4,
 "nbformat_minor": 5
}
