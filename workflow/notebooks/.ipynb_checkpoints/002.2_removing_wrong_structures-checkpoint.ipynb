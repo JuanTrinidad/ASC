{
 "cells": [
  {
   "cell_type": "code",
   "execution_count": 34,
   "id": "2eb18373-9c6c-4dae-8c93-c44f93f28433",
   "metadata": {},
   "outputs": [],
   "source": [
    "import pandas as pd\n",
    "from Bio import SeqIO\n",
    "from Bio import pairwise2\n",
    "from Bio.PDB import *\n",
    "import multiprocessing\n",
    "import glob"
   ]
  },
  {
   "cell_type": "code",
   "execution_count": 62,
   "id": "bbdbcfcb-e048-421b-9927-2dce3eaee6c4",
   "metadata": {},
   "outputs": [],
   "source": [
    "#snakemake.input.fh_to_uniprot\n",
    "\n",
    "df_fasta_header_to_uniprot = pd.read_csv(snakemake.input.fh_to_uniprot, \n",
    "                                         sep='\\t', \n",
    "                                         names=['gene_name', 'UNIPROT_accession'])"
   ]
  },
  {
   "cell_type": "code",
   "execution_count": 63,
   "id": "5968d23b-81d8-4c26-a7fe-68623df1382c",
   "metadata": {
    "tags": []
   },
   "outputs": [],
   "source": [
    "list_for_df = []\n",
    "for file in glob.glob('genome_data_sets/query_proteomes/pdb_files/prot_structure_download_from_AlphaFoldDB/AF*.pdb'):\n",
    "    \n",
    "    uniprot_accession = file.split('/')[-1].split('-')[1]\n",
    "    \n",
    "    list_for_df.append([file, uniprot_accession])\n",
    "    \n",
    "df_available_structures = pd.DataFrame(list_for_df, columns=['file_path', 'UNIPROT_accession'])"
   ]
  },
  {
   "cell_type": "code",
   "execution_count": 64,
   "id": "84a52a14-ac36-4dae-88fc-46e69018031c",
   "metadata": {},
   "outputs": [],
   "source": [
    "df_fasta_header_to_uniprot = df_fasta_header_to_uniprot.merge(df_available_structures, how='inner')"
   ]
  },
  {
   "cell_type": "code",
   "execution_count": null,
   "id": "2f2521ad-a56a-4304-b90f-ccd26224c6c0",
   "metadata": {},
   "outputs": [],
   "source": []
  },
  {
   "cell_type": "code",
   "execution_count": 65,
   "id": "85b743b2-2bbb-47d3-b1a6-fb95101fc898",
   "metadata": {
    "tags": []
   },
   "outputs": [],
   "source": [
    "genID_aaSequence = []\n",
    "#'../genome_data_sets/query_proteomes/fasta_files/TriTrypDB-63_All_species_clean.fa'\n",
    "#snakemake.input.fasta_query_db\n",
    "with open( snakemake.input.fasta_query_db , 'r') as fasta_file:\n",
    "\n",
    "\n",
    "    for record in SeqIO.parse(fasta_file, \"fasta\"):\n",
    "        genID_aaSequence.append([record.id, record.seq])\n",
    "\n"
   ]
  },
  {
   "cell_type": "code",
   "execution_count": 66,
   "id": "acd158ad-ff5e-4014-987d-24362a54e8c5",
   "metadata": {
    "tags": []
   },
   "outputs": [],
   "source": [
    "\n",
    "df1 = pd.DataFrame(genID_aaSequence, columns=['gene_name', 'sequence'])\n",
    "\n",
    "df_allinfo = df_fasta_header_to_uniprot.merge(df1, left_on='gene_name', right_on='gene_name', how='left').dropna()"
   ]
  },
  {
   "cell_type": "code",
   "execution_count": 67,
   "id": "cc4793ca-8ad0-4d55-8f2b-4a5c1c38e93d",
   "metadata": {},
   "outputs": [],
   "source": [
    "df_allinfo_aslist = df_allinfo.to_numpy().tolist()"
   ]
  },
  {
   "cell_type": "code",
   "execution_count": 72,
   "id": "2d90ce9b-622e-46fa-941a-274b5c2fa49e",
   "metadata": {},
   "outputs": [],
   "source": [
    "def align_fasta_sequence(parameters_list):\n",
    "    \"\"\"Aligns a FASTA sequence against a PDB or CIFF file.\n",
    "\n",
    "    Args:\n",
    "    fasta_sequence: The FASTA sequence to align.\n",
    "    pdb_file: The PDB or CIFF file to align against.\n",
    "\n",
    "    Returns:\n",
    "    The alignment of the FASTA sequence against the PDB or CIFF file.\n",
    "    \"\"\"\n",
    "\n",
    "    \n",
    "    pdb_file = parameters_list[2]\n",
    "    fasta_sequence = parameters_list[3]\n",
    "\n",
    "    \n",
    "    p = PDBParser()\n",
    "    structure = p.get_structure(\"XXX\", pdb_file)\n",
    "    ppb=PPBuilder()\n",
    "    PDBsequence = ppb.build_peptides(structure)[0].get_sequence()\n",
    "    \n",
    "    len_fasta_seq = len(fasta_sequence)\n",
    "    len_PDBsequence = len(PDBsequence)\n",
    "    \n",
    "    if len_fasta_seq == len_PDBsequence:\n",
    "        \n",
    "        score = len_fasta_seq\n",
    "    \n",
    "    else:\n",
    "        alignment = pairwise2.align.globalxx(fasta_sequence, PDBsequence)\n",
    "        score = alignment[0].score\n",
    "    \n",
    "    return [parameters_list[0], parameters_list[1], score, len_fasta_seq, len_PDBsequence]\n",
    "\n",
    "\n",
    "def align_fasta_sequence_parallel(num_threads):\n",
    "    \n",
    "    # Create a pool of processes.\n",
    "    pool = multiprocessing.Pool(num_threads) \n",
    "\n",
    "\n",
    "    # Map the extract_values function to each file name in the list.\n",
    "    results = pool.map(align_fasta_sequence, df_allinfo_aslist)\n",
    "    \n",
    "    # Close the pool.\n",
    "    pool.close()\n",
    "    pool.join()    \n",
    "    \n",
    "    return results"
   ]
  },
  {
   "cell_type": "code",
   "execution_count": null,
   "id": "b057b9cb-a158-40a6-80e1-fe35b51e79c2",
   "metadata": {},
   "outputs": [],
   "source": []
  },
  {
   "cell_type": "code",
   "execution_count": null,
   "id": "b8a1fc78-296e-498c-8e3f-a34e9b64ccd7",
   "metadata": {},
   "outputs": [],
   "source": []
  },
  {
   "cell_type": "code",
   "execution_count": 8,
   "id": "dfdc8ebb-8409-41af-b885-2d54a4a9dd6e",
   "metadata": {
    "tags": []
   },
   "outputs": [
    {
     "name": "stdout",
     "output_type": "stream",
     "text": [
      "CPU times: user 4.71 s, sys: 2.31 s, total: 7.01 s\n",
      "Wall time: 1h 25min 32s\n"
     ]
    }
   ],
   "source": [
    "salida = align_fasta_sequence_parallel(snakemake.threads)"
   ]
  },
  {
   "cell_type": "code",
   "execution_count": null,
   "id": "7bedac45-89d8-49a8-9406-3546588e986e",
   "metadata": {},
   "outputs": [],
   "source": []
  },
  {
   "cell_type": "code",
   "execution_count": 9,
   "id": "b3c5b360-9812-4c78-8e9c-8fa2a690738a",
   "metadata": {},
   "outputs": [],
   "source": [
    "df = pd.DataFrame(salida, columns=['genID', 'UNIPROT', 'score', 'len_fasta', 'lenPDB'])\n",
    "\n",
    "df.to_csv(snakemake.output[0], sep='\\t', index=None)\n",
    "\n",
    "#'../tmp/sequence_comparison_between_fasta_and_downloadedPDBfile.tsv'"
   ]
  },
  {
   "cell_type": "code",
   "execution_count": null,
   "id": "02e14635-f0c1-45d1-bf76-c5094c6a3216",
   "metadata": {},
   "outputs": [],
   "source": []
  }
 ],
 "metadata": {
  "kernelspec": {
   "display_name": "Python 3 (ipykernel)",
   "language": "python",
   "name": "python3"
  },
  "language_info": {
   "codemirror_mode": {
    "name": "ipython",
    "version": 3
   },
   "file_extension": ".py",
   "mimetype": "text/x-python",
   "name": "python",
   "nbconvert_exporter": "python",
   "pygments_lexer": "ipython3",
   "version": "3.8.8"
  }
 },
 "nbformat": 4,
 "nbformat_minor": 5
}
