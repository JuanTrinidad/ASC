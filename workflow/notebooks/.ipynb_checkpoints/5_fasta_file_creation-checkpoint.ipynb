{
 "cells": [
  {
   "cell_type": "code",
   "execution_count": 33,
   "id": "4d24d9af-40ad-4738-904c-6a0289a214ab",
   "metadata": {},
   "outputs": [],
   "source": [
    "import pandas as pd\n",
    "from Bio import SeqIO\n",
    "import os"
   ]
  },
  {
   "cell_type": "code",
   "execution_count": null,
   "id": "eab785b0-9a17-488a-a3ee-5d684f4b82e0",
   "metadata": {},
   "outputs": [],
   "source": []
  },
  {
   "cell_type": "code",
   "execution_count": 24,
   "id": "3d3741d7-4a15-43cf-82bd-bd985b2b5af0",
   "metadata": {
    "tags": []
   },
   "outputs": [],
   "source": [
    "#funtion to search into fasta file and create cluster fasta files\n",
    "\n",
    "def looking_in_fasta_file(name_geid_list, dest_dir, name, original_fasta_file):\n",
    "\n",
    "    with open(original_fasta_file, \"r\") as input_file:\n",
    "        \n",
    "        #dest_dir = '../../tmp/report_files/sequences_to_be_modelated/'\n",
    "        \n",
    "        \n",
    "        if not os.path.exists(dest_dir):\n",
    "            os.makedirs(dest_dir)\n",
    "            \n",
    "        with open(name, \"w\") as output_file:\n",
    "\n",
    "            for record in SeqIO.parse(input_file, \"fasta\"):\n",
    "\n",
    "                if record.id in name_geid_list:\n",
    "\n",
    "                    SeqIO.write(record, output_file, \"fasta\")"
   ]
  },
  {
   "cell_type": "markdown",
   "id": "7362a5f0-6f23-4e10-9f9f-bddcf8ca59a6",
   "metadata": {},
   "source": [
    "## file import "
   ]
  },
  {
   "cell_type": "markdown",
   "id": "24cbe96a-5ce2-4e97-a5d0-3623ef462599",
   "metadata": {},
   "source": [
    "fasta_file_input = '../genome_data_sets/query_proteomes/fasta_files/TriTrypDB-63_All_species_clean.fa'\n",
    "report_ortho_g = '../report_files/ortholog_groups_x_sequence_clustering_x_UNIPROT.tsv'\n",
    "ortho_info = '../mandatory_files/Ortholog_group_to_geneID.tsv'\n",
    "output_fasta_file = 'algo.fasta'\n",
    "ortho_group_size = 1"
   ]
  },
  {
   "cell_type": "code",
   "execution_count": null,
   "id": "8e4f0ab8-1034-4426-add0-47db322678ce",
   "metadata": {},
   "outputs": [],
   "source": [
    "\n",
    "fasta_file_input = snakemake.input.original_fasta\n",
    "report_ortho_g = snakemake.input.report_ortho_g\n",
    "ortho_info = snakemake.input.ortho_info\n",
    "\n",
    "\n",
    "output_fasta_file = snakemake.output.output_fasta_file\n",
    "ortho_group_size = snakemake.params.OG_size\n",
    "\n"
   ]
  },
  {
   "cell_type": "markdown",
   "id": "c20bdb29-2a8d-46de-a9bb-07701430d654",
   "metadata": {},
   "source": [
    "## creating df "
   ]
  },
  {
   "cell_type": "code",
   "execution_count": 26,
   "id": "eac98e57-8ad7-42ca-9e59-4de693f1fcd9",
   "metadata": {},
   "outputs": [],
   "source": [
    "df_OGSCU = pd.read_csv(report_ortho_g, \n",
    "            sep='\\t')"
   ]
  },
  {
   "cell_type": "code",
   "execution_count": 27,
   "id": "95cb689e-b1a3-48f1-ac47-a735f0d60745",
   "metadata": {},
   "outputs": [],
   "source": [
    "df_Oinfo = pd.read_csv(ortho_info, \n",
    "            sep='\\t', \n",
    "            header=None, \n",
    "            names= ['OG','geneID'])"
   ]
  },
  {
   "cell_type": "code",
   "execution_count": 28,
   "id": "932cafff-1e58-4056-9e2e-bdf7caea1d47",
   "metadata": {},
   "outputs": [],
   "source": [
    "#clusters without uniprot accession in the report of downloaded structures from AFDB\n",
    "OG_nan = df_OGSCU[df_OGSCU['uniprot'].isna()].Ortholog_Group.unique()"
   ]
  },
  {
   "cell_type": "code",
   "execution_count": 29,
   "id": "6e677cfe-aed0-4db9-b897-9916752ea8ca",
   "metadata": {},
   "outputs": [],
   "source": [
    "#from those count amount of times as proxi of cluster members\n",
    "df_count = df_Oinfo[df_Oinfo.OG.isin(OG_nan)].value_counts('OG')"
   ]
  },
  {
   "cell_type": "code",
   "execution_count": 30,
   "id": "7363ad6a-41b2-4b57-b9d7-07be31e4445f",
   "metadata": {},
   "outputs": [],
   "source": [
    "#selecting the cluster member size to filter before creting fasta file\n",
    "df_count_gt = df_count[df_count.gt(ortho_group_size)]"
   ]
  },
  {
   "cell_type": "code",
   "execution_count": 31,
   "id": "e476e12b-a3b1-49b7-943d-ed5564166a27",
   "metadata": {
    "tags": []
   },
   "outputs": [],
   "source": [
    "#creating the list of gene ID to extract from fasta\n",
    "df_Oinfo_cluster_of_interest = df_Oinfo[df_Oinfo.OG.isin(df_count_gt.index)]['geneID'].unique()"
   ]
  },
  {
   "cell_type": "code",
   "execution_count": 34,
   "id": "23a8ce3e-2279-45a4-9530-b382db2b58cb",
   "metadata": {},
   "outputs": [],
   "source": [
    "\n",
    "#creating fasta file\n",
    "looking_in_fasta_file(df_Oinfo_cluster_of_interest, 'report_files/fasta_files/', output_fasta_file, fasta_file_input)"
   ]
  },
  {
   "cell_type": "code",
   "execution_count": null,
   "id": "89eee98e-ea75-47ce-b4d9-e95dd453c5c3",
   "metadata": {},
   "outputs": [],
   "source": []
  }
 ],
 "metadata": {
  "kernelspec": {
   "display_name": "Python 3 (ipykernel)",
   "language": "python",
   "name": "python3"
  },
  "language_info": {
   "codemirror_mode": {
    "name": "ipython",
    "version": 3
   },
   "file_extension": ".py",
   "mimetype": "text/x-python",
   "name": "python",
   "nbconvert_exporter": "python",
   "pygments_lexer": "ipython3",
   "version": "3.8.8"
  }
 },
 "nbformat": 4,
 "nbformat_minor": 5
}
