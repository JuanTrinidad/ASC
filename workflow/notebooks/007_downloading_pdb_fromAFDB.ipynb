{
 "cells": [
  {
   "cell_type": "code",
   "execution_count": 31,
   "metadata": {},
   "outputs": [],
   "source": [
    "import pandas as pd\n",
    "import os\n",
    "import warnings\n",
    "warnings.simplefilter(action='ignore', category=FutureWarning)\n",
    "#pd.set_option('display.max_columns', 500)\n",
    "\n",
    "import shutil\n",
    "import multiprocessing\n",
    "\n",
    "import concurrent.futures\n",
    "import requests"
   ]
  },
  {
   "cell_type": "code",
   "execution_count": null,
   "metadata": {},
   "outputs": [],
   "source": [
    "file1 = snakemake.input.file1 #'../../results/reciprocal_best_hit_SingleOrgApproach_TSV/rbh_all_in_one_file.tsv'\n",
    "\n",
    "outputfilepath = snakemake.output.tsv_to_match_pdbs_names\n",
    "\n",
    "# destination directory\n",
    "destination_dir = snakemake.params.destination_dir\n",
    "# cluster_structure_representers path\n",
    "cluster_str_rep_path = 'genome_data_sets/query_proteomes/pdb_files/cluster_structure_representers/'\n",
    "#path to model unziped\n",
    "path_to_model_unzip = 'genome_data_sets/subject_proteomes/pdb_files/model_organisms_files_unzip/'\n",
    "#cores\n",
    "num_cores = snakemake.threads\n",
    "#top hits\n",
    "top_hits = snakemake.params.top_hits\n",
    "#prefix added pdbs\n",
    "prefix = snakemake.params.prefix_of_added_pdbs"
   ]
  },
  {
   "cell_type": "code",
   "execution_count": null,
   "metadata": {},
   "outputs": [],
   "source": [
    "#removing and creating destination dir\n",
    "\n",
    "if os.path.exists(destination_dir):\n",
    "    shutil.rmtree(destination_dir)\n",
    "os.makedirs(destination_dir)"
   ]
  },
  {
   "cell_type": "code",
   "execution_count": 33,
   "metadata": {},
   "outputs": [],
   "source": [
    "#RBH results\n",
    "df_rbh = pd.read_csv(file1, sep='\\t', index_col=0)"
   ]
  },
  {
   "cell_type": "code",
   "execution_count": 34,
   "metadata": {},
   "outputs": [],
   "source": [
    "\n",
    "df_rbh = df_rbh.drop_duplicates(subset=['query_uniprot_accession', 'target_uniprot_accession'])\n"
   ]
  },
  {
   "cell_type": "code",
   "execution_count": 35,
   "metadata": {},
   "outputs": [],
   "source": [
    "df_rbh_top_hits = (\n",
    "    df_rbh\n",
    "    .sort_values('evalue')\n",
    "    .groupby('query')\n",
    "    .head(top_hits)\n",
    "    \n",
    ")"
   ]
  },
  {
   "cell_type": "code",
   "execution_count": 36,
   "metadata": {},
   "outputs": [],
   "source": [
    "#simplifiying names of pdb files\n",
    "df_rbh_top_hits['new_simple_name'] =  (\n",
    "\n",
    "    df_rbh_top_hits['query_uniprot_accession']\n",
    "    .str.replace(prefix,'')\n",
    "    .str.split('_', expand=True)[0]\n",
    "    .str.replace('.','')\n",
    "    + '.pdb'\n",
    ")"
   ]
  },
  {
   "cell_type": "markdown",
   "metadata": {},
   "source": [
    "### creating path to copy query structures and simplify file name"
   ]
  },
  {
   "cell_type": "code",
   "execution_count": 37,
   "metadata": {},
   "outputs": [],
   "source": [
    "#dropping duplicates\n",
    "df_rbh_km_tophits_to_move_files = df_rbh_top_hits[['query', 'query_uniprot_accession', 'new_simple_name']].drop_duplicates()\n",
    "#adding path to file\n",
    "df_rbh_km_tophits_to_move_files['path_to_file'] = cluster_str_rep_path + df_rbh_km_tophits_to_move_files['query']\n",
    "#creating the list of tuples\n",
    "files_list = list(zip(df_rbh_km_tophits_to_move_files.path_to_file, df_rbh_km_tophits_to_move_files.new_simple_name))"
   ]
  },
  {
   "cell_type": "code",
   "execution_count": 38,
   "metadata": {},
   "outputs": [],
   "source": [
    "def copy_file(file, destination_dir):\n",
    "    \"\"\"Copy a file to a destination directory.\"\"\"\n",
    "    file_path, new_name = file\n",
    "    shutil.copy(file_path, os.path.join(destination_dir, new_name))\n",
    "\n",
    "\n",
    "def copy_files(files, destination_dir, num_cores=4):\n",
    "    \"\"\"Copy a list of files to a destination directory in parallel.\"\"\"\n",
    "    if os.path.exists(destination_dir):\n",
    "        shutil.rmtree(destination_dir)\n",
    "    os.makedirs(destination_dir)\n",
    "    with multiprocessing.Pool(num_cores) as pool:\n",
    "        pool.starmap(copy_file, [(file, destination_dir) for file in files])"
   ]
  },
  {
   "cell_type": "code",
   "execution_count": 39,
   "metadata": {},
   "outputs": [],
   "source": [
    "# copy the files to the destination directory in parallel\n",
    "copy_files(files_list, destination_dir, num_cores= num_cores)"
   ]
  },
  {
   "cell_type": "markdown",
   "metadata": {},
   "source": [
    "## Downloading target structures from AFDB"
   ]
  },
  {
   "cell_type": "code",
   "execution_count": 40,
   "metadata": {},
   "outputs": [],
   "source": [
    "\n",
    "#avoid downloading cif files because they are not compatible with fatcat\n",
    "\n",
    "structures_to_download = [ 'https://alphafold.ebi.ac.uk/files/' + structure.replace('.gz','').replace('.cif', '.pdb') for structure in df_rbh_top_hits.target.unique()]"
   ]
  },
  {
   "cell_type": "code",
   "execution_count": 41,
   "metadata": {},
   "outputs": [
    {
     "name": "stdout",
     "output_type": "stream",
     "text": [
      "Downloading from AFDB structures:\n"
     ]
    }
   ],
   "source": [
    "#this will load all result in the ram and after that write it in a file. For large dataset can be a problem. \n",
    "print('Downloading from AFDB structures:')\n",
    "\n",
    "def download_files(links, num_cores):\n",
    "    with concurrent.futures.ThreadPoolExecutor(max_workers=num_cores) as executor:\n",
    "        # Submit download tasks to the executor\n",
    "        futures = [executor.submit(requests.get, link) for link in links]\n",
    "        \n",
    "        # Wait for the tasks to complete and retrieve the responses\n",
    "        responses = [future.result() for future in concurrent.futures.as_completed(futures)]\n",
    "        \n",
    "        # Save the downloaded files\n",
    "        for i, response in enumerate(responses):\n",
    "            if response.status_code == 200:\n",
    "                # Extract the filename from the link\n",
    "                filename = destination_dir + links[i].split('/')[-1].split('-')[1] + '.pdb'\n",
    "                with open(filename, 'wb') as file:\n",
    "                    file.write(response.content)\n",
    "                    print(f'Downloaded {filename}')\n",
    "            else:\n",
    "                print(f'Failed to download file_{i}.txt')\n",
    "\n",
    "\n",
    "\n",
    "download_files(structures_to_download, num_cores)\n"
   ]
  },
  {
   "cell_type": "code",
   "execution_count": null,
   "metadata": {},
   "outputs": [],
   "source": [
    "def creating_file_OLD_NEW_names(df, outputfilepath):\n",
    "    df['new_simple_name'] = df['new_simple_name'].str.split('.', expand=True)[0]\n",
    "    df.sort_values('new_simple_name', inplace=True)\n",
    "\n",
    "    df[['query','target', 'new_simple_name', 'target_uniprot_accession']].to_csv(outputfilepath, sep='\\t', index=False)\n",
    "    \n",
    "    \n",
    "creating_file_OLD_NEW_names(df_rbh_top_hits, outputfilepath)"
   ]
  },
  {
   "cell_type": "code",
   "execution_count": null,
   "metadata": {},
   "outputs": [],
   "source": []
  }
 ],
 "metadata": {
  "kernelspec": {
   "display_name": "base",
   "language": "python",
   "name": "python3"
  },
  "language_info": {
   "codemirror_mode": {
    "name": "ipython",
    "version": 3
   },
   "file_extension": ".py",
   "mimetype": "text/x-python",
   "name": "python",
   "nbconvert_exporter": "python",
   "pygments_lexer": "ipython3",
   "version": "3.8.8"
  }
 },
 "nbformat": 4,
 "nbformat_minor": 2
}
