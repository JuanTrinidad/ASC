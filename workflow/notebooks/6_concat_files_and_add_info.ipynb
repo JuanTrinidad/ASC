{
 "cells": [
  {
   "cell_type": "code",
   "execution_count": null,
   "id": "061ec974-5d8e-439a-bf1c-da965c6d3c66",
   "metadata": {},
   "outputs": [],
   "source": []
  },
  {
   "cell_type": "code",
   "execution_count": 99,
   "id": "cd465243-930d-40a9-aed3-b07e7fc58854",
   "metadata": {},
   "outputs": [],
   "source": [
    "import pandas as pd"
   ]
  },
  {
   "cell_type": "markdown",
   "id": "4baaa0ab-58fc-4398-b697-9c7e15c2db80",
   "metadata": {},
   "source": [
    "## funtion for pipe "
   ]
  },
  {
   "cell_type": "code",
   "execution_count": 100,
   "id": "776b5804-b8a0-4061-bfef-b5ff7cc0ac8d",
   "metadata": {},
   "outputs": [],
   "source": [
    "\n",
    "def get_only_uniprot_accession(df, colname):\n",
    "    \n",
    "    colname_out = colname + '_uniprot_accession'\n",
    "    \n",
    "    df[colname_out] = df[colname].str.split('-', expand=True)[1]\n",
    "    \n",
    "    return df\n",
    "\n",
    "\n",
    "def calc_coverage(df, which_one ,start, end, lenght):\n",
    "    \n",
    "    col_name = 'COV_' + which_one\n",
    "    \n",
    "    df[col_name] = (df.loc[: , end] - df.loc[: , start]) / df.loc[: , lenght]\n",
    "    \n",
    "    df[col_name] = df[col_name].round(2)\n",
    "    \n",
    "    return df"
   ]
  },
  {
   "cell_type": "markdown",
   "id": "3ee0bab6-2dd4-46a7-9b5f-2cef2966af51",
   "metadata": {},
   "source": [
    "## concatenating all tsv data frames "
   ]
  },
  {
   "cell_type": "code",
   "execution_count": 101,
   "id": "8bd7b75a-e199-4b8f-b087-38e135f9c840",
   "metadata": {},
   "outputs": [],
   "source": [
    "list_of_df = []\n",
    "for file in snakemake.input:\n",
    "    \n",
    "    df = pd.read_csv(file, sep='\\t', names=['query','target','alnlen','fident', 'evalue', 'qstart','qend', 'qlen','tstart','tend','tlen','aligmentinfo'])\n",
    "    \n",
    "    #info from file name\n",
    "    info = file.split('_')[-4:-1]\n",
    "    df['proteome'] = info[0]\n",
    "    df['spp'] = info[-1]\n",
    "    \n",
    "    #appending_list\n",
    "    list_of_df.append(df)\n",
    "    #print(file)"
   ]
  },
  {
   "cell_type": "code",
   "execution_count": 102,
   "id": "0fc45860-511d-4371-968b-5ff524219529",
   "metadata": {},
   "outputs": [],
   "source": [
    "df = pd.concat(list_of_df)"
   ]
  },
  {
   "cell_type": "code",
   "execution_count": 106,
   "id": "00384519-893e-4208-af9a-acc138160a67",
   "metadata": {},
   "outputs": [
    {
     "name": "stdout",
     "output_type": "stream",
     "text": [
      "(188308, 18)\n",
      "(118739, 18)\n"
     ]
    }
   ],
   "source": [
    "df = (df\n",
    " .pipe(get_only_uniprot_accession, 'query')\n",
    " .pipe(get_only_uniprot_accession, 'target')\n",
    " .pipe(calc_coverage, 'query', 'qstart', 'qend','qlen')\n",
    " .pipe(calc_coverage, 'target', 'tstart', 'tend','tlen'))"
   ]
  },
  {
   "cell_type": "code",
   "execution_count": null,
   "id": "9b936672-7d70-4cbf-8def-954ea0ce242e",
   "metadata": {},
   "outputs": [],
   "source": [
    "df.to_csv(snakemake.output[0], sep='\\t')"
   ]
  }
 ],
 "metadata": {
  "kernelspec": {
   "display_name": "Python 3 (ipykernel)",
   "language": "python",
   "name": "python3"
  },
  "language_info": {
   "codemirror_mode": {
    "name": "ipython",
    "version": 3
   },
   "file_extension": ".py",
   "mimetype": "text/x-python",
   "name": "python",
   "nbconvert_exporter": "python",
   "pygments_lexer": "ipython3",
   "version": "3.8.8"
  }
 },
 "nbformat": 4,
 "nbformat_minor": 5
}
