{
 "cells": [
  {
   "cell_type": "code",
   "execution_count": 20,
   "metadata": {},
   "outputs": [],
   "source": [
    "import pandas as pd"
   ]
  },
  {
   "cell_type": "code",
   "execution_count": 21,
   "metadata": {},
   "outputs": [],
   "source": [
    "df_clusters_40id = pd.read_csv('../tmp/prueba_mmseq/prueba_40id_80cov_e5eval_clusermode1.tsv', sep='\\t', header=None)\n",
    "df_clusters_1e5eval = pd.read_csv('../tmp/prueba_mmseq/prueba_80cov_e5eval_clusermode1.tsv', sep='\\t', header=None)\n",
    "df_clusters_50id = pd.read_csv('../tmp/prueba_mmseq/prueba_50id_80cov_e5eval_clusermode1.tsv', sep='\\t', header=None)\n",
    "\n",
    "\n",
    "\n",
    "df_clusters_40id_cm0 = pd.read_csv('../tmp/prueba_mmseq/prueba_40id_80cov_e5eval_clusermode0.tsv', sep='\\t', header=None)\n"
   ]
  },
  {
   "cell_type": "code",
   "execution_count": null,
   "metadata": {},
   "outputs": [],
   "source": []
  },
  {
   "cell_type": "code",
   "execution_count": 22,
   "metadata": {},
   "outputs": [],
   "source": [
    "def calculate_value_counts(df):\n",
    "    value_counts = df[0].value_counts()\n",
    "    df['Value Counts'] = df[0].map(value_counts)\n",
    "    return df\n"
   ]
  },
  {
   "cell_type": "code",
   "execution_count": 23,
   "metadata": {},
   "outputs": [],
   "source": [
    "df_clusters_40id = df_clusters_40id.pipe(calculate_value_counts)\n",
    "df_clusters_1e5eval = df_clusters_1e5eval.pipe(calculate_value_counts)\n",
    "df_clusters_40id_cm0 = df_clusters_40id_cm0.pipe(calculate_value_counts)\n",
    "df_clusters_50id = df_clusters_50id.pipe(calculate_value_counts)\n"
   ]
  },
  {
   "cell_type": "code",
   "execution_count": 24,
   "metadata": {},
   "outputs": [
    {
     "data": {
      "text/plain": [
       "13453"
      ]
     },
     "execution_count": 24,
     "metadata": {},
     "output_type": "execute_result"
    }
   ],
   "source": [
    "df_clusters_40id[df_clusters_40id['Value Counts'] >= 10][0].nunique()   "
   ]
  },
  {
   "cell_type": "code",
   "execution_count": 25,
   "metadata": {},
   "outputs": [
    {
     "data": {
      "text/plain": [
       "11363"
      ]
     },
     "execution_count": 25,
     "metadata": {},
     "output_type": "execute_result"
    }
   ],
   "source": [
    "df_clusters_1e5eval[df_clusters_1e5eval['Value Counts'] >= 10][0].nunique()"
   ]
  },
  {
   "cell_type": "code",
   "execution_count": 27,
   "metadata": {},
   "outputs": [
    {
     "data": {
      "text/plain": [
       "14498"
      ]
     },
     "execution_count": 27,
     "metadata": {},
     "output_type": "execute_result"
    }
   ],
   "source": [
    "df_clusters_40id_cm0[df_clusters_40id_cm0['Value Counts'] >= 10][0].nunique()"
   ]
  },
  {
   "cell_type": "code",
   "execution_count": 31,
   "metadata": {},
   "outputs": [
    {
     "data": {
      "text/plain": [
       "14779"
      ]
     },
     "execution_count": 31,
     "metadata": {},
     "output_type": "execute_result"
    }
   ],
   "source": [
    "df_clusters_50id[df_clusters_50id['Value Counts'] >= 10][0].nunique()"
   ]
  }
 ],
 "metadata": {
  "kernelspec": {
   "display_name": "base",
   "language": "python",
   "name": "python3"
  },
  "language_info": {
   "codemirror_mode": {
    "name": "ipython",
    "version": 3
   },
   "file_extension": ".py",
   "mimetype": "text/x-python",
   "name": "python",
   "nbconvert_exporter": "python",
   "pygments_lexer": "ipython3",
   "version": "3.8.8"
  }
 },
 "nbformat": 4,
 "nbformat_minor": 2
}
