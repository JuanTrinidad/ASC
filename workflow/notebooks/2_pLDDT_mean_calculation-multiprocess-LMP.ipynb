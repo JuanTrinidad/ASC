{
 "cells": [
  {
   "cell_type": "code",
   "execution_count": 26,
   "id": "9040ad62-5328-4d0a-b4f0-50c87cb755e3",
   "metadata": {},
   "outputs": [],
   "source": [
    "import pandas as pd \n",
    "from Bio.PDB import *\n",
    "import argparse\n",
    "import glob\n",
    "import multiprocessing"
   ]
  },
  {
   "cell_type": "code",
   "execution_count": null,
   "id": "0722dedd-9260-416d-9205-c7523ed41271",
   "metadata": {},
   "outputs": [],
   "source": [
    "parser = argparse.ArgumentParser()\n",
    "\n",
    "parser.add_argument('--path_to_input_pdb_files', type=str, help='Directory containing pdb files')\n",
    "parser.add_argument('--output', type=argparse.FileType('w'), help='Path to output file')\n",
    "parser.add_argument('--threads', type=int, help='Number of threads INT')\n",
    "\n",
    "args = parser.parse_args()\n",
    "\n",
    "path = args.path_to_input_pdb_files\n",
    "output = args.output.name\n",
    "num_threads = args.threads"
   ]
  },
  {
   "cell_type": "markdown",
   "id": "838bf1ad-c9f6-4970-8bd1-0004aff3eefe",
   "metadata": {},
   "source": [
    "path = '../genome_data_sets/query_proteomes/pdb_files/locally_modelated_proteins'\n",
    "output = '../report/probandopLDDT.tsv'\n",
    "num_threads = 30"
   ]
  },
  {
   "cell_type": "code",
   "execution_count": 46,
   "id": "72f1dd47-bfa3-4a67-a615-e48247b41dfb",
   "metadata": {},
   "outputs": [
    {
     "name": "stdout",
     "output_type": "stream",
     "text": [
      "Calculating pLDDT mean of protein structures\n"
     ]
    }
   ],
   "source": [
    "print('Calculating pLDDT mean of protein structures')"
   ]
  },
  {
   "cell_type": "code",
   "execution_count": 47,
   "id": "b67d9729-2c54-4c20-bc52-26c370aa1522",
   "metadata": {},
   "outputs": [],
   "source": [
    "\n",
    "lista_archivos = glob.glob(f'{path}/*.pdb')\n"
   ]
  },
  {
   "cell_type": "code",
   "execution_count": 48,
   "id": "dde0a644-f27f-4164-9c4d-9a8d06f2ce36",
   "metadata": {},
   "outputs": [],
   "source": [
    "def Average(lst):\n",
    "    return round(sum(lst) / len(lst))"
   ]
  },
  {
   "cell_type": "code",
   "execution_count": 49,
   "id": "667a7858-697a-49c4-96db-290cbc8d8e52",
   "metadata": {
    "tags": []
   },
   "outputs": [],
   "source": [
    "\n",
    "\n",
    "#dict to storage data\n",
    "\n",
    "def extract_values_from_PDB_files(PDBfile):\n",
    "    \n",
    "    PDBparser = PDBParser(PERMISSIVE = True, QUIET = True)\n",
    "    \n",
    "    uniprot = PDBfile.split('/')[-1]\n",
    "    \n",
    "    uniprot = uniprot[:uniprot.find('_unrelaxed_rank_')]\n",
    "    \n",
    "    data = PDBparser.get_structure(uniprot, PDBfile)\n",
    "    \n",
    "    bfactor = []\n",
    "    \n",
    "    for atom in data.get_atoms():\n",
    "    \n",
    "        bfactor.append(atom.get_bfactor())\n",
    "    \n",
    "    return uniprot, Average(bfactor)"
   ]
  },
  {
   "cell_type": "code",
   "execution_count": 50,
   "id": "ac073414-1233-471b-842f-9c7521094dc0",
   "metadata": {},
   "outputs": [],
   "source": [
    "def main(num_threads):\n",
    "    # Get a list of all the file names.\n",
    "    file_names = lista_archivos\n",
    "\n",
    "    # Create a pool of processes.\n",
    "    pool = multiprocessing.Pool(num_threads)\n",
    "\n",
    "    # Map the extract_values function to each file name in the list.\n",
    "    results = pool.map(extract_values_from_PDB_files, file_names)\n",
    "\n",
    "    # Close the pool.\n",
    "    pool.close()\n",
    "    pool.join()\n",
    "\n",
    "    # Create a dictionary with the key and values from each file.\n",
    "    final_dictionary = {}\n",
    "    for key, value in results:\n",
    "        final_dictionary[key] = value\n",
    "\n",
    "    # return the final dictionary.\n",
    "    df_output = pd.DataFrame.from_dict(final_dictionary, orient='index')\n",
    "    df_output.to_csv(output, sep='\\t', header=None)\n",
    "    \n",
    "    print('All calculations done')"
   ]
  },
  {
   "cell_type": "code",
   "execution_count": null,
   "id": "9166510b-c98c-4483-9b91-af3730a3fcb5",
   "metadata": {},
   "outputs": [],
   "source": []
  },
  {
   "cell_type": "code",
   "execution_count": 51,
   "id": "92137704-c8cd-4bdc-8941-2f53acb41e92",
   "metadata": {},
   "outputs": [
    {
     "name": "stdout",
     "output_type": "stream",
     "text": [
      "All calculations done\n"
     ]
    }
   ],
   "source": [
    "if __name__ == \"__main__\":\n",
    "  main(num_threads)"
   ]
  },
  {
   "cell_type": "code",
   "execution_count": null,
   "id": "1e70a664-10a8-48c1-930d-64aa4fcbad29",
   "metadata": {},
   "outputs": [],
   "source": []
  }
 ],
 "metadata": {
  "kernelspec": {
   "display_name": "Python 3 (ipykernel)",
   "language": "python",
   "name": "python3"
  },
  "language_info": {
   "codemirror_mode": {
    "name": "ipython",
    "version": 3
   },
   "file_extension": ".py",
   "mimetype": "text/x-python",
   "name": "python",
   "nbconvert_exporter": "python",
   "pygments_lexer": "ipython3",
   "version": "3.8.8"
  }
 },
 "nbformat": 4,
 "nbformat_minor": 5
}
