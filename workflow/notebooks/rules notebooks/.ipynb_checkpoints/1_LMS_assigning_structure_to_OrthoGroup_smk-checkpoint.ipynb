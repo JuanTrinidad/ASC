{
 "cells": [
  {
   "cell_type": "code",
   "execution_count": 28,
   "id": "a79bc9d8-b43b-49e5-8a04-cf44c7ee3157",
   "metadata": {},
   "outputs": [],
   "source": [
    "import pandas as pd\n",
    "import argparse\n",
    "\n",
    "\n",
    "\n",
    "parser = argparse.ArgumentParser()\n",
    "\n",
    "parser.add_argument('--pLDDTmean_file', type=argparse.FileType('r'), help='Path to report/protein_structure_pLDDT_mean_locally_modelated_prot.tsv file')\n",
    "parser.add_argument('--orthoG_to_geneID', type=argparse.FileType('r'), help='Path to report/protein_structure_pLDDT_mean_locally_modelated_prot.tsv file')\n",
    "parser.add_argument('--output', type=argparse.FileType('w'), help='Path to output file')\n",
    "\n",
    "args = parser.parse_args()\n",
    "\n",
    "pLDDTmean_file = args.pLDDTmean_file.name\n",
    "orthoG_to_geneID = args.orthoG_to_geneID.name\n",
    "output = args.output.name\n",
    "\n",
    "\n",
    "\n",
    "\n",
    "\n",
    "\n",
    "df = pd.read_csv(pLDDTmean_file, sep='\\t', names=['geneID','pLDDT_mean'])\n",
    "\n",
    "df_og = pd.read_csv(orthoG_to_geneID, sep='\\t', names=['OG','geneID'])\n",
    "\n",
    "df_merge = df_og.merge(df, how='left')\n",
    "\n",
    "df_merge_best_structure = df_merge.sort_values('pLDDT_mean', ascending=False).drop_duplicates(subset=['OG'], keep='first')\n",
    "\n",
    "df_merge_best_structure.to_csv(output, sep='\\t', index=False)"
   ]
  },
  {
   "cell_type": "code",
   "execution_count": null,
   "id": "df19f774-6223-400b-8d1f-cda72f54b087",
   "metadata": {},
   "outputs": [],
   "source": [
    " "
   ]
  }
 ],
 "metadata": {
  "kernelspec": {
   "display_name": "Python 3 (ipykernel)",
   "language": "python",
   "name": "python3"
  },
  "language_info": {
   "codemirror_mode": {
    "name": "ipython",
    "version": 3
   },
   "file_extension": ".py",
   "mimetype": "text/x-python",
   "name": "python",
   "nbconvert_exporter": "python",
   "pygments_lexer": "ipython3",
   "version": "3.8.8"
  }
 },
 "nbformat": 4,
 "nbformat_minor": 5
}
