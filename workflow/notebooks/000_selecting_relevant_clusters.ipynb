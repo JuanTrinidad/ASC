{
 "cells": [
  {
   "cell_type": "code",
   "execution_count": 1,
   "id": "bca2a32c-b796-4d5d-ad44-c49013c958eb",
   "metadata": {},
   "outputs": [],
   "source": [
    "import pandas as pd"
   ]
  },
  {
   "cell_type": "code",
   "execution_count": null,
   "id": "aa5841e2-00c9-4d0f-bb6e-c523624d690d",
   "metadata": {},
   "outputs": [],
   "source": [
    "clust_size = snakemake.params.cluster_size\n",
    "input_file = snakemake.input[0]\n",
    "output_file = snakemake.output[0]"
   ]
  },
  {
   "cell_type": "markdown",
   "id": "b23bfbc3-44ce-46b2-9964-c82f651db58e",
   "metadata": {},
   "source": [
    "clust_size = 10"
   ]
  },
  {
   "cell_type": "code",
   "execution_count": 18,
   "id": "17fb7853-a84e-4bdb-9269-dfda788a5a20",
   "metadata": {},
   "outputs": [
    {
     "name": "stdout",
     "output_type": "stream",
     "text": [
      "Filtering clusters created by MMseq2\n",
      "--------------------------------------------------\n",
      "Removing clusters smaller than 10 members\n",
      "--------------------------------------------------\n"
     ]
    }
   ],
   "source": [
    "print('Filtering clusters created by MMseq2')\n",
    "print('-' * 50)\n",
    "print(f'Removing clusters smaller than {clust_size} members')\n",
    "print('-' * 50)"
   ]
  },
  {
   "cell_type": "code",
   "execution_count": 15,
   "id": "061c97e7-6cf9-4a12-ab9e-3806a8b98654",
   "metadata": {},
   "outputs": [],
   "source": [
    "df = pd.read_csv(input_file, sep='\\t', header=None)"
   ]
  },
  {
   "cell_type": "code",
   "execution_count": 17,
   "id": "57cf7764-f46c-4c19-a7cb-575b355f8a3e",
   "metadata": {},
   "outputs": [
    {
     "name": "stdout",
     "output_type": "stream",
     "text": [
      "Amount of clusters before filtering: 136822\n"
     ]
    }
   ],
   "source": [
    "print(f'Amount of clusters before filtering: {df[0].nunique()}')"
   ]
  },
  {
   "cell_type": "code",
   "execution_count": 4,
   "id": "69bc4252-dfa4-4060-8814-87bb626f9182",
   "metadata": {},
   "outputs": [],
   "source": [
    "df0 = df.groupby(0).size()"
   ]
  },
  {
   "cell_type": "code",
   "execution_count": 23,
   "id": "2def0cb8-75ee-4896-a111-7942d52b178b",
   "metadata": {},
   "outputs": [],
   "source": [
    "df0 = df0[df0 >= clust_size].index"
   ]
  },
  {
   "cell_type": "code",
   "execution_count": 26,
   "id": "3cae466f-aa44-4580-9118-1200ae56e397",
   "metadata": {},
   "outputs": [],
   "source": [
    "df = df[df[0].isin(df0)]"
   ]
  },
  {
   "cell_type": "code",
   "execution_count": 28,
   "id": "cf8bd3a4-7902-4495-9e1b-cd0848a39483",
   "metadata": {},
   "outputs": [
    {
     "name": "stdout",
     "output_type": "stream",
     "text": [
      "Amount of clusters before filtering: 14990\n"
     ]
    }
   ],
   "source": [
    "print(f'Amount of clusters after filtering: {df[0].nunique()}')"
   ]
  },
  {
   "cell_type": "code",
   "execution_count": 27,
   "id": "c42b17f5-01ee-489c-9e54-85e45756f502",
   "metadata": {},
   "outputs": [
    {
     "data": {
      "text/html": [
       "<div>\n",
       "<style scoped>\n",
       "    .dataframe tbody tr th:only-of-type {\n",
       "        vertical-align: middle;\n",
       "    }\n",
       "\n",
       "    .dataframe tbody tr th {\n",
       "        vertical-align: top;\n",
       "    }\n",
       "\n",
       "    .dataframe thead th {\n",
       "        text-align: right;\n",
       "    }\n",
       "</style>\n",
       "<table border=\"1\" class=\"dataframe\">\n",
       "  <thead>\n",
       "    <tr style=\"text-align: right;\">\n",
       "      <th></th>\n",
       "      <th>0</th>\n",
       "      <th>1</th>\n",
       "    </tr>\n",
       "  </thead>\n",
       "  <tbody>\n",
       "    <tr>\n",
       "      <th>86</th>\n",
       "      <td>TvY486_1104340</td>\n",
       "      <td>TvY486_1104340</td>\n",
       "    </tr>\n",
       "    <tr>\n",
       "      <th>87</th>\n",
       "      <td>TvY486_1104340</td>\n",
       "      <td>TcCL_ESM03125</td>\n",
       "    </tr>\n",
       "    <tr>\n",
       "      <th>88</th>\n",
       "      <td>TvY486_1104340</td>\n",
       "      <td>TCDM_07001</td>\n",
       "    </tr>\n",
       "    <tr>\n",
       "      <th>89</th>\n",
       "      <td>TvY486_1104340</td>\n",
       "      <td>ECC02_004248</td>\n",
       "    </tr>\n",
       "    <tr>\n",
       "      <th>90</th>\n",
       "      <td>TvY486_1104340</td>\n",
       "      <td>TcG_06562</td>\n",
       "    </tr>\n",
       "    <tr>\n",
       "      <th>...</th>\n",
       "      <td>...</td>\n",
       "      <td>...</td>\n",
       "    </tr>\n",
       "    <tr>\n",
       "      <th>677718</th>\n",
       "      <td>Lsey_0093_0150</td>\n",
       "      <td>LPMP_250650</td>\n",
       "    </tr>\n",
       "    <tr>\n",
       "      <th>677719</th>\n",
       "      <td>Lsey_0093_0150</td>\n",
       "      <td>LdCL_250011700</td>\n",
       "    </tr>\n",
       "    <tr>\n",
       "      <th>677720</th>\n",
       "      <td>Lsey_0093_0150</td>\n",
       "      <td>LARLEM1108_250011900</td>\n",
       "    </tr>\n",
       "    <tr>\n",
       "      <th>677721</th>\n",
       "      <td>Lsey_0093_0150</td>\n",
       "      <td>LbrM.25.2110</td>\n",
       "    </tr>\n",
       "    <tr>\n",
       "      <th>677722</th>\n",
       "      <td>Lsey_0093_0150</td>\n",
       "      <td>LdBPK_250650.1</td>\n",
       "    </tr>\n",
       "  </tbody>\n",
       "</table>\n",
       "<p>478435 rows × 2 columns</p>\n",
       "</div>"
      ],
      "text/plain": [
       "                     0                     1\n",
       "86      TvY486_1104340        TvY486_1104340\n",
       "87      TvY486_1104340         TcCL_ESM03125\n",
       "88      TvY486_1104340            TCDM_07001\n",
       "89      TvY486_1104340          ECC02_004248\n",
       "90      TvY486_1104340             TcG_06562\n",
       "...                ...                   ...\n",
       "677718  Lsey_0093_0150           LPMP_250650\n",
       "677719  Lsey_0093_0150        LdCL_250011700\n",
       "677720  Lsey_0093_0150  LARLEM1108_250011900\n",
       "677721  Lsey_0093_0150          LbrM.25.2110\n",
       "677722  Lsey_0093_0150        LdBPK_250650.1\n",
       "\n",
       "[478435 rows x 2 columns]"
      ]
     },
     "execution_count": 27,
     "metadata": {},
     "output_type": "execute_result"
    }
   ],
   "source": [
    "df.to_csv(output_file, header=None, index=None, sep='\\t')"
   ]
  },
  {
   "cell_type": "code",
   "execution_count": null,
   "id": "c760bbdc-b9f4-4df3-b765-a73108f109c9",
   "metadata": {},
   "outputs": [],
   "source": []
  }
 ],
 "metadata": {
  "kernelspec": {
   "display_name": "Python 3 (ipykernel)",
   "language": "python",
   "name": "python3"
  },
  "language_info": {
   "codemirror_mode": {
    "name": "ipython",
    "version": 3
   },
   "file_extension": ".py",
   "mimetype": "text/x-python",
   "name": "python",
   "nbconvert_exporter": "python",
   "pygments_lexer": "ipython3",
   "version": "3.8.8"
  }
 },
 "nbformat": 4,
 "nbformat_minor": 5
}
