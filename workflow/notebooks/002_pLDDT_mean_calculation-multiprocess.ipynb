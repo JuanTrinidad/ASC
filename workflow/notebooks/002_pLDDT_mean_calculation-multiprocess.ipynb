{
 "cells": [
  {
   "cell_type": "code",
   "execution_count": 22,
   "id": "9040ad62-5328-4d0a-b4f0-50c87cb755e3",
   "metadata": {},
   "outputs": [],
   "source": [
    "import pandas as pd \n",
    "from Bio.PDB import *\n",
    "import glob\n",
    "import multiprocessing"
   ]
  },
  {
   "cell_type": "code",
   "execution_count": 23,
   "id": "72f1dd47-bfa3-4a67-a615-e48247b41dfb",
   "metadata": {},
   "outputs": [
    {
     "name": "stdout",
     "output_type": "stream",
     "text": [
      "Calculating pLDDT mean of protein structures\n"
     ]
    }
   ],
   "source": [
    "print('Calculating pLDDT mean of protein structures')"
   ]
  },
  {
   "cell_type": "code",
   "execution_count": 25,
   "id": "ebf59cfe-00b3-4657-b9d0-4b9c2debb46d",
   "metadata": {},
   "outputs": [],
   "source": [
    "lista_archivos = glob.glob('genome_data_sets/query_proteomes/pdb_files/prot_structure_download_from_AlphaFoldDB/AF*.pdb')"
   ]
  },
  {
   "cell_type": "code",
   "execution_count": 4,
   "id": "dde0a644-f27f-4164-9c4d-9a8d06f2ce36",
   "metadata": {},
   "outputs": [],
   "source": [
    "def Average(lst):\n",
    "    return round(sum(lst) / len(lst))"
   ]
  },
  {
   "cell_type": "code",
   "execution_count": 5,
   "id": "667a7858-697a-49c4-96db-290cbc8d8e52",
   "metadata": {
    "tags": []
   },
   "outputs": [],
   "source": [
    "#dict to storage data\n",
    "\n",
    "def extract_values_from_PDB_files(PDBfile):\n",
    "    \n",
    "    PDBparser = PDBParser(PERMISSIVE = True, QUIET = True)\n",
    "    \n",
    "    uniprot = PDBfile.split('/')[-1].split('-')[1]\n",
    "    \n",
    "    data = PDBparser.get_structure(uniprot, PDBfile)\n",
    "    \n",
    "    bfactor = []\n",
    "    \n",
    "    for atom in data.get_atoms():\n",
    "    \n",
    "        bfactor.append(atom.get_bfactor())\n",
    "    \n",
    "    return uniprot, Average(bfactor)"
   ]
  },
  {
   "cell_type": "code",
   "execution_count": 6,
   "id": "ac073414-1233-471b-842f-9c7521094dc0",
   "metadata": {},
   "outputs": [],
   "source": [
    "def main(num_threads):\n",
    "    # Get a list of all the file names.\n",
    "    file_names = lista_archivos\n",
    "\n",
    "    # Create a pool of processes.\n",
    "    pool = multiprocessing.Pool(num_threads)\n",
    "\n",
    "    # Map the extract_values function to each file name in the list.\n",
    "    results = pool.map(extract_values_from_PDB_files, file_names)\n",
    "\n",
    "    # Close the pool.\n",
    "    pool.close()\n",
    "    pool.join()\n",
    "\n",
    "    # Create a dictionary with the key and values from each file.\n",
    "    final_dictionary = {}\n",
    "    for key, value in results:\n",
    "        final_dictionary[key] = value\n",
    "\n",
    "    # return the final dictionary.\n",
    "    df_output = pd.DataFrame.from_dict(final_dictionary, orient='index')\n",
    "    df_output.to_csv( snakemake.output[0] , sep='\\t', header=None)\n",
    "    \n",
    "    print('All calculations done')"
   ]
  },
  {
   "cell_type": "code",
   "execution_count": null,
   "id": "9166510b-c98c-4483-9b91-af3730a3fcb5",
   "metadata": {},
   "outputs": [],
   "source": []
  },
  {
   "cell_type": "code",
   "execution_count": null,
   "id": "6f5a32a2-5476-4cfa-94e0-c821ae62ebec",
   "metadata": {},
   "outputs": [],
   "source": [
    "if __name__ == \"__main__\":\n",
    "    main(snakemake.threads)"
   ]
  },
  {
   "cell_type": "code",
   "execution_count": null,
   "id": "1e70a664-10a8-48c1-930d-64aa4fcbad29",
   "metadata": {},
   "outputs": [],
   "source": []
  }
 ],
 "metadata": {
  "kernelspec": {
   "display_name": "Python 3 (ipykernel)",
   "language": "python",
   "name": "python3"
  },
  "language_info": {
   "codemirror_mode": {
    "name": "ipython",
    "version": 3
   },
   "file_extension": ".py",
   "mimetype": "text/x-python",
   "name": "python",
   "nbconvert_exporter": "python",
   "pygments_lexer": "ipython3",
   "version": "3.8.8"
  }
 },
 "nbformat": 4,
 "nbformat_minor": 5
}
