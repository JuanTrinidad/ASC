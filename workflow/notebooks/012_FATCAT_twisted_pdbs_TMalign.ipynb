{
 "cells": [
  {
   "cell_type": "code",
   "execution_count": 93,
   "metadata": {},
   "outputs": [],
   "source": [
    "import pandas as pd\n",
    "import glob\n",
    "import multiprocessing\n",
    "import subprocess\n",
    "\n",
    "path = '../tmp/FATCAT_aligments_twisted/'\n",
    "files = glob.glob(path + '*.pdb')\n",
    "\n",
    "\n",
    "# Number of cores to use for parallel execution\n",
    "num_cores = 10 #multiprocessing.cpu_count()\n"
   ]
  },
  {
   "cell_type": "code",
   "execution_count": 95,
   "metadata": {},
   "outputs": [],
   "source": [
    "\n",
    "\n",
    "# Creating a DataFrame with a column named 'File_Name' containing the file paths\n",
    "df = pd.DataFrame({'File_Name': files})\n",
    "\n",
    "# Splitting the file paths by '/' and extracting the last part of the path\n",
    "df['File_Name_Split'] = df['File_Name'].str.split('/').str[-1]\n",
    "\n",
    "# Splitting the 'File_Name_Split' column by '_' and extracting the second and third parts\n",
    "df[['pdb_1', 'pdb_2']] = df['File_Name_Split'].str.split('_', expand=True)[[1,2]]\n"
   ]
  },
  {
   "cell_type": "code",
   "execution_count": 70,
   "metadata": {},
   "outputs": [],
   "source": [
    "# Sorting the dataframe 'df' based on the columns 'pdb_1' and 'pdb_2'\n",
    "df = df.sort_values(['pdb_1', 'pdb_2'])\n",
    "\n",
    "# Dropping duplicate rows in the dataframe 'df' based on the columns 'pdb_1' and 'pdb_2',\n",
    "# and keeping the first occurrence of each unique combination\n",
    "df_first = df.drop_duplicates(subset=['pdb_1', 'pdb_2'], keep='first')\n",
    "\n",
    "# Dropping duplicate rows in the dataframe 'df' based on the columns 'pdb_1' and 'pdb_2',\n",
    "# and keeping the last occurrence of each unique combination\n",
    "df_last =  df.drop_duplicates(subset=['pdb_1', 'pdb_2'], keep='last')\n"
   ]
  },
  {
   "cell_type": "code",
   "execution_count": 71,
   "metadata": {},
   "outputs": [],
   "source": [
    "# Merging the 'df_first' and 'df_last' dataframes based on the columns 'pdb_1' and 'pdb_2'\n",
    "merged_df = df_first.merge(df_last, on=['pdb_1', 'pdb_2'])\n",
    "\n",
    "# Selecting only the 'File_Name_x' and 'File_Name_y' columns from the merged dataframe\n",
    "merged_df = merged_df[['File_Name_x', 'File_Name_y']]"
   ]
  },
  {
   "cell_type": "code",
   "execution_count": 92,
   "metadata": {},
   "outputs": [],
   "source": [
    "list_of_lists = merged_df.values.tolist()"
   ]
  },
  {
   "cell_type": "code",
   "execution_count": 96,
   "metadata": {},
   "outputs": [],
   "source": [
    "command_args = []\n",
    "\n",
    "for pdb1, pdb2 in list_of_lists:\n",
    "\n",
    "    pdb1_name, pdb2_name = pdb1.split('/')[-1].split('.')[0].split('_')[1:3]\n",
    "\n",
    "    command_args.append([\"TMalign\", \n",
    "                         f\"{pdb1}\",\n",
    "                         f\"{pdb2}\",\n",
    "                         f\"{path}{pdb1_name}_{pdb2_name}_TMalgin_results.txt\"])\n"
   ]
  },
  {
   "cell_type": "code",
   "execution_count": 91,
   "metadata": {},
   "outputs": [],
   "source": [
    "def run_command(command):\n",
    "    # Extract the file name from the command_args list\n",
    "    file_name = command[3]\n",
    "    command = command[:3]\n",
    "\n",
    "    # Execute the command in the terminal using subprocess\n",
    "    subprocess.run(command, stdout=open(file_name, 'w'))\n",
    "\n",
    "\n",
    "with multiprocessing.Pool(num_cores) as pool:\n",
    "    pool.map(run_command, command_args)\n"
   ]
  }
 ],
 "metadata": {
  "kernelspec": {
   "display_name": "base",
   "language": "python",
   "name": "python3"
  },
  "language_info": {
   "codemirror_mode": {
    "name": "ipython",
    "version": 3
   },
   "file_extension": ".py",
   "mimetype": "text/x-python",
   "name": "python",
   "nbconvert_exporter": "python",
   "pygments_lexer": "ipython3",
   "version": "3.8.8"
  }
 },
 "nbformat": 4,
 "nbformat_minor": 2
}
