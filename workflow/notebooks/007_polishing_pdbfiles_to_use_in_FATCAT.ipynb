{
 "cells": [
  {
   "cell_type": "code",
   "execution_count": 12,
   "id": "dc265dea-a1aa-4a05-855c-5f7f676cedf0",
   "metadata": {},
   "outputs": [],
   "source": [
    "import pandas as pd\n",
    "import warnings\n",
    "warnings.simplefilter(action='ignore', category=FutureWarning)\n",
    "#pd.set_option('display.max_columns', 500)"
   ]
  },
  {
   "cell_type": "code",
   "execution_count": 2,
   "id": "3c3e58d0-c8d0-4403-bab9-a4a899313404",
   "metadata": {},
   "outputs": [
    {
     "ename": "NameError",
     "evalue": "name 'snakemake' is not defined",
     "output_type": "error",
     "traceback": [
      "\u001b[0;31m---------------------------------------------------------------------------\u001b[0m",
      "\u001b[0;31mNameError\u001b[0m                                 Traceback (most recent call last)",
      "Cell \u001b[0;32mIn[2], line 1\u001b[0m\n\u001b[0;32m----> 1\u001b[0m file1 \u001b[38;5;241m=\u001b[39m \u001b[43msnakemake\u001b[49m\u001b[38;5;241m.\u001b[39minput\u001b[38;5;241m.\u001b[39mfile1 \u001b[38;5;66;03m#'../report/TriTrypDB-65_All_species_clean_Ortholog_Group_Full_of_hypotetical_boolean.tsv'\u001b[39;00m\n\u001b[1;32m      2\u001b[0m file2 \u001b[38;5;241m=\u001b[39m snakemake\u001b[38;5;241m.\u001b[39minput\u001b[38;5;241m.\u001b[39mfile2 \u001b[38;5;66;03m#'../../results/reciprocal_best_hit_SingleOrgApproach_TSV/rbh_all_in_one_file.tsv'\u001b[39;00m\n\u001b[1;32m      3\u001b[0m file3 \u001b[38;5;241m=\u001b[39m snakemake\u001b[38;5;241m.\u001b[39minput\u001b[38;5;241m.\u001b[39mfile3 \u001b[38;5;66;03m#'../../results/Gene_annotation_info_from_uniprot_model_spp.tsv'\u001b[39;00m\n",
      "\u001b[0;31mNameError\u001b[0m: name 'snakemake' is not defined"
     ]
    }
   ],
   "source": [
    "file1 = snakemake.input.file1 #'../report/TriTrypDB-65_All_species_clean_Ortholog_Group_Full_of_hypotetical_boolean.tsv'\n",
    "file2 = snakemake.input.file2 #'../../results/reciprocal_best_hit_SingleOrgApproach_TSV/rbh_all_in_one_file.tsv'\n",
    "file3 = snakemake.input.file3 #'../../results/Gene_annotation_info_from_uniprot_model_spp.tsv'\n",
    "file4 = snakemake.input.file4 #'../report/TriTrypDB-65_All_species_clean_ortholog_groups_x_sequence_clustering_x_UNIPROT.tsv'\n",
    "\n",
    "# destination directory\n",
    "destination_dir = snakemake.params.destination_dir\n",
    "# cluster_structure_representers path\n",
    "cluster_str_rep_path = 'genome_data_sets/query_proteomes/pdb_files/cluster_structure_representers/'\n",
    "#cores\n",
    "num_cores = snakemake.threads\n",
    "#top hits\n",
    "top_hits = snakemake.params.top_hits\n",
    "#prefix added pdbs\n",
    "prefix = snakemake.params.prefix_of_added_pdbs"
   ]
  },
  {
   "cell_type": "code",
   "execution_count": 6,
   "id": "5ab78670-2e8f-4472-a5eb-06fca60aba1f",
   "metadata": {
    "tags": []
   },
   "outputs": [],
   "source": [
    "#hypothetical OG data\n",
    "df_hypothetical_OG = pd.read_csv(file1, sep='\\t')\n",
    "\n",
    "#RBH results\n",
    "df_rbh = pd.read_csv(file2, sep='\\t', index_col=0)\n",
    "\n",
    "#model organims annotation data\n",
    "df_MO_annotation = pd.read_csv(file3, sep='\\t', low_memory=False, index_col=0)\n",
    "\n",
    "\n",
    "#estructure to genID to OG\n",
    "\n",
    "df_OG_genID_uniprot  = pd.read_csv(file4, sep='\\t')\n",
    "\n",
    "\n",
    "\n",
    "\n",
    "#this are the db that i want to use as reference of annotation plus some usefull info. But removing not relevant columns for this analysis.\n",
    "columns_for_df =  ['Entry','Entry Name','Protein names', 'Organism', 'Organism (ID)', 'Proteomes','Taxonomic lineage' ,'EC number', 'Protein families', 'OrthoDB','PANTHER', 'InterPro', 'Pfam', 'eggNOG', 'Gene Ontology (cellular component)'] #'KEGG'\n",
    "\n",
    "\n",
    "#removing low annotation proteins from model org\n",
    "df_MO_annotation = df_MO_annotation[columns_for_df].dropna(thresh=10)\n",
    "\n",
    "#keeping only relevant columns\n",
    "#df_kineto_annotation = df_kineto_annotation[columns_for_df]"
   ]
  },
  {
   "cell_type": "code",
   "execution_count": 7,
   "id": "c78edb28-eb7d-41c5-aaf8-884a60c811a9",
   "metadata": {},
   "outputs": [],
   "source": [
    "\n",
    "#aca uso inner porque quiero evitar las proteinas sin buena anotacion en el resultado\n",
    "df_rbh_km = df_rbh.merge(df_MO_annotation, left_on='target_uniprot_accession', right_on='Entry', how='left', suffixes=['_kineto', '_model'])\n",
    "#print(df_rbh_km.shape)\n",
    "\n",
    "\n",
    "# adding cluster representer\n",
    "df_rbh_km = df_rbh_km.merge(df_OG_genID_uniprot, left_on='query_uniprot_accession', right_on='uniprot', how='left')\n",
    "#print(df_rbh_km.shape)\n",
    "\n",
    "df_rbh_km = df_rbh_km.merge(df_hypothetical_OG, left_on='Ortholog_Group', right_on='cluster_representer_or_OG', how='left')\n",
    "#print(df_rbh_km.shape)\n"
   ]
  },
  {
   "cell_type": "code",
   "execution_count": null,
   "id": "1a9a0f18-3e9e-4b81-aaf4-69c27fb7e6fa",
   "metadata": {},
   "outputs": [],
   "source": []
  },
  {
   "cell_type": "code",
   "execution_count": null,
   "id": "6794430d-5bb6-4a15-aa14-b28c74096a3d",
   "metadata": {},
   "outputs": [],
   "source": []
  },
  {
   "cell_type": "code",
   "execution_count": 8,
   "id": "a70ae50d-ccf5-4a60-b470-994766a0f709",
   "metadata": {},
   "outputs": [],
   "source": [
    "df_rbh_km = (\n",
    "    df_rbh_km\n",
    "    .sort_values('target', ascending=False)\n",
    "    .drop_duplicates(subset=['query_uniprot_accession', 'target_uniprot_accession']\n",
    "                    )\n",
    ")"
   ]
  },
  {
   "cell_type": "code",
   "execution_count": null,
   "id": "09c384e1-69b7-417c-ad23-6f545215aa9e",
   "metadata": {},
   "outputs": [],
   "source": []
  },
  {
   "cell_type": "code",
   "execution_count": 9,
   "id": "041439ec-8d5e-4eaf-a8e7-eacb40dc1d79",
   "metadata": {},
   "outputs": [],
   "source": [
    "df_rbh_km_tophits =(\n",
    "    df_rbh_km\n",
    "    .sort_values(['evalue'])\n",
    "    .groupby('query')\n",
    "    .head(top_hits)\n",
    ")"
   ]
  },
  {
   "cell_type": "code",
   "execution_count": null,
   "id": "31818fb2-7cce-4f3c-be95-fbfaf569345a",
   "metadata": {},
   "outputs": [],
   "source": []
  },
  {
   "cell_type": "code",
   "execution_count": null,
   "id": "195a298c-6c8a-4218-ab46-0da82888d189",
   "metadata": {},
   "outputs": [],
   "source": []
  },
  {
   "cell_type": "code",
   "execution_count": 10,
   "id": "85acd595-e275-4d07-939b-18dea662196f",
   "metadata": {
    "tags": []
   },
   "outputs": [],
   "source": [
    "df_rbh_km_tophits_to_move_files = df_rbh_km_tophits[['query', 'query_uniprot_accession']].drop_duplicates()"
   ]
  },
  {
   "cell_type": "code",
   "execution_count": 13,
   "id": "91f10b80",
   "metadata": {},
   "outputs": [],
   "source": [
    "df_rbh_km_tophits_to_move_files['new_simple_name'] = df_rbh_km_tophits_to_move_files.query_uniprot_accession.str.replace(prefix,'').str.split('_', expand=True)[0].str.replace('.','')\n",
    "df_rbh_km_tophits_to_move_files['new_simple_name'] = df_rbh_km_tophits_to_move_files['new_simple_name'] + '.pdb'\n",
    "df_rbh_km_tophits_to_move_files['path_to_file'] = cluster_str_rep_path + df_rbh_km_tophits_to_move_files['query']"
   ]
  },
  {
   "cell_type": "code",
   "execution_count": 19,
   "id": "6f1f1602",
   "metadata": {},
   "outputs": [],
   "source": [
    "files_list = list(zip(df_rbh_km_tophits_to_move_files.path_to_file, df_rbh_km_tophits_to_move_files.new_simple_name))"
   ]
  },
  {
   "cell_type": "markdown",
   "id": "6042269a-88a1-4541-a9df-566e691aa32d",
   "metadata": {},
   "source": [
    "#### Funtion to copie pdb files from cluster structure representer to use FATCAT. Also name simplified."
   ]
  },
  {
   "cell_type": "code",
   "execution_count": 20,
   "id": "4197aee4-8192-439e-80de-743f78876307",
   "metadata": {},
   "outputs": [],
   "source": [
    "import os\n",
    "import shutil\n",
    "import multiprocessing\n",
    "\n",
    "def copy_file(file, destination_dir):\n",
    "    \"\"\"Copy a file to a destination directory.\"\"\"\n",
    "    file_path, new_name = file\n",
    "    shutil.copy(file_path, os.path.join(destination_dir, new_name))\n",
    "\n",
    "\n",
    "def copy_files(files, destination_dir, num_cores=4):\n",
    "    \"\"\"Copy a list of files to a destination directory in parallel.\"\"\"\n",
    "    if os.path.exists(destination_dir):\n",
    "        shutil.rmtree(destination_dir)\n",
    "    os.makedirs(destination_dir)\n",
    "    with multiprocessing.Pool(num_cores) as pool:\n",
    "        pool.starmap(copy_file, [(file, destination_dir) for file in files])\n",
    "\n",
    "\n",
    "\n",
    "# copy the files to the destination directory in parallel\n",
    "copy_files(files_list, destination_dir, num_cores= num_cores)\n"
   ]
  },
  {
   "cell_type": "code",
   "execution_count": null,
   "id": "09f88530-7c5d-4b59-a092-3cea447a37c2",
   "metadata": {},
   "outputs": [],
   "source": []
  }
 ],
 "metadata": {
  "kernelspec": {
   "display_name": "Python 3 (ipykernel)",
   "language": "python",
   "name": "python3"
  },
  "language_info": {
   "codemirror_mode": {
    "name": "ipython",
    "version": 3
   },
   "file_extension": ".py",
   "mimetype": "text/x-python",
   "name": "python",
   "nbconvert_exporter": "python",
   "pygments_lexer": "ipython3",
   "version": "3.8.8"
  }
 },
 "nbformat": 4,
 "nbformat_minor": 5
}
