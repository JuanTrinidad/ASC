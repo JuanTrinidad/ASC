{
 "cells": [
  {
   "cell_type": "code",
   "execution_count": null,
   "metadata": {},
   "outputs": [],
   "source": [
    "import os\n",
    "import shutil\n",
    "import glob\n",
    "\n",
    "folder_path = \"tmp/FATCAT_aligments_twisted/\"\n",
    "\n",
    "# Check if the folder exists\n",
    "if os.path.exists(folder_path):\n",
    "    # Remove the folder and its contents\n",
    "    shutil.rmtree(folder_path)\n",
    "    \n",
    "# Create the folder\n",
    "os.makedirs(folder_path)\n",
    "\n",
    "\n",
    "\n",
    "\n",
    "def process_file(file_path):\n",
    "\n",
    "    output_name, output_name2  = file_path.split('/')[-1][:-14].split('_')\n",
    "    atom_a_file = 'tmp/FATCAT_aligments_twisted/' + output_name + '_' + output_name + '_' + output_name2 +\"_twisted.pdb\"\n",
    "    atom_b_file = 'tmp/FATCAT_aligments_twisted/' + output_name2 + '_' + output_name + '_' + output_name2 + \"_twisted.pdb\"\n",
    "    \n",
    "    with open(file_path, \"r\") as file:\n",
    "        with open(atom_a_file, \"w\") as atom_a:\n",
    "            with open(atom_b_file, \"w\") as atom_b:\n",
    "                for line in file:\n",
    "                    if line.startswith(\"ATOM\"):\n",
    "                        elements = line.strip().split()\n",
    "                        if len(elements) >= 5:\n",
    "                            if elements[4] == \"A\":\n",
    "                                atom_a.write(line)\n",
    "                            elif elements[4] == \"B\":\n",
    "                                atom_b.write(line)\n",
    "                atom_a.write(\"END\")\n",
    "                atom_b.write(\"END\")\n"
   ]
  },
  {
   "cell_type": "code",
   "execution_count": 26,
   "metadata": {},
   "outputs": [],
   "source": [
    "\n",
    "\n",
    "file_paths = glob.glob(\"tmp/FATCAT_aligments/*.opt.twist.pdb\")\n",
    "\n",
    "for file_path in file_paths:\n",
    "    process_file(file_path)\n"
   ]
  }
 ],
 "metadata": {
  "kernelspec": {
   "display_name": "base",
   "language": "python",
   "name": "python3"
  },
  "language_info": {
   "codemirror_mode": {
    "name": "ipython",
    "version": 3
   },
   "file_extension": ".py",
   "mimetype": "text/x-python",
   "name": "python",
   "nbconvert_exporter": "python",
   "pygments_lexer": "ipython3",
   "version": "3.8.8"
  }
 },
 "nbformat": 4,
 "nbformat_minor": 2
}
